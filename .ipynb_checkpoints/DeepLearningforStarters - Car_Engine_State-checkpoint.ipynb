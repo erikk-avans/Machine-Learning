{
 "cells": [
  {
   "cell_type": "markdown",
   "metadata": {
    "colab_type": "text",
    "id": "tYRUHwfu_bxf"
   },
   "source": [
    "##Lab - Build your first Neural Network  with Keras!\n",
    "In this section, we will look at the basic architecture of neural networks, the building blocks on which all complex neural networks are based. We will also code up our neural network using Keras, an high-level neural networks API, written in Python and capable of running on top of TensorFlow, . This exercise will help you gain an intuitive understanding of the inner workings of neural networks.\n",
    "\n",
    "To illustrate a small neural network, you will build a model to predict car engine state:  \n",
    "- **Green** indicates the engine runs optimally.  \n",
    "- **Orange** indicates the engine  is operating in sub-optimal condition; as a consequence auto-tuning is triggered (adaptive air/fuel ratio).  \n",
    "- **Red** indicates the engine is in overload; as a consequence the rev limitor is triggered to avoid any damage while auto-tuning kicks in.\n",
    "\n",
    "The input layer uses the month of the year and the external temperature."
   ]
  },
  {
   "cell_type": "markdown",
   "metadata": {
    "colab_type": "text",
    "id": "EUIN7M03_Vz1"
   },
   "source": [
    "![alt text](http://i.ibb.co/YdLrwJX/Screenshot-2019-10-09-at-16-40-16.png)"
   ]
  },
  {
   "cell_type": "markdown",
   "metadata": {
    "colab_type": "text",
    "id": "jqB_5dZfDL-z"
   },
   "source": [
    "## 1. Loading libraries and generating data\n"
   ]
  },
  {
   "cell_type": "code",
   "execution_count": 0,
   "metadata": {
    "colab": {},
    "colab_type": "code",
    "id": "9Svs9MsMB-u4"
   },
   "outputs": [],
   "source": [
    "import numpy as np\n",
    "import pandas as pd\n",
    "\n",
    "temp= np.random.random(size=(1000,1)) #temperature are divided by 100 to fit the 0,1 interval\n",
    "month=(np.random.randint(1,13,1000))/10    #months are fitted in the 0,1 interval\n",
    "month1=np.around(month, decimals=1)    #months are rounded to one decimal\n",
    "month2=np.reshape(month1, (1000,1))\n",
    "state=np.ones((1000,1))\n",
    "data=np.concatenate((month2,temp,state),axis=1)\n",
    "    "
   ]
  },
  {
   "cell_type": "code",
   "execution_count": 2,
   "metadata": {
    "colab": {
     "base_uri": "https://localhost:8080/",
     "height": 359
    },
    "colab_type": "code",
    "executionInfo": {
     "elapsed": 509,
     "status": "ok",
     "timestamp": 1570704064164,
     "user": {
      "displayName": "Erik Kluijtmans",
      "photoUrl": "",
      "userId": "14333511038568734894"
     },
     "user_tz": -120
    },
    "id": "Wjka0OXOGV9M",
    "outputId": "f36e3803-a94f-4a64-96ed-679162bff88a"
   },
   "outputs": [
    {
     "data": {
      "text/html": [
       "<div>\n",
       "<style scoped>\n",
       "    .dataframe tbody tr th:only-of-type {\n",
       "        vertical-align: middle;\n",
       "    }\n",
       "\n",
       "    .dataframe tbody tr th {\n",
       "        vertical-align: top;\n",
       "    }\n",
       "\n",
       "    .dataframe thead th {\n",
       "        text-align: right;\n",
       "    }\n",
       "</style>\n",
       "<table border=\"1\" class=\"dataframe\">\n",
       "  <thead>\n",
       "    <tr style=\"text-align: right;\">\n",
       "      <th></th>\n",
       "      <th>month</th>\n",
       "      <th>temperature</th>\n",
       "      <th>state</th>\n",
       "    </tr>\n",
       "  </thead>\n",
       "  <tbody>\n",
       "    <tr>\n",
       "      <th>0</th>\n",
       "      <td>1.1</td>\n",
       "      <td>0.739250</td>\n",
       "      <td>2</td>\n",
       "    </tr>\n",
       "    <tr>\n",
       "      <th>1</th>\n",
       "      <td>0.1</td>\n",
       "      <td>0.494614</td>\n",
       "      <td>1</td>\n",
       "    </tr>\n",
       "    <tr>\n",
       "      <th>2</th>\n",
       "      <td>0.3</td>\n",
       "      <td>0.764875</td>\n",
       "      <td>2</td>\n",
       "    </tr>\n",
       "    <tr>\n",
       "      <th>3</th>\n",
       "      <td>0.6</td>\n",
       "      <td>0.175187</td>\n",
       "      <td>0</td>\n",
       "    </tr>\n",
       "    <tr>\n",
       "      <th>4</th>\n",
       "      <td>0.5</td>\n",
       "      <td>0.977701</td>\n",
       "      <td>2</td>\n",
       "    </tr>\n",
       "    <tr>\n",
       "      <th>5</th>\n",
       "      <td>0.7</td>\n",
       "      <td>0.887019</td>\n",
       "      <td>2</td>\n",
       "    </tr>\n",
       "    <tr>\n",
       "      <th>6</th>\n",
       "      <td>0.3</td>\n",
       "      <td>0.822305</td>\n",
       "      <td>2</td>\n",
       "    </tr>\n",
       "    <tr>\n",
       "      <th>7</th>\n",
       "      <td>1.1</td>\n",
       "      <td>0.581141</td>\n",
       "      <td>1</td>\n",
       "    </tr>\n",
       "    <tr>\n",
       "      <th>8</th>\n",
       "      <td>0.3</td>\n",
       "      <td>0.761354</td>\n",
       "      <td>2</td>\n",
       "    </tr>\n",
       "    <tr>\n",
       "      <th>9</th>\n",
       "      <td>0.9</td>\n",
       "      <td>0.715585</td>\n",
       "      <td>1</td>\n",
       "    </tr>\n",
       "  </tbody>\n",
       "</table>\n",
       "</div>"
      ],
      "text/plain": [
       "   month  temperature  state\n",
       "0    1.1     0.739250      2\n",
       "1    0.1     0.494614      1\n",
       "2    0.3     0.764875      2\n",
       "3    0.6     0.175187      0\n",
       "4    0.5     0.977701      2\n",
       "5    0.7     0.887019      2\n",
       "6    0.3     0.822305      2\n",
       "7    1.1     0.581141      1\n",
       "8    0.3     0.761354      2\n",
       "9    0.9     0.715585      1"
      ]
     },
     "execution_count": 2,
     "metadata": {
      "tags": []
     },
     "output_type": "execute_result"
    }
   ],
   "source": [
    "for i in range(len(data)):\n",
    "  #if (data[i,1] > 0.45) & (data[i,1]<0.65) :\n",
    "     #data[i,2]=1\n",
    "  #elif data[i,1] < 0.45 :\n",
    "    #data[i,2]=0\n",
    "  if (data[i,1] < 0.45 and data[i,1] > 0.25 and (data[i,0]<0.3 or data[i,0]>1.0)):\n",
    "    data[i,2]=1\n",
    "  elif (data[i,1] > 0.45 and data[i,1] < 0.65 and (data[i,0]>0.5 and data[i,0]<0.9)):\n",
    "    data[i,2]=0\n",
    "  elif data[i,1] < 0.45 :\n",
    "    data[i,2]=0\n",
    "  elif (data[i,1] > 0.45) & (data[i,1]<0.65) :\n",
    "     data[i,2]=1\n",
    "  elif (data[i,1] > 0.65 and data[i,1] < 0.88 and (data[i,0]>0.3 and data[i,0]<1.0)):\n",
    "    data[i,2]=1\n",
    "  else :\n",
    "     data[i,2]=2\n",
    "\n",
    "data    \n",
    "\n",
    "df = pd.DataFrame(data, columns = ['month', 'temperature','state'])\n",
    "df['state']=df['state'].astype('int')\n",
    "df.head(10)\n",
    "\n"
   ]
  },
  {
   "cell_type": "code",
   "execution_count": 3,
   "metadata": {
    "colab": {
     "base_uri": "https://localhost:8080/",
     "height": 386
    },
    "colab_type": "code",
    "executionInfo": {
     "elapsed": 1354,
     "status": "ok",
     "timestamp": 1570704068802,
     "user": {
      "displayName": "Erik Kluijtmans",
      "photoUrl": "",
      "userId": "14333511038568734894"
     },
     "user_tz": -120
    },
    "id": "G_uQ27sHOWbU",
    "outputId": "202c19d5-6002-474b-d294-2d64ae73f750"
   },
   "outputs": [
    {
     "data": {
      "text/plain": [
       "<seaborn.axisgrid.FacetGrid at 0x7f738ceb06d8>"
      ]
     },
     "execution_count": 3,
     "metadata": {
      "tags": []
     },
     "output_type": "execute_result"
    },
    {
     "data": {
      "image/png": "[encoded data removed]",
      "text/plain": [
       "<Figure size 402.375x360 with 1 Axes>"
      ]
     },
     "metadata": {
      "tags": []
     },
     "output_type": "display_data"
    }
   ],
   "source": [
    "import seaborn as sns\n",
    "\n",
    "sns.lmplot(\"month\", \"temperature\", hue=\"state\", data=df, fit_reg=False)\n"
   ]
  },
  {
   "cell_type": "markdown",
   "metadata": {
    "colab_type": "text",
    "id": "d2X3ihlYBu7a"
   },
   "source": [
    "**Temperature** ranges from 0 to 10 (been divided by 100)  \n",
    "**Month** ranges from 0.1 to 1.2 (been divided by 10)"
   ]
  },
  {
   "cell_type": "markdown",
   "metadata": {
    "colab_type": "text",
    "id": "U9dBG8z3DUXD"
   },
   "source": [
    "## 2. Splitting X and y into training and testing sets"
   ]
  },
  {
   "cell_type": "code",
   "execution_count": 4,
   "metadata": {
    "colab": {
     "base_uri": "https://localhost:8080/",
     "height": 204
    },
    "colab_type": "code",
    "executionInfo": {
     "elapsed": 969,
     "status": "ok",
     "timestamp": 1570704072758,
     "user": {
      "displayName": "Erik Kluijtmans",
      "photoUrl": "",
      "userId": "14333511038568734894"
     },
     "user_tz": -120
    },
    "id": "NlEge7tqPWuN",
    "outputId": "405af012-4707-4e82-ac53-0f22c1eb3ca0"
   },
   "outputs": [
    {
     "data": {
      "text/html": [
       "<div>\n",
       "<style scoped>\n",
       "    .dataframe tbody tr th:only-of-type {\n",
       "        vertical-align: middle;\n",
       "    }\n",
       "\n",
       "    .dataframe tbody tr th {\n",
       "        vertical-align: top;\n",
       "    }\n",
       "\n",
       "    .dataframe thead th {\n",
       "        text-align: right;\n",
       "    }\n",
       "</style>\n",
       "<table border=\"1\" class=\"dataframe\">\n",
       "  <thead>\n",
       "    <tr style=\"text-align: right;\">\n",
       "      <th></th>\n",
       "      <th>month</th>\n",
       "      <th>temperature</th>\n",
       "    </tr>\n",
       "  </thead>\n",
       "  <tbody>\n",
       "    <tr>\n",
       "      <th>0</th>\n",
       "      <td>1.1</td>\n",
       "      <td>0.739250</td>\n",
       "    </tr>\n",
       "    <tr>\n",
       "      <th>1</th>\n",
       "      <td>0.1</td>\n",
       "      <td>0.494614</td>\n",
       "    </tr>\n",
       "    <tr>\n",
       "      <th>2</th>\n",
       "      <td>0.3</td>\n",
       "      <td>0.764875</td>\n",
       "    </tr>\n",
       "    <tr>\n",
       "      <th>3</th>\n",
       "      <td>0.6</td>\n",
       "      <td>0.175187</td>\n",
       "    </tr>\n",
       "    <tr>\n",
       "      <th>4</th>\n",
       "      <td>0.5</td>\n",
       "      <td>0.977701</td>\n",
       "    </tr>\n",
       "  </tbody>\n",
       "</table>\n",
       "</div>"
      ],
      "text/plain": [
       "   month  temperature\n",
       "0    1.1     0.739250\n",
       "1    0.1     0.494614\n",
       "2    0.3     0.764875\n",
       "3    0.6     0.175187\n",
       "4    0.5     0.977701"
      ]
     },
     "execution_count": 4,
     "metadata": {
      "tags": []
     },
     "output_type": "execute_result"
    }
   ],
   "source": [
    "from sklearn.model_selection import train_test_split\n",
    "\n",
    "X = df.loc[:, df.columns != 'state']\n",
    "y = df.loc[:, 'state']\n",
    "\n",
    "X.head()"
   ]
  },
  {
   "cell_type": "code",
   "execution_count": 0,
   "metadata": {
    "colab": {},
    "colab_type": "code",
    "id": "ugJ75p1rF5Le"
   },
   "outputs": [],
   "source": [
    "X_train, X_test, y_train, y_test = train_test_split(X, y, test_size=0.2)"
   ]
  },
  {
   "cell_type": "code",
   "execution_count": 0,
   "metadata": {
    "colab": {},
    "colab_type": "code",
    "id": "m21tgkxtI-Jm"
   },
   "outputs": [],
   "source": [
    "#X_train, X_val, y_train, y_val = train_test_split(X_train, y_train, test_size=0.2)"
   ]
  },
  {
   "cell_type": "code",
   "execution_count": 7,
   "metadata": {
    "colab": {
     "base_uri": "https://localhost:8080/",
     "height": 51
    },
    "colab_type": "code",
    "executionInfo": {
     "elapsed": 537,
     "status": "ok",
     "timestamp": 1570704081428,
     "user": {
      "displayName": "Erik Kluijtmans",
      "photoUrl": "",
      "userId": "14333511038568734894"
     },
     "user_tz": -120
    },
    "id": "edXxPATgDpNy",
    "outputId": "b0168ff9-53a6-4221-d718-c0ada2007f19"
   },
   "outputs": [
    {
     "name": "stdout",
     "output_type": "stream",
     "text": [
      "(800, 2)\n",
      "(200, 2)\n"
     ]
    }
   ],
   "source": [
    "# default split is 80% for training and 20% for testing\n",
    "print(X_train.shape)\n",
    "print(X_test.shape)\n"
   ]
  },
  {
   "cell_type": "markdown",
   "metadata": {
    "colab_type": "text",
    "id": "VW5RKkKm1k-9"
   },
   "source": [
    "## 3.  Building the neural network model\n",
    "\n",
    "We choose to build a classifier with **two hidden layers** (16 and 8 neurons respectively) and an **output** layer with three neurons reprensenting the three different state of the engine.  \n",
    "Activation:   \n",
    "- Hidden Layer uses Relu.  **Relu** activationn: the **ReLU** activation function activates a node only if the input is above zero. If the input is below zero, the output is always zero  \n",
    "- Output layer uses the **softmax** activation: the **Softmax** function is the go to function that you will often use at the output layer of a classifier when you are working on a problem that you need to predict a class between more than 2 classes. Softmax can work fine if you are classifying two classes as well. It will basically work as a sigmoid function\n",
    "\n",
    "\n",
    "Then, **we have a total of 191 parameters (total number of weights + total number of bias) in this very simple network**. The values of these weights are randomly initialized then the network performs feedforward and backpropagation to learn the best values of weights that most fit our model to the training data.\n",
    "\n",
    "![alt text](http://i.ibb.co/YdLrwJX/Screenshot-2019-10-09-at-16-40-16.png)"
   ]
  },
  {
   "cell_type": "code",
   "execution_count": 8,
   "metadata": {
    "colab": {
     "base_uri": "https://localhost:8080/",
     "height": 224
    },
    "colab_type": "code",
    "executionInfo": {
     "elapsed": 2300,
     "status": "ok",
     "timestamp": 1570704089181,
     "user": {
      "displayName": "Erik Kluijtmans",
      "photoUrl": "",
      "userId": "14333511038568734894"
     },
     "user_tz": -120
    },
    "id": "uoVOIXTWI4Af",
    "outputId": "851c5cd4-065d-487d-c8f0-29fd867196eb"
   },
   "outputs": [
    {
     "name": "stdout",
     "output_type": "stream",
     "text": [
      "WARNING:tensorflow:From /usr/local/lib/python3.6/dist-packages/keras/backend/tensorflow_backend.py:66: The name tf.get_default_graph is deprecated. Please use tf.compat.v1.get_default_graph instead.\n",
      "\n",
      "WARNING:tensorflow:From /usr/local/lib/python3.6/dist-packages/keras/backend/tensorflow_backend.py:541: The name tf.placeholder is deprecated. Please use tf.compat.v1.placeholder instead.\n",
      "\n",
      "WARNING:tensorflow:From /usr/local/lib/python3.6/dist-packages/keras/backend/tensorflow_backend.py:4432: The name tf.random_uniform is deprecated. Please use tf.random.uniform instead.\n",
      "\n",
      "WARNING:tensorflow:From /usr/local/lib/python3.6/dist-packages/keras/optimizers.py:793: The name tf.train.Optimizer is deprecated. Please use tf.compat.v1.train.Optimizer instead.\n",
      "\n",
      "WARNING:tensorflow:From /usr/local/lib/python3.6/dist-packages/keras/backend/tensorflow_backend.py:3622: The name tf.log is deprecated. Please use tf.math.log instead.\n",
      "\n"
     ]
    },
    {
     "name": "stderr",
     "output_type": "stream",
     "text": [
      "Using TensorFlow backend.\n"
     ]
    }
   ],
   "source": [
    "import tensorflow as tf\n",
    "from keras.models import Sequential\n",
    "from keras.layers import Dense, Activation\n",
    "from keras.optimizers import Adam\n",
    "\n",
    "model = Sequential([\n",
    "    Dense(16, input_shape=(2,), activation='relu'),\n",
    "    Dense(8, activation='relu'),\n",
    "    Dense(3, activation='softmax')\n",
    "])\n",
    "\n",
    "model.compile(Adam(lr=.005), loss='sparse_categorical_crossentropy', metrics=['accuracy'])"
   ]
  },
  {
   "cell_type": "markdown",
   "metadata": {
    "colab_type": "text",
    "id": "MEkBR0Q4JQrM"
   },
   "source": [
    "**Optimizer**: Let's use the adam optimizer, which is a popular optimizer in Keras. For most datasets, the adam optimizer will work well without much tuning.   \n",
    "**Loss function**: We'll use categorical_crossentropy as our loss function since the problem at hand is a multiclass classification problem.  \n",
    "**Metrics**: We'll use accuracy (that is, the percentage of correctly classified samples) as our evaluation metric."
   ]
  },
  {
   "cell_type": "markdown",
   "metadata": {
    "colab_type": "text",
    "id": "DVSoEDDG-R-V"
   },
   "source": [
    "![alt text](http://i.ibb.co/YdLrwJX/Screenshot-2019-10-09-at-16-40-16.png)"
   ]
  },
  {
   "cell_type": "markdown",
   "metadata": {
    "colab_type": "text",
    "id": "EKQeQhhKJteX"
   },
   "source": [
    "## 4. Training the model  \n",
    "To train our neural net model defined in earlier steps, let's call the fit function. Let's train our model for 100 iterations:"
   ]
  },
  {
   "cell_type": "code",
   "execution_count": 9,
   "metadata": {
    "colab": {
     "base_uri": "https://localhost:8080/",
     "height": 1000
    },
    "colab_type": "code",
    "executionInfo": {
     "elapsed": 5844,
     "status": "ok",
     "timestamp": 1570704098787,
     "user": {
      "displayName": "Erik Kluijtmans",
      "photoUrl": "",
      "userId": "14333511038568734894"
     },
     "user_tz": -120
    },
    "id": "nvSIBMxQQN1G",
    "outputId": "fd7c1b1a-7202-4508-d65b-00ea8651de0d"
   },
   "outputs": [
    {
     "name": "stdout",
     "output_type": "stream",
     "text": [
      "WARNING:tensorflow:From /usr/local/lib/python3.6/dist-packages/tensorflow_core/python/ops/math_grad.py:1424: where (from tensorflow.python.ops.array_ops) is deprecated and will be removed in a future version.\n",
      "Instructions for updating:\n",
      "Use tf.where in 2.0, which has the same broadcast rule as np.where\n",
      "WARNING:tensorflow:From /usr/local/lib/python3.6/dist-packages/keras/backend/tensorflow_backend.py:1033: The name tf.assign_add is deprecated. Please use tf.compat.v1.assign_add instead.\n",
      "\n",
      "WARNING:tensorflow:From /usr/local/lib/python3.6/dist-packages/keras/backend/tensorflow_backend.py:1020: The name tf.assign is deprecated. Please use tf.compat.v1.assign instead.\n",
      "\n",
      "WARNING:tensorflow:From /usr/local/lib/python3.6/dist-packages/keras/backend/tensorflow_backend.py:3005: The name tf.Session is deprecated. Please use tf.compat.v1.Session instead.\n",
      "\n",
      "Train on 800 samples, validate on 200 samples\n",
      "Epoch 1/100\n",
      "WARNING:tensorflow:From /usr/local/lib/python3.6/dist-packages/keras/backend/tensorflow_backend.py:190: The name tf.get_default_session is deprecated. Please use tf.compat.v1.get_default_session instead.\n",
      "\n",
      "WARNING:tensorflow:From /usr/local/lib/python3.6/dist-packages/keras/backend/tensorflow_backend.py:197: The name tf.ConfigProto is deprecated. Please use tf.compat.v1.ConfigProto instead.\n",
      "\n",
      "WARNING:tensorflow:From /usr/local/lib/python3.6/dist-packages/keras/backend/tensorflow_backend.py:207: The name tf.global_variables is deprecated. Please use tf.compat.v1.global_variables instead.\n",
      "\n",
      "WARNING:tensorflow:From /usr/local/lib/python3.6/dist-packages/keras/backend/tensorflow_backend.py:216: The name tf.is_variable_initialized is deprecated. Please use tf.compat.v1.is_variable_initialized instead.\n",
      "\n",
      "WARNING:tensorflow:From /usr/local/lib/python3.6/dist-packages/keras/backend/tensorflow_backend.py:223: The name tf.variables_initializer is deprecated. Please use tf.compat.v1.variables_initializer instead.\n",
      "\n",
      " - 1s - loss: 1.0417 - acc: 0.5288 - val_loss: 0.9894 - val_acc: 0.6300\n",
      "Epoch 2/100\n",
      " - 0s - loss: 0.8675 - acc: 0.6600 - val_loss: 0.7884 - val_acc: 0.6150\n",
      "Epoch 3/100\n",
      " - 0s - loss: 0.6786 - acc: 0.6950 - val_loss: 0.6545 - val_acc: 0.6500\n",
      "Epoch 4/100\n",
      " - 0s - loss: 0.5766 - acc: 0.7362 - val_loss: 0.5995 - val_acc: 0.6950\n",
      "Epoch 5/100\n",
      " - 0s - loss: 0.5361 - acc: 0.7488 - val_loss: 0.5498 - val_acc: 0.7250\n",
      "Epoch 6/100\n",
      " - 0s - loss: 0.5029 - acc: 0.7662 - val_loss: 0.5252 - val_acc: 0.7300\n",
      "Epoch 7/100\n",
      " - 0s - loss: 0.4935 - acc: 0.7550 - val_loss: 0.5157 - val_acc: 0.7200\n",
      "Epoch 8/100\n",
      " - 0s - loss: 0.4767 - acc: 0.7662 - val_loss: 0.5049 - val_acc: 0.7400\n",
      "Epoch 9/100\n",
      " - 0s - loss: 0.4658 - acc: 0.7787 - val_loss: 0.4956 - val_acc: 0.7500\n",
      "Epoch 10/100\n",
      " - 0s - loss: 0.4605 - acc: 0.7775 - val_loss: 0.4814 - val_acc: 0.7400\n",
      "Epoch 11/100\n",
      " - 0s - loss: 0.4563 - acc: 0.7737 - val_loss: 0.4658 - val_acc: 0.7450\n",
      "Epoch 12/100\n",
      " - 0s - loss: 0.4353 - acc: 0.7875 - val_loss: 0.4572 - val_acc: 0.7650\n",
      "Epoch 13/100\n",
      " - 0s - loss: 0.4239 - acc: 0.7963 - val_loss: 0.4325 - val_acc: 0.7750\n",
      "Epoch 14/100\n",
      " - 0s - loss: 0.4237 - acc: 0.8000 - val_loss: 0.4289 - val_acc: 0.7850\n",
      "Epoch 15/100\n",
      " - 0s - loss: 0.3941 - acc: 0.8150 - val_loss: 0.4028 - val_acc: 0.8150\n",
      "Epoch 16/100\n",
      " - 0s - loss: 0.3803 - acc: 0.8337 - val_loss: 0.3723 - val_acc: 0.8300\n",
      "Epoch 17/100\n",
      " - 0s - loss: 0.3573 - acc: 0.8500 - val_loss: 0.3539 - val_acc: 0.8500\n",
      "Epoch 18/100\n",
      " - 0s - loss: 0.3371 - acc: 0.8625 - val_loss: 0.3526 - val_acc: 0.8350\n",
      "Epoch 19/100\n",
      " - 0s - loss: 0.3219 - acc: 0.8638 - val_loss: 0.3141 - val_acc: 0.8800\n",
      "Epoch 20/100\n",
      " - 0s - loss: 0.3088 - acc: 0.8712 - val_loss: 0.2957 - val_acc: 0.9000\n",
      "Epoch 21/100\n",
      " - 0s - loss: 0.2974 - acc: 0.8775 - val_loss: 0.2934 - val_acc: 0.8700\n",
      "Epoch 22/100\n",
      " - 0s - loss: 0.2768 - acc: 0.8862 - val_loss: 0.2749 - val_acc: 0.8850\n",
      "Epoch 23/100\n",
      " - 0s - loss: 0.2699 - acc: 0.8925 - val_loss: 0.2564 - val_acc: 0.9050\n",
      "Epoch 24/100\n",
      " - 0s - loss: 0.2631 - acc: 0.8825 - val_loss: 0.2474 - val_acc: 0.9100\n",
      "Epoch 25/100\n",
      " - 0s - loss: 0.2470 - acc: 0.9000 - val_loss: 0.2357 - val_acc: 0.9050\n",
      "Epoch 26/100\n",
      " - 0s - loss: 0.2355 - acc: 0.9000 - val_loss: 0.2292 - val_acc: 0.9150\n",
      "Epoch 27/100\n",
      " - 0s - loss: 0.2283 - acc: 0.9088 - val_loss: 0.2220 - val_acc: 0.9250\n",
      "Epoch 28/100\n",
      " - 0s - loss: 0.2254 - acc: 0.9138 - val_loss: 0.2181 - val_acc: 0.9200\n",
      "Epoch 29/100\n",
      " - 0s - loss: 0.2327 - acc: 0.9012 - val_loss: 0.2192 - val_acc: 0.9200\n",
      "Epoch 30/100\n",
      " - 0s - loss: 0.2232 - acc: 0.9025 - val_loss: 0.2098 - val_acc: 0.9300\n",
      "Epoch 31/100\n",
      " - 0s - loss: 0.2107 - acc: 0.9113 - val_loss: 0.2075 - val_acc: 0.9150\n",
      "Epoch 32/100\n",
      " - 0s - loss: 0.2111 - acc: 0.9100 - val_loss: 0.2174 - val_acc: 0.9150\n",
      "Epoch 33/100\n",
      " - 0s - loss: 0.2075 - acc: 0.9138 - val_loss: 0.2166 - val_acc: 0.9150\n",
      "Epoch 34/100\n",
      " - 0s - loss: 0.2063 - acc: 0.9150 - val_loss: 0.2055 - val_acc: 0.9050\n",
      "Epoch 35/100\n",
      " - 0s - loss: 0.1991 - acc: 0.9163 - val_loss: 0.1972 - val_acc: 0.9300\n",
      "Epoch 36/100\n",
      " - 0s - loss: 0.2018 - acc: 0.9225 - val_loss: 0.2038 - val_acc: 0.9000\n",
      "Epoch 37/100\n",
      " - 0s - loss: 0.1955 - acc: 0.9175 - val_loss: 0.2015 - val_acc: 0.9250\n",
      "Epoch 38/100\n",
      " - 0s - loss: 0.1980 - acc: 0.9187 - val_loss: 0.1958 - val_acc: 0.9200\n",
      "Epoch 39/100\n",
      " - 0s - loss: 0.2053 - acc: 0.9150 - val_loss: 0.1905 - val_acc: 0.9150\n",
      "Epoch 40/100\n",
      " - 0s - loss: 0.1918 - acc: 0.9113 - val_loss: 0.1925 - val_acc: 0.9250\n",
      "Epoch 41/100\n",
      " - 0s - loss: 0.1980 - acc: 0.9100 - val_loss: 0.2041 - val_acc: 0.9200\n",
      "Epoch 42/100\n",
      " - 0s - loss: 0.1959 - acc: 0.9075 - val_loss: 0.1928 - val_acc: 0.9100\n",
      "Epoch 43/100\n",
      " - 0s - loss: 0.1910 - acc: 0.9213 - val_loss: 0.2113 - val_acc: 0.9050\n",
      "Epoch 44/100\n",
      " - 0s - loss: 0.1968 - acc: 0.9225 - val_loss: 0.1900 - val_acc: 0.9100\n",
      "Epoch 45/100\n",
      " - 0s - loss: 0.1921 - acc: 0.9113 - val_loss: 0.2190 - val_acc: 0.9000\n",
      "Epoch 46/100\n",
      " - 0s - loss: 0.2034 - acc: 0.9037 - val_loss: 0.1909 - val_acc: 0.9250\n",
      "Epoch 47/100\n",
      " - 0s - loss: 0.1965 - acc: 0.9138 - val_loss: 0.1868 - val_acc: 0.9150\n",
      "Epoch 48/100\n",
      " - 0s - loss: 0.1987 - acc: 0.9037 - val_loss: 0.1848 - val_acc: 0.9250\n",
      "Epoch 49/100\n",
      " - 0s - loss: 0.2014 - acc: 0.9075 - val_loss: 0.1974 - val_acc: 0.9050\n",
      "Epoch 50/100\n",
      " - 0s - loss: 0.1950 - acc: 0.9075 - val_loss: 0.1999 - val_acc: 0.9000\n",
      "Epoch 51/100\n",
      " - 0s - loss: 0.2052 - acc: 0.9000 - val_loss: 0.2230 - val_acc: 0.9000\n",
      "Epoch 52/100\n",
      " - 0s - loss: 0.1978 - acc: 0.9138 - val_loss: 0.1825 - val_acc: 0.9200\n",
      "Epoch 53/100\n",
      " - 0s - loss: 0.1853 - acc: 0.9225 - val_loss: 0.1808 - val_acc: 0.9150\n",
      "Epoch 54/100\n",
      " - 0s - loss: 0.1855 - acc: 0.9213 - val_loss: 0.1802 - val_acc: 0.9150\n",
      "Epoch 55/100\n",
      " - 0s - loss: 0.1845 - acc: 0.9138 - val_loss: 0.1851 - val_acc: 0.9150\n",
      "Epoch 56/100\n",
      " - 0s - loss: 0.1945 - acc: 0.9125 - val_loss: 0.1903 - val_acc: 0.9150\n",
      "Epoch 57/100\n",
      " - 0s - loss: 0.1862 - acc: 0.9150 - val_loss: 0.1851 - val_acc: 0.9100\n",
      "Epoch 58/100\n",
      " - 0s - loss: 0.1826 - acc: 0.9125 - val_loss: 0.2119 - val_acc: 0.9000\n",
      "Epoch 59/100\n",
      " - 0s - loss: 0.1806 - acc: 0.9213 - val_loss: 0.1997 - val_acc: 0.9050\n",
      "Epoch 60/100\n",
      " - 0s - loss: 0.1844 - acc: 0.9175 - val_loss: 0.1853 - val_acc: 0.9250\n",
      "Epoch 61/100\n",
      " - 0s - loss: 0.1857 - acc: 0.9175 - val_loss: 0.2081 - val_acc: 0.9050\n",
      "Epoch 62/100\n",
      " - 0s - loss: 0.1984 - acc: 0.9138 - val_loss: 0.1816 - val_acc: 0.9200\n",
      "Epoch 63/100\n",
      " - 0s - loss: 0.1946 - acc: 0.9150 - val_loss: 0.1950 - val_acc: 0.9250\n",
      "Epoch 64/100\n",
      " - 0s - loss: 0.1879 - acc: 0.9062 - val_loss: 0.1900 - val_acc: 0.9050\n",
      "Epoch 65/100\n",
      " - 0s - loss: 0.1788 - acc: 0.9200 - val_loss: 0.1873 - val_acc: 0.9100\n",
      "Epoch 66/100\n",
      " - 0s - loss: 0.1774 - acc: 0.9187 - val_loss: 0.1836 - val_acc: 0.9200\n",
      "Epoch 67/100\n",
      " - 0s - loss: 0.1770 - acc: 0.9187 - val_loss: 0.1782 - val_acc: 0.9100\n",
      "Epoch 68/100\n",
      " - 0s - loss: 0.1751 - acc: 0.9250 - val_loss: 0.1924 - val_acc: 0.9100\n",
      "Epoch 69/100\n",
      " - 0s - loss: 0.1759 - acc: 0.9237 - val_loss: 0.1769 - val_acc: 0.9150\n",
      "Epoch 70/100\n",
      " - 0s - loss: 0.1768 - acc: 0.9163 - val_loss: 0.1864 - val_acc: 0.9100\n",
      "Epoch 71/100\n",
      " - 0s - loss: 0.1747 - acc: 0.9175 - val_loss: 0.1786 - val_acc: 0.9200\n",
      "Epoch 72/100\n",
      " - 0s - loss: 0.1865 - acc: 0.9175 - val_loss: 0.2208 - val_acc: 0.8900\n",
      "Epoch 73/100\n",
      " - 0s - loss: 0.1973 - acc: 0.9125 - val_loss: 0.2086 - val_acc: 0.9150\n",
      "Epoch 74/100\n",
      " - 0s - loss: 0.1880 - acc: 0.9213 - val_loss: 0.1767 - val_acc: 0.9100\n",
      "Epoch 75/100\n",
      " - 0s - loss: 0.1783 - acc: 0.9237 - val_loss: 0.1771 - val_acc: 0.9200\n",
      "Epoch 76/100\n",
      " - 0s - loss: 0.1958 - acc: 0.9113 - val_loss: 0.1860 - val_acc: 0.9200\n",
      "Epoch 77/100\n",
      " - 0s - loss: 0.1908 - acc: 0.9187 - val_loss: 0.1781 - val_acc: 0.9250\n",
      "Epoch 78/100\n",
      " - 0s - loss: 0.1741 - acc: 0.9187 - val_loss: 0.2273 - val_acc: 0.8850\n",
      "Epoch 79/100\n",
      " - 0s - loss: 0.1872 - acc: 0.9163 - val_loss: 0.1782 - val_acc: 0.9200\n",
      "Epoch 80/100\n",
      " - 0s - loss: 0.1825 - acc: 0.9100 - val_loss: 0.1796 - val_acc: 0.9150\n",
      "Epoch 81/100\n",
      " - 0s - loss: 0.1817 - acc: 0.9237 - val_loss: 0.1811 - val_acc: 0.9150\n",
      "Epoch 82/100\n",
      " - 0s - loss: 0.1754 - acc: 0.9187 - val_loss: 0.1786 - val_acc: 0.9150\n",
      "Epoch 83/100\n",
      " - 0s - loss: 0.1795 - acc: 0.9175 - val_loss: 0.1884 - val_acc: 0.9100\n",
      "Epoch 84/100\n",
      " - 0s - loss: 0.1829 - acc: 0.9187 - val_loss: 0.1757 - val_acc: 0.9150\n",
      "Epoch 85/100\n",
      " - 0s - loss: 0.1756 - acc: 0.9250 - val_loss: 0.1829 - val_acc: 0.9200\n",
      "Epoch 86/100\n",
      " - 0s - loss: 0.1860 - acc: 0.9163 - val_loss: 0.1763 - val_acc: 0.9050\n",
      "Epoch 87/100\n",
      " - 0s - loss: 0.1838 - acc: 0.9100 - val_loss: 0.1859 - val_acc: 0.9050\n",
      "Epoch 88/100\n",
      " - 0s - loss: 0.1787 - acc: 0.9138 - val_loss: 0.2119 - val_acc: 0.8950\n",
      "Epoch 89/100\n",
      " - 0s - loss: 0.1876 - acc: 0.9125 - val_loss: 0.1786 - val_acc: 0.9100\n",
      "Epoch 90/100\n",
      " - 0s - loss: 0.1781 - acc: 0.9150 - val_loss: 0.1798 - val_acc: 0.9200\n",
      "Epoch 91/100\n",
      " - 0s - loss: 0.1759 - acc: 0.9187 - val_loss: 0.1810 - val_acc: 0.9200\n",
      "Epoch 92/100\n",
      " - 0s - loss: 0.1791 - acc: 0.9138 - val_loss: 0.1768 - val_acc: 0.9200\n",
      "Epoch 93/100\n",
      " - 0s - loss: 0.1800 - acc: 0.9163 - val_loss: 0.1765 - val_acc: 0.9200\n",
      "Epoch 94/100\n",
      " - 0s - loss: 0.1764 - acc: 0.9200 - val_loss: 0.1858 - val_acc: 0.9150\n",
      "Epoch 95/100\n",
      " - 0s - loss: 0.1730 - acc: 0.9150 - val_loss: 0.1805 - val_acc: 0.9300\n",
      "Epoch 96/100\n",
      " - 0s - loss: 0.1726 - acc: 0.9288 - val_loss: 0.1772 - val_acc: 0.9150\n",
      "Epoch 97/100\n",
      " - 0s - loss: 0.1803 - acc: 0.9150 - val_loss: 0.1926 - val_acc: 0.9000\n",
      "Epoch 98/100\n",
      " - 0s - loss: 0.1745 - acc: 0.9213 - val_loss: 0.1869 - val_acc: 0.9000\n",
      "Epoch 99/100\n",
      " - 0s - loss: 0.1787 - acc: 0.9213 - val_loss: 0.1859 - val_acc: 0.9100\n",
      "Epoch 100/100\n",
      " - 0s - loss: 0.1827 - acc: 0.9150 - val_loss: 0.1825 - val_acc: 0.9150\n"
     ]
    }
   ],
   "source": [
    "# Train the model for 200 epochs\n",
    "#model.fit(X_train, y_train, epochs=10)\n",
    "nepochs=100\n",
    "out= model.fit(X_train, y_train, epochs=nepochs, validation_data=[X_test,y_test], shuffle=True, verbose=2)"
   ]
  },
  {
   "cell_type": "code",
   "execution_count": 0,
   "metadata": {
    "colab": {
     "base_uri": "https://localhost:8080/",
     "height": 300
    },
    "colab_type": "code",
    "executionInfo": {
     "elapsed": 943,
     "status": "ok",
     "timestamp": 1570652616706,
     "user": {
      "displayName": "Erik Kluijtmans",
      "photoUrl": "",
      "userId": "14333511038568734894"
     },
     "user_tz": -120
    },
    "id": "Yd9B5mziUQHb",
    "outputId": "e48f3c4e-dcdb-4429-89a4-8fee2916d2ec"
   },
   "outputs": [
    {
     "data": {
      "text/plain": [
       "Text(0, 0.5, 'accuracy')"
      ]
     },
     "execution_count": 79,
     "metadata": {
      "tags": []
     },
     "output_type": "execute_result"
    },
    {
     "data": {
      "image/png": "[encoded data removed]",
      "text/plain": [
       "<Figure size 432x288 with 1 Axes>"
      ]
     },
     "metadata": {
      "tags": []
     },
     "output_type": "display_data"
    }
   ],
   "source": [
    "import matplotlib.pyplot as plt\n",
    "# Plotting the accuracies\n",
    "plt.figure()\n",
    "plt.plot(np.arange(nepochs)+1,out.history['acc'],label='training accuracy')\n",
    "plt.plot(np.arange(nepochs)+1,out.history['val_acc'],label='validation accuracy')\n",
    "plt.legend()\n",
    "plt.xlabel('epoch')\n",
    "plt.ylabel('accuracy')"
   ]
  },
  {
   "cell_type": "markdown",
   "metadata": {
    "colab_type": "text",
    "id": "M_socGnYQAE7"
   },
   "source": [
    "## 5. Making Prediction\n",
    "Please enter below the month divide by 10 and the temperature divide by 100 and observe the prediction of the model"
   ]
  },
  {
   "cell_type": "code",
   "execution_count": 0,
   "metadata": {
    "colab": {
     "base_uri": "https://localhost:8080/",
     "height": 85
    },
    "colab_type": "code",
    "executionInfo": {
     "elapsed": 812,
     "status": "ok",
     "timestamp": 1570652672630,
     "user": {
      "displayName": "Erik Kluijtmans",
      "photoUrl": "",
      "userId": "14333511038568734894"
     },
     "user_tz": -120
    },
    "id": "PjRZrpDxWZDo",
    "outputId": "84f48c36-a854-4073-eabf-c653091b5be7"
   },
   "outputs": [
    {
     "name": "stdout",
     "output_type": "stream",
     "text": [
      "Prediction : [[9.9428952e-01 5.7105189e-03 1.7726272e-08]]\n",
      "Max element from Prediction Array :  [0.9942895]\n",
      "Index from highest probability: 0\n",
      "We believe your engine is operating in sub-optimal condition; we are fixing the air/fuel ratio \n"
     ]
    }
   ],
   "source": [
    "candidate_X=np.array([[ 0.4, 0.34]])  # enter here month/10 and temperature/100\n",
    "\n",
    "\n",
    "prediction=model.predict(candidate_X)\n",
    "prediction\n",
    "\n",
    "maxElement = np.amax(prediction, axis=1)\n",
    "state_engine= prediction.argmax()\n",
    "print('Prediction :', prediction)\n",
    "print('Max element from Prediction Array : ', maxElement)\n",
    "print ('Index from highest probability:', state_engine)\n",
    "\n",
    "if state_engine == 0:\n",
    "  print (\"We believe your engine is operating in sub-optimal condition; we are fixing the air/fuel ratio \")\n",
    "if state_engine == 1:\n",
    "  print (\"We believe your engine is operating in optimal condition\")\n",
    "if state_engine == 2:\n",
    "  print (\"We believe your engine is in overload; we are triggering the rev limitor \" )\n",
    "\n",
    "\n",
    "\n",
    "\n",
    "\n"
   ]
  },
  {
   "cell_type": "markdown",
   "metadata": {
    "colab_type": "text",
    "id": "uW44bIc9Ksp7"
   },
   "source": [
    "## 6. Viewing all the paramaters of the model per layer (Weight + Bias)\n",
    "**Dense_1** (1st hidden layer) : 32x weights + 16 Bias = 48 parameters  \n",
    "**Dense_2** (2nd hidden layer) : 108 weights + 8 bias = 116 parameters  \n",
    "**Dense_3** (output layer) : 24 weights + 3 bias = 27 parameters  \n",
    "Total : 191 parameters"
   ]
  },
  {
   "cell_type": "code",
   "execution_count": 0,
   "metadata": {
    "colab": {
     "base_uri": "https://localhost:8080/",
     "height": 952
    },
    "colab_type": "code",
    "executionInfo": {
     "elapsed": 1124,
     "status": "ok",
     "timestamp": 1570652682198,
     "user": {
      "displayName": "Erik Kluijtmans",
      "photoUrl": "",
      "userId": "14333511038568734894"
     },
     "user_tz": -120
    },
    "id": "HlybT9-npnGp",
    "outputId": "d218a948-e30c-47b5-8717-f26220fc832e"
   },
   "outputs": [
    {
     "name": "stdout",
     "output_type": "stream",
     "text": [
      "dense_19\n",
      "[array([[ 0.20439798, -1.4293303 ,  0.21592692,  0.33816352, -0.5727959 ,\n",
      "         1.114704  ,  0.24938267,  0.39981174,  0.8860583 , -0.42478555,\n",
      "         0.31654257,  0.24267282,  0.3622431 ,  0.32262602, -0.10142651,\n",
      "         0.15349737],\n",
      "       [ 0.69641453,  0.9002918 ,  0.275264  , -1.4988045 , -0.12359038,\n",
      "         0.5317315 , -0.75631124,  0.68705356,  0.8186536 , -0.37808484,\n",
      "         0.37073052, -0.6300581 , -0.26840472,  0.6037967 , -0.12970829,\n",
      "         1.0602939 ]], dtype=float32), array([-0.13359395,  0.42814696,  0.7725979 ,  0.01769502,  0.        ,\n",
      "       -1.0283133 ,  0.8008857 , -0.39702103, -0.5575927 ,  0.        ,\n",
      "       -0.09269291,  0.9583263 ,  0.5660577 , -0.12893729,  0.        ,\n",
      "       -0.1575827 ], dtype=float32)]\n",
      "dense_20\n",
      "[array([[ 0.30694234,  0.6041991 , -0.20915294,  0.35555303, -0.72235835,\n",
      "         0.6029322 ,  0.1982875 ,  0.3060406 ],\n",
      "       [-2.3451521 ,  1.8458724 ,  0.2284007 ,  2.814633  , -2.389424  ,\n",
      "         2.3393044 ,  0.27450103,  2.0970771 ],\n",
      "       [ 0.43663153,  0.31306407, -0.23715119,  0.09804913,  0.70501703,\n",
      "         0.18510741, -0.23695633,  0.02023134],\n",
      "       [ 4.668407  , -1.4272408 ,  0.35685402, -1.2119844 ,  1.0428514 ,\n",
      "        -0.5335047 , -0.27768826, -0.08671976],\n",
      "       [-0.31382132,  0.38678288, -0.01061392,  0.04333758, -0.17040467,\n",
      "        -0.14376283, -0.41926992,  0.276214  ],\n",
      "       [-2.6684597 ,  2.019699  , -0.18230204,  2.2583916 , -2.8375568 ,\n",
      "        -1.666646  , -0.34176862,  2.2421675 ],\n",
      "       [ 0.53953826, -0.3840107 , -0.04099667, -0.45025843,  1.3053646 ,\n",
      "        -0.80200773,  0.421424  , -0.5977802 ],\n",
      "       [-0.60078484,  0.5183287 , -0.03576148,  0.7737997 , -0.30431426,\n",
      "        -0.4642649 , -0.12106973,  0.7899288 ],\n",
      "       [-0.6129102 ,  0.05642926,  0.02794635,  0.9925869 , -0.6064408 ,\n",
      "        -0.8166032 ,  0.08825497,  0.620208  ],\n",
      "       [ 0.3044752 , -0.41411293,  0.30759   , -0.00694299, -0.2802347 ,\n",
      "        -0.17839491, -0.15102136, -0.05319464],\n",
      "       [ 0.30719525,  0.77084553,  0.20885897,  0.70586306, -0.98353267,\n",
      "         0.23862125,  0.03051485,  0.19258374],\n",
      "       [ 0.8112933 ,  0.155821  ,  0.40448153, -0.30791882,  1.2015072 ,\n",
      "        -0.02104114, -0.16186367, -1.0237645 ],\n",
      "       [ 0.31830245, -0.14818855, -0.43129897,  0.3049425 ,  0.97405636,\n",
      "        -0.17880176, -0.31215444,  0.31974223],\n",
      "       [ 0.16545673,  0.5245051 , -0.35378549,  0.21591833, -0.19944283,\n",
      "         0.5889692 , -0.15118359,  0.04999446],\n",
      "       [ 0.34586966, -0.43245852, -0.1949526 , -0.01392984,  0.06685126,\n",
      "        -0.13680601,  0.34178615,  0.3874035 ],\n",
      "       [ 0.33962557,  0.53866047,  0.01389337,  0.39650384,  0.22699977,\n",
      "         0.715041  ,  0.1036867 ,  0.5457117 ]], dtype=float32), array([ 0.8269506 , -0.22764075, -0.05480838, -0.10021346,  0.88495755,\n",
      "        0.11858025, -0.08409239, -0.5539616 ], dtype=float32)]\n",
      "dense_21\n",
      "[array([[ 2.1734796 ,  0.47007427, -2.0718796 ],\n",
      "       [-1.2884692 ,  0.61117053,  0.60854274],\n",
      "       [-0.01053034, -0.12890062,  0.19251886],\n",
      "       [-1.6072643 ,  0.4942794 ,  0.68409556],\n",
      "       [ 1.4422086 ,  0.06017822, -1.8157763 ],\n",
      "       [-2.3503103 ,  0.9057395 ,  0.61901593],\n",
      "       [ 0.190088  ,  0.08334266, -0.03319567],\n",
      "       [-2.292565  , -1.0011007 ,  2.0032918 ]], dtype=float32), array([ 0.4451414 ,  0.05213855, -0.6236837 ], dtype=float32)]\n"
     ]
    }
   ],
   "source": [
    "for lay in model.layers:\n",
    "    print(lay.name)\n",
    "    print(lay.get_weights())"
   ]
  },
  {
   "cell_type": "markdown",
   "metadata": {
    "colab_type": "text",
    "id": "6R8GhJ1krJrY"
   },
   "source": [
    "Weights for the first layer (2 inputs x 16 units)\n",
    "Biases for the first layer (16 units)\n",
    "Weights for the second layer (16 inputs x 8unit)\n",
    "Biases for the second layer (8 unit)\n",
    "Weights for the third (8 inputs x 3unit)\n",
    "Biases for the second layer (3 unit)"
   ]
  },
  {
   "cell_type": "code",
   "execution_count": 0,
   "metadata": {
    "colab": {},
    "colab_type": "code",
    "id": "45A5eSFnrbWP"
   },
   "outputs": [],
   "source": []
  }
 ],
 "metadata": {
  "colab": {
   "collapsed_sections": [],
   "name": "DeepLearningforStarters - Car_Engine_State.ipynb",
   "provenance": []
  },
  "kernelspec": {
   "display_name": "Python 3",
   "language": "python",
   "name": "python3"
  },
  "language_info": {
   "codemirror_mode": {
    "name": "ipython",
    "version": 3
   },
   "file_extension": ".py",
   "mimetype": "text/x-python",
   "name": "python",
   "nbconvert_exporter": "python",
   "pygments_lexer": "ipython3",
   "version": "3.6.8"
  }
 },
 "nbformat": 4,
 "nbformat_minor": 1
}
