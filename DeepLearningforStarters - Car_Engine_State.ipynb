{
  "nbformat": 4,
  "nbformat_minor": 0,
  "metadata": {
    "colab": {
      "name": "DeepLearningforStarters - Car_Engine_State.ipynb",
      "provenance": [],
      "collapsed_sections": []
    },
    "kernelspec": {
      "display_name": "Python 3",
      "language": "python",
      "name": "python3"
    },
    "language_info": {
      "codemirror_mode": {
        "name": "ipython",
        "version": 3
      },
      "file_extension": ".py",
      "mimetype": "text/x-python",
      "name": "python",
      "nbconvert_exporter": "python",
      "pygments_lexer": "ipython3",
      "version": "3.6.8"
    }
  },
  "cells": [
    {
      "cell_type": "markdown",
      "metadata": {
        "id": "tYRUHwfu_bxf"
      },
      "source": [
        "##Lab - Build your first Neural Network  with Keras!\n",
        "In this section, we will look at the basic architecture of neural networks, the building blocks on which all complex neural networks are based. We will also code up our neural network using Keras, an high-level neural networks API, written in Python and capable of running on top of TensorFlow, . This exercise will help you gain an intuitive understanding of the inner workings of neural networks.\n",
        "\n",
        "To illustrate a small neural network, you will build a model to predict car engine state:  \n",
        "- **Green** indicates the engine runs optimally.  \n",
        "- **Orange** indicates the engine  is operating in sub-optimal condition; as a consequence auto-tuning is triggered (adaptive air/fuel ratio).  \n",
        "- **Red** indicates the engine is in overload; as a consequence the rev limitor is triggered to avoid any damage while auto-tuning kicks in.\n",
        "\n",
        "The input layer uses the month of the year and the external temperature."
      ]
    },
    {
      "cell_type": "markdown",
      "metadata": {
        "id": "EUIN7M03_Vz1"
      },
      "source": [
        "![alt text](http://i.ibb.co/YdLrwJX/Screenshot-2019-10-09-at-16-40-16.png)"
      ]
    },
    {
      "cell_type": "markdown",
      "metadata": {
        "id": "jqB_5dZfDL-z"
      },
      "source": [
        "## 1. Loading libraries and generating data\n"
      ]
    },
    {
      "cell_type": "code",
      "metadata": {
        "id": "9Svs9MsMB-u4"
      },
      "source": [
        "import numpy as np\n",
        "import pandas as pd\n",
        "\n",
        "temp= np.random.random(size=(1000,1)) #temperature are divided by 100 to fit the 0,1 interval\n",
        "month=(np.random.randint(1,13,1000))/10    #months are fitted in the 0,1 interval\n",
        "month1=np.around(month, decimals=1)    #months are rounded to one decimal\n",
        "month2=np.reshape(month1, (1000,1))\n",
        "state=np.ones((1000,1))\n",
        "data=np.concatenate((month2,temp,state),axis=1)\n",
        "    "
      ],
      "execution_count": 1,
      "outputs": []
    },
    {
      "cell_type": "code",
      "metadata": {
        "colab": {
          "base_uri": "https://localhost:8080/",
          "height": 348
        },
        "id": "Wjka0OXOGV9M",
        "outputId": "bcbd955d-5b81-4471-df3f-415a1768041a"
      },
      "source": [
        "for i in range(len(data)):\n",
        "  #if (data[i,1] > 0.45) & (data[i,1]<0.65) :\n",
        "     #data[i,2]=1\n",
        "  #elif data[i,1] < 0.45 :\n",
        "    #data[i,2]=0\n",
        "  if (data[i,1] < 0.45 and data[i,1] > 0.25 and (data[i,0]<0.3 or data[i,0]>1.0)):\n",
        "    data[i,2]=1\n",
        "  elif (data[i,1] > 0.45 and data[i,1] < 0.65 and (data[i,0]>0.5 and data[i,0]<0.9)):\n",
        "    data[i,2]=0\n",
        "  elif data[i,1] < 0.45 :\n",
        "    data[i,2]=0\n",
        "  elif (data[i,1] > 0.45) & (data[i,1]<0.65) :\n",
        "     data[i,2]=1\n",
        "  elif (data[i,1] > 0.65 and data[i,1] < 0.88 and (data[i,0]>0.3 and data[i,0]<1.0)):\n",
        "    data[i,2]=1\n",
        "  else :\n",
        "     data[i,2]=2\n",
        "\n",
        "data    \n",
        "\n",
        "df = pd.DataFrame(data, columns = ['month', 'temperature','state'])\n",
        "df['state']=df['state'].astype('int')\n",
        "df.head(10)\n",
        "\n"
      ],
      "execution_count": 2,
      "outputs": [
        {
          "output_type": "execute_result",
          "data": {
            "text/html": [
              "<div>\n",
              "<style scoped>\n",
              "    .dataframe tbody tr th:only-of-type {\n",
              "        vertical-align: middle;\n",
              "    }\n",
              "\n",
              "    .dataframe tbody tr th {\n",
              "        vertical-align: top;\n",
              "    }\n",
              "\n",
              "    .dataframe thead th {\n",
              "        text-align: right;\n",
              "    }\n",
              "</style>\n",
              "<table border=\"1\" class=\"dataframe\">\n",
              "  <thead>\n",
              "    <tr style=\"text-align: right;\">\n",
              "      <th></th>\n",
              "      <th>month</th>\n",
              "      <th>temperature</th>\n",
              "      <th>state</th>\n",
              "    </tr>\n",
              "  </thead>\n",
              "  <tbody>\n",
              "    <tr>\n",
              "      <th>0</th>\n",
              "      <td>0.8</td>\n",
              "      <td>0.184353</td>\n",
              "      <td>0</td>\n",
              "    </tr>\n",
              "    <tr>\n",
              "      <th>1</th>\n",
              "      <td>0.5</td>\n",
              "      <td>0.408219</td>\n",
              "      <td>0</td>\n",
              "    </tr>\n",
              "    <tr>\n",
              "      <th>2</th>\n",
              "      <td>0.2</td>\n",
              "      <td>0.718653</td>\n",
              "      <td>2</td>\n",
              "    </tr>\n",
              "    <tr>\n",
              "      <th>3</th>\n",
              "      <td>1.2</td>\n",
              "      <td>0.057131</td>\n",
              "      <td>0</td>\n",
              "    </tr>\n",
              "    <tr>\n",
              "      <th>4</th>\n",
              "      <td>0.9</td>\n",
              "      <td>0.222872</td>\n",
              "      <td>0</td>\n",
              "    </tr>\n",
              "    <tr>\n",
              "      <th>5</th>\n",
              "      <td>0.5</td>\n",
              "      <td>0.380930</td>\n",
              "      <td>0</td>\n",
              "    </tr>\n",
              "    <tr>\n",
              "      <th>6</th>\n",
              "      <td>0.1</td>\n",
              "      <td>0.490329</td>\n",
              "      <td>1</td>\n",
              "    </tr>\n",
              "    <tr>\n",
              "      <th>7</th>\n",
              "      <td>0.4</td>\n",
              "      <td>0.562860</td>\n",
              "      <td>1</td>\n",
              "    </tr>\n",
              "    <tr>\n",
              "      <th>8</th>\n",
              "      <td>1.0</td>\n",
              "      <td>0.288522</td>\n",
              "      <td>0</td>\n",
              "    </tr>\n",
              "    <tr>\n",
              "      <th>9</th>\n",
              "      <td>0.4</td>\n",
              "      <td>0.007560</td>\n",
              "      <td>0</td>\n",
              "    </tr>\n",
              "  </tbody>\n",
              "</table>\n",
              "</div>"
            ],
            "text/plain": [
              "   month  temperature  state\n",
              "0    0.8     0.184353      0\n",
              "1    0.5     0.408219      0\n",
              "2    0.2     0.718653      2\n",
              "3    1.2     0.057131      0\n",
              "4    0.9     0.222872      0\n",
              "5    0.5     0.380930      0\n",
              "6    0.1     0.490329      1\n",
              "7    0.4     0.562860      1\n",
              "8    1.0     0.288522      0\n",
              "9    0.4     0.007560      0"
            ]
          },
          "metadata": {
            "tags": []
          },
          "execution_count": 2
        }
      ]
    },
    {
      "cell_type": "code",
      "metadata": {
        "colab": {
          "base_uri": "https://localhost:8080/",
          "height": 455
        },
        "id": "G_uQ27sHOWbU",
        "outputId": "8d61857f-ef17-4dfc-e81f-5b72f4640c80"
      },
      "source": [
        "import seaborn as sns\n",
        "\n",
        "sns.lmplot(\"month\", \"temperature\", hue=\"state\", data=df, fit_reg=False)\n"
      ],
      "execution_count": 3,
      "outputs": [
        {
          "output_type": "stream",
          "text": [
            "/usr/local/lib/python3.7/dist-packages/seaborn/_decorators.py:43: FutureWarning: Pass the following variables as keyword args: x, y. From version 0.12, the only valid positional argument will be `data`, and passing other arguments without an explicit keyword will result in an error or misinterpretation.\n",
            "  FutureWarning\n"
          ],
          "name": "stderr"
        },
        {
          "output_type": "execute_result",
          "data": {
            "text/plain": [
              "<seaborn.axisgrid.FacetGrid at 0x7fde2f153f10>"
            ]
          },
          "metadata": {
            "tags": []
          },
          "execution_count": 3
        },
        {
          "output_type": "display_data",
          "data": {
            "image/png": "[encoded data removed]",
            "text/plain": [
              "<Figure size 402.375x360 with 1 Axes>"
            ]
          },
          "metadata": {
            "tags": [],
            "needs_background": "light"
          }
        }
      ]
    },
    {
      "cell_type": "markdown",
      "metadata": {
        "id": "d2X3ihlYBu7a"
      },
      "source": [
        "**Temperature** ranges from 0 to 10 (been divided by 100)  \n",
        "**Month** ranges from 0.1 to 1.2 (been divided by 10)"
      ]
    },
    {
      "cell_type": "markdown",
      "metadata": {
        "id": "U9dBG8z3DUXD"
      },
      "source": [
        "## 2. Splitting X and y into training and testing sets"
      ]
    },
    {
      "cell_type": "code",
      "metadata": {
        "colab": {
          "base_uri": "https://localhost:8080/",
          "height": 198
        },
        "id": "NlEge7tqPWuN",
        "outputId": "1f9e7c86-2b2e-423e-de74-545b71bb19c1"
      },
      "source": [
        "from sklearn.model_selection import train_test_split\n",
        "\n",
        "X = df.loc[:, df.columns != 'state']\n",
        "y = df.loc[:, 'state']\n",
        "\n",
        "X.head()"
      ],
      "execution_count": 4,
      "outputs": [
        {
          "output_type": "execute_result",
          "data": {
            "text/html": [
              "<div>\n",
              "<style scoped>\n",
              "    .dataframe tbody tr th:only-of-type {\n",
              "        vertical-align: middle;\n",
              "    }\n",
              "\n",
              "    .dataframe tbody tr th {\n",
              "        vertical-align: top;\n",
              "    }\n",
              "\n",
              "    .dataframe thead th {\n",
              "        text-align: right;\n",
              "    }\n",
              "</style>\n",
              "<table border=\"1\" class=\"dataframe\">\n",
              "  <thead>\n",
              "    <tr style=\"text-align: right;\">\n",
              "      <th></th>\n",
              "      <th>month</th>\n",
              "      <th>temperature</th>\n",
              "    </tr>\n",
              "  </thead>\n",
              "  <tbody>\n",
              "    <tr>\n",
              "      <th>0</th>\n",
              "      <td>0.8</td>\n",
              "      <td>0.184353</td>\n",
              "    </tr>\n",
              "    <tr>\n",
              "      <th>1</th>\n",
              "      <td>0.5</td>\n",
              "      <td>0.408219</td>\n",
              "    </tr>\n",
              "    <tr>\n",
              "      <th>2</th>\n",
              "      <td>0.2</td>\n",
              "      <td>0.718653</td>\n",
              "    </tr>\n",
              "    <tr>\n",
              "      <th>3</th>\n",
              "      <td>1.2</td>\n",
              "      <td>0.057131</td>\n",
              "    </tr>\n",
              "    <tr>\n",
              "      <th>4</th>\n",
              "      <td>0.9</td>\n",
              "      <td>0.222872</td>\n",
              "    </tr>\n",
              "  </tbody>\n",
              "</table>\n",
              "</div>"
            ],
            "text/plain": [
              "   month  temperature\n",
              "0    0.8     0.184353\n",
              "1    0.5     0.408219\n",
              "2    0.2     0.718653\n",
              "3    1.2     0.057131\n",
              "4    0.9     0.222872"
            ]
          },
          "metadata": {
            "tags": []
          },
          "execution_count": 4
        }
      ]
    },
    {
      "cell_type": "code",
      "metadata": {
        "id": "ugJ75p1rF5Le"
      },
      "source": [
        "X_train, X_test, y_train, y_test = train_test_split(X, y, test_size=0.2)"
      ],
      "execution_count": 5,
      "outputs": []
    },
    {
      "cell_type": "code",
      "metadata": {
        "id": "m21tgkxtI-Jm"
      },
      "source": [
        "#X_train, X_val, y_train, y_val = train_test_split(X_train, y_train, test_size=0.2)"
      ],
      "execution_count": null,
      "outputs": []
    },
    {
      "cell_type": "code",
      "metadata": {
        "colab": {
          "base_uri": "https://localhost:8080/"
        },
        "id": "edXxPATgDpNy",
        "outputId": "21e4e5ae-de21-428e-cbef-4408e6fdf6aa"
      },
      "source": [
        "# default split is 80% for training and 20% for testing\n",
        "print(y_train.shape)\n",
        "print(y_test.shape)\n"
      ],
      "execution_count": 8,
      "outputs": [
        {
          "output_type": "stream",
          "text": [
            "(800,)\n",
            "(200,)\n"
          ],
          "name": "stdout"
        }
      ]
    },
    {
      "cell_type": "markdown",
      "metadata": {
        "id": "VW5RKkKm1k-9"
      },
      "source": [
        "## 3.  Building the neural network model\n",
        "\n",
        "We choose to build a classifier with **two hidden layers** (16 and 8 neurons respectively) and an **output** layer with three neurons reprensenting the three different state of the engine.  \n",
        "Activation:   \n",
        "- Hidden Layer uses Relu.  **Relu** activationn: the **ReLU** activation function activates a node only if the input is above zero. If the input is below zero, the output is always zero  \n",
        "- Output layer uses the **softmax** activation: the **Softmax** function is the go to function that you will often use at the output layer of a classifier when you are working on a problem that you need to predict a class between more than 2 classes. Softmax can work fine if you are classifying two classes as well. It will basically work as a sigmoid function\n",
        "\n",
        "\n",
        "Then, **we have a total of 191 parameters (total number of weights + total number of bias) in this very simple network**. The values of these weights are randomly initialized then the network performs feedforward and backpropagation to learn the best values of weights that most fit our model to the training data.\n",
        "\n",
        "![alt text](http://i.ibb.co/YdLrwJX/Screenshot-2019-10-09-at-16-40-16.png)"
      ]
    },
    {
      "cell_type": "code",
      "metadata": {
        "id": "uoVOIXTWI4Af"
      },
      "source": [
        "import tensorflow as tf\n",
        "from keras.models import Sequential\n",
        "from keras.layers import Dense, Activation\n",
        "from keras.optimizers import Adam\n",
        "\n",
        "model = Sequential([\n",
        "    Dense(16, input_shape=(2,), activation='relu'),\n",
        "    Dense(8, activation='relu'),\n",
        "    Dense(3, activation='softmax')\n",
        "])\n",
        "\n",
        "model.compile(Adam(lr=.005), loss='sparse_categorical_crossentropy', metrics=['accuracy'])"
      ],
      "execution_count": 17,
      "outputs": []
    },
    {
      "cell_type": "markdown",
      "metadata": {
        "id": "MEkBR0Q4JQrM"
      },
      "source": [
        "**Optimizer**: Let's use the adam optimizer, which is a popular optimizer in Keras. For most datasets, the adam optimizer will work well without much tuning.   \n",
        "**Loss function**: We'll use categorical_crossentropy as our loss function since the problem at hand is a multiclass classification problem.  \n",
        "**Metrics**: We'll use accuracy (that is, the percentage of correctly classified samples) as our evaluation metric."
      ]
    },
    {
      "cell_type": "markdown",
      "metadata": {
        "id": "DVSoEDDG-R-V"
      },
      "source": [
        "![alt text](http://i.ibb.co/YdLrwJX/Screenshot-2019-10-09-at-16-40-16.png)"
      ]
    },
    {
      "cell_type": "markdown",
      "metadata": {
        "id": "EKQeQhhKJteX"
      },
      "source": [
        "## 4. Training the model  \n",
        "To train our neural net model defined in earlier steps, let's call the fit function. Let's train our model for 100 iterations:"
      ]
    },
    {
      "cell_type": "code",
      "metadata": {
        "colab": {
          "base_uri": "https://localhost:8080/"
        },
        "id": "nvSIBMxQQN1G",
        "outputId": "4005da50-ba15-430f-e0bb-b9449f690dbc"
      },
      "source": [
        "# Train the model for 200 epochs\n",
        "#model.fit(X_train, y_train, epochs=10)\n",
        "nepochs=100\n",
        "out= model.fit(X_train, y_train, epochs=nepochs, validation_data=(X_test,y_test), shuffle=True, verbose=2)"
      ],
      "execution_count": 19,
      "outputs": [
        {
          "output_type": "stream",
          "text": [
            "Epoch 1/100\n",
            "25/25 - 0s - loss: 0.8998 - accuracy: 0.6212 - val_loss: 0.8692 - val_accuracy: 0.6250\n",
            "Epoch 2/100\n",
            "25/25 - 0s - loss: 0.7677 - accuracy: 0.6288 - val_loss: 0.7447 - val_accuracy: 0.7500\n",
            "Epoch 3/100\n",
            "25/25 - 0s - loss: 0.6623 - accuracy: 0.7275 - val_loss: 0.6528 - val_accuracy: 0.7200\n",
            "Epoch 4/100\n",
            "25/25 - 0s - loss: 0.5901 - accuracy: 0.7525 - val_loss: 0.5971 - val_accuracy: 0.7150\n",
            "Epoch 5/100\n",
            "25/25 - 0s - loss: 0.5353 - accuracy: 0.7575 - val_loss: 0.5399 - val_accuracy: 0.7700\n",
            "Epoch 6/100\n",
            "25/25 - 0s - loss: 0.4977 - accuracy: 0.7900 - val_loss: 0.5052 - val_accuracy: 0.7700\n",
            "Epoch 7/100\n",
            "25/25 - 0s - loss: 0.4606 - accuracy: 0.7987 - val_loss: 0.4896 - val_accuracy: 0.7800\n",
            "Epoch 8/100\n",
            "25/25 - 0s - loss: 0.4485 - accuracy: 0.8050 - val_loss: 0.4449 - val_accuracy: 0.8150\n",
            "Epoch 9/100\n",
            "25/25 - 0s - loss: 0.4070 - accuracy: 0.8263 - val_loss: 0.4118 - val_accuracy: 0.8300\n",
            "Epoch 10/100\n",
            "25/25 - 0s - loss: 0.3779 - accuracy: 0.8275 - val_loss: 0.3881 - val_accuracy: 0.8200\n",
            "Epoch 11/100\n",
            "25/25 - 0s - loss: 0.3497 - accuracy: 0.8475 - val_loss: 0.3673 - val_accuracy: 0.8350\n",
            "Epoch 12/100\n",
            "25/25 - 0s - loss: 0.3238 - accuracy: 0.8587 - val_loss: 0.3345 - val_accuracy: 0.8600\n",
            "Epoch 13/100\n",
            "25/25 - 0s - loss: 0.3031 - accuracy: 0.8750 - val_loss: 0.3154 - val_accuracy: 0.8600\n",
            "Epoch 14/100\n",
            "25/25 - 0s - loss: 0.2838 - accuracy: 0.8850 - val_loss: 0.3029 - val_accuracy: 0.8650\n",
            "Epoch 15/100\n",
            "25/25 - 0s - loss: 0.2658 - accuracy: 0.9025 - val_loss: 0.2907 - val_accuracy: 0.8900\n",
            "Epoch 16/100\n",
            "25/25 - 0s - loss: 0.2497 - accuracy: 0.9112 - val_loss: 0.2792 - val_accuracy: 0.8950\n",
            "Epoch 17/100\n",
            "25/25 - 0s - loss: 0.2321 - accuracy: 0.9200 - val_loss: 0.2670 - val_accuracy: 0.8850\n",
            "Epoch 18/100\n",
            "25/25 - 0s - loss: 0.2231 - accuracy: 0.9150 - val_loss: 0.2537 - val_accuracy: 0.9050\n",
            "Epoch 19/100\n",
            "25/25 - 0s - loss: 0.2126 - accuracy: 0.9212 - val_loss: 0.2439 - val_accuracy: 0.8950\n",
            "Epoch 20/100\n",
            "25/25 - 0s - loss: 0.2055 - accuracy: 0.9287 - val_loss: 0.2441 - val_accuracy: 0.9100\n",
            "Epoch 21/100\n",
            "25/25 - 0s - loss: 0.1981 - accuracy: 0.9250 - val_loss: 0.2389 - val_accuracy: 0.8900\n",
            "Epoch 22/100\n",
            "25/25 - 0s - loss: 0.1939 - accuracy: 0.9262 - val_loss: 0.2514 - val_accuracy: 0.8950\n",
            "Epoch 23/100\n",
            "25/25 - 0s - loss: 0.1928 - accuracy: 0.9237 - val_loss: 0.2214 - val_accuracy: 0.9100\n",
            "Epoch 24/100\n",
            "25/25 - 0s - loss: 0.1949 - accuracy: 0.9162 - val_loss: 0.2413 - val_accuracy: 0.8950\n",
            "Epoch 25/100\n",
            "25/25 - 0s - loss: 0.1844 - accuracy: 0.9287 - val_loss: 0.2257 - val_accuracy: 0.9050\n",
            "Epoch 26/100\n",
            "25/25 - 0s - loss: 0.1866 - accuracy: 0.9237 - val_loss: 0.2180 - val_accuracy: 0.9200\n",
            "Epoch 27/100\n",
            "25/25 - 0s - loss: 0.1832 - accuracy: 0.9200 - val_loss: 0.2084 - val_accuracy: 0.9150\n",
            "Epoch 28/100\n",
            "25/25 - 0s - loss: 0.1731 - accuracy: 0.9325 - val_loss: 0.2210 - val_accuracy: 0.8950\n",
            "Epoch 29/100\n",
            "25/25 - 0s - loss: 0.1721 - accuracy: 0.9350 - val_loss: 0.2103 - val_accuracy: 0.9100\n",
            "Epoch 30/100\n",
            "25/25 - 0s - loss: 0.1695 - accuracy: 0.9312 - val_loss: 0.2303 - val_accuracy: 0.8850\n",
            "Epoch 31/100\n",
            "25/25 - 0s - loss: 0.1741 - accuracy: 0.9262 - val_loss: 0.2178 - val_accuracy: 0.9050\n",
            "Epoch 32/100\n",
            "25/25 - 0s - loss: 0.1741 - accuracy: 0.9212 - val_loss: 0.2027 - val_accuracy: 0.9150\n",
            "Epoch 33/100\n",
            "25/25 - 0s - loss: 0.1640 - accuracy: 0.9362 - val_loss: 0.2109 - val_accuracy: 0.9050\n",
            "Epoch 34/100\n",
            "25/25 - 0s - loss: 0.1646 - accuracy: 0.9362 - val_loss: 0.2259 - val_accuracy: 0.8900\n",
            "Epoch 35/100\n",
            "25/25 - 0s - loss: 0.1699 - accuracy: 0.9275 - val_loss: 0.2030 - val_accuracy: 0.8950\n",
            "Epoch 36/100\n",
            "25/25 - 0s - loss: 0.1570 - accuracy: 0.9362 - val_loss: 0.1999 - val_accuracy: 0.9000\n",
            "Epoch 37/100\n",
            "25/25 - 0s - loss: 0.1565 - accuracy: 0.9362 - val_loss: 0.1969 - val_accuracy: 0.9100\n",
            "Epoch 38/100\n",
            "25/25 - 0s - loss: 0.1640 - accuracy: 0.9350 - val_loss: 0.2252 - val_accuracy: 0.8900\n",
            "Epoch 39/100\n",
            "25/25 - 0s - loss: 0.1573 - accuracy: 0.9337 - val_loss: 0.1973 - val_accuracy: 0.9100\n",
            "Epoch 40/100\n",
            "25/25 - 0s - loss: 0.1548 - accuracy: 0.9312 - val_loss: 0.2162 - val_accuracy: 0.9100\n",
            "Epoch 41/100\n",
            "25/25 - 0s - loss: 0.1556 - accuracy: 0.9375 - val_loss: 0.2060 - val_accuracy: 0.9050\n",
            "Epoch 42/100\n",
            "25/25 - 0s - loss: 0.1527 - accuracy: 0.9400 - val_loss: 0.2013 - val_accuracy: 0.9150\n",
            "Epoch 43/100\n",
            "25/25 - 0s - loss: 0.1533 - accuracy: 0.9425 - val_loss: 0.2010 - val_accuracy: 0.9000\n",
            "Epoch 44/100\n",
            "25/25 - 0s - loss: 0.1510 - accuracy: 0.9362 - val_loss: 0.1957 - val_accuracy: 0.9100\n",
            "Epoch 45/100\n",
            "25/25 - 0s - loss: 0.1566 - accuracy: 0.9375 - val_loss: 0.2054 - val_accuracy: 0.9050\n",
            "Epoch 46/100\n",
            "25/25 - 0s - loss: 0.1517 - accuracy: 0.9312 - val_loss: 0.1992 - val_accuracy: 0.9100\n",
            "Epoch 47/100\n",
            "25/25 - 0s - loss: 0.1563 - accuracy: 0.9312 - val_loss: 0.1966 - val_accuracy: 0.9050\n",
            "Epoch 48/100\n",
            "25/25 - 0s - loss: 0.1615 - accuracy: 0.9262 - val_loss: 0.1985 - val_accuracy: 0.9050\n",
            "Epoch 49/100\n",
            "25/25 - 0s - loss: 0.1535 - accuracy: 0.9375 - val_loss: 0.2367 - val_accuracy: 0.8950\n",
            "Epoch 50/100\n",
            "25/25 - 0s - loss: 0.1538 - accuracy: 0.9400 - val_loss: 0.2011 - val_accuracy: 0.9100\n",
            "Epoch 51/100\n",
            "25/25 - 0s - loss: 0.1490 - accuracy: 0.9388 - val_loss: 0.1985 - val_accuracy: 0.9050\n",
            "Epoch 52/100\n",
            "25/25 - 0s - loss: 0.1499 - accuracy: 0.9362 - val_loss: 0.1925 - val_accuracy: 0.9100\n",
            "Epoch 53/100\n",
            "25/25 - 0s - loss: 0.1517 - accuracy: 0.9375 - val_loss: 0.1975 - val_accuracy: 0.9100\n",
            "Epoch 54/100\n",
            "25/25 - 0s - loss: 0.1461 - accuracy: 0.9413 - val_loss: 0.2056 - val_accuracy: 0.9150\n",
            "Epoch 55/100\n",
            "25/25 - 0s - loss: 0.1538 - accuracy: 0.9300 - val_loss: 0.1958 - val_accuracy: 0.9100\n",
            "Epoch 56/100\n",
            "25/25 - 0s - loss: 0.1462 - accuracy: 0.9375 - val_loss: 0.2006 - val_accuracy: 0.9050\n",
            "Epoch 57/100\n",
            "25/25 - 0s - loss: 0.1481 - accuracy: 0.9350 - val_loss: 0.2032 - val_accuracy: 0.9050\n",
            "Epoch 58/100\n",
            "25/25 - 0s - loss: 0.1445 - accuracy: 0.9388 - val_loss: 0.2013 - val_accuracy: 0.9050\n",
            "Epoch 59/100\n",
            "25/25 - 0s - loss: 0.1560 - accuracy: 0.9275 - val_loss: 0.2193 - val_accuracy: 0.9000\n",
            "Epoch 60/100\n",
            "25/25 - 0s - loss: 0.1579 - accuracy: 0.9375 - val_loss: 0.2115 - val_accuracy: 0.9000\n",
            "Epoch 61/100\n",
            "25/25 - 0s - loss: 0.1511 - accuracy: 0.9337 - val_loss: 0.2252 - val_accuracy: 0.8900\n",
            "Epoch 62/100\n",
            "25/25 - 0s - loss: 0.1718 - accuracy: 0.9200 - val_loss: 0.2009 - val_accuracy: 0.9100\n",
            "Epoch 63/100\n",
            "25/25 - 0s - loss: 0.1459 - accuracy: 0.9337 - val_loss: 0.2031 - val_accuracy: 0.9100\n",
            "Epoch 64/100\n",
            "25/25 - 0s - loss: 0.1515 - accuracy: 0.9312 - val_loss: 0.2018 - val_accuracy: 0.9100\n",
            "Epoch 65/100\n",
            "25/25 - 0s - loss: 0.1430 - accuracy: 0.9362 - val_loss: 0.2050 - val_accuracy: 0.9000\n",
            "Epoch 66/100\n",
            "25/25 - 0s - loss: 0.1429 - accuracy: 0.9400 - val_loss: 0.1990 - val_accuracy: 0.9050\n",
            "Epoch 67/100\n",
            "25/25 - 0s - loss: 0.1479 - accuracy: 0.9337 - val_loss: 0.2074 - val_accuracy: 0.9000\n",
            "Epoch 68/100\n",
            "25/25 - 0s - loss: 0.1519 - accuracy: 0.9312 - val_loss: 0.2450 - val_accuracy: 0.8900\n",
            "Epoch 69/100\n",
            "25/25 - 0s - loss: 0.1467 - accuracy: 0.9350 - val_loss: 0.1978 - val_accuracy: 0.9000\n",
            "Epoch 70/100\n",
            "25/25 - 0s - loss: 0.1537 - accuracy: 0.9337 - val_loss: 0.2173 - val_accuracy: 0.9000\n",
            "Epoch 71/100\n",
            "25/25 - 0s - loss: 0.1448 - accuracy: 0.9362 - val_loss: 0.1941 - val_accuracy: 0.9100\n",
            "Epoch 72/100\n",
            "25/25 - 0s - loss: 0.1670 - accuracy: 0.9187 - val_loss: 0.1959 - val_accuracy: 0.9000\n",
            "Epoch 73/100\n",
            "25/25 - 0s - loss: 0.1414 - accuracy: 0.9400 - val_loss: 0.1958 - val_accuracy: 0.9050\n",
            "Epoch 74/100\n",
            "25/25 - 0s - loss: 0.1385 - accuracy: 0.9425 - val_loss: 0.2096 - val_accuracy: 0.9150\n",
            "Epoch 75/100\n",
            "25/25 - 0s - loss: 0.1417 - accuracy: 0.9400 - val_loss: 0.2080 - val_accuracy: 0.9000\n",
            "Epoch 76/100\n",
            "25/25 - 0s - loss: 0.1399 - accuracy: 0.9362 - val_loss: 0.2220 - val_accuracy: 0.9000\n",
            "Epoch 77/100\n",
            "25/25 - 0s - loss: 0.1651 - accuracy: 0.9225 - val_loss: 0.1932 - val_accuracy: 0.9100\n",
            "Epoch 78/100\n",
            "25/25 - 0s - loss: 0.1446 - accuracy: 0.9450 - val_loss: 0.2003 - val_accuracy: 0.9050\n",
            "Epoch 79/100\n",
            "25/25 - 0s - loss: 0.1399 - accuracy: 0.9337 - val_loss: 0.1986 - val_accuracy: 0.9100\n",
            "Epoch 80/100\n",
            "25/25 - 0s - loss: 0.1401 - accuracy: 0.9362 - val_loss: 0.1966 - val_accuracy: 0.9050\n",
            "Epoch 81/100\n",
            "25/25 - 0s - loss: 0.1400 - accuracy: 0.9425 - val_loss: 0.1998 - val_accuracy: 0.9000\n",
            "Epoch 82/100\n",
            "25/25 - 0s - loss: 0.1420 - accuracy: 0.9325 - val_loss: 0.1968 - val_accuracy: 0.9050\n",
            "Epoch 83/100\n",
            "25/25 - 0s - loss: 0.1432 - accuracy: 0.9362 - val_loss: 0.2406 - val_accuracy: 0.8950\n",
            "Epoch 84/100\n",
            "25/25 - 0s - loss: 0.1503 - accuracy: 0.9388 - val_loss: 0.1972 - val_accuracy: 0.9100\n",
            "Epoch 85/100\n",
            "25/25 - 0s - loss: 0.1410 - accuracy: 0.9388 - val_loss: 0.2084 - val_accuracy: 0.9050\n",
            "Epoch 86/100\n",
            "25/25 - 0s - loss: 0.1597 - accuracy: 0.9325 - val_loss: 0.2036 - val_accuracy: 0.9100\n",
            "Epoch 87/100\n",
            "25/25 - 0s - loss: 0.1464 - accuracy: 0.9388 - val_loss: 0.1953 - val_accuracy: 0.9100\n",
            "Epoch 88/100\n",
            "25/25 - 0s - loss: 0.1388 - accuracy: 0.9400 - val_loss: 0.1937 - val_accuracy: 0.9050\n",
            "Epoch 89/100\n",
            "25/25 - 0s - loss: 0.1464 - accuracy: 0.9350 - val_loss: 0.2759 - val_accuracy: 0.8700\n",
            "Epoch 90/100\n",
            "25/25 - 0s - loss: 0.1440 - accuracy: 0.9388 - val_loss: 0.1963 - val_accuracy: 0.9050\n",
            "Epoch 91/100\n",
            "25/25 - 0s - loss: 0.1441 - accuracy: 0.9362 - val_loss: 0.2061 - val_accuracy: 0.9150\n",
            "Epoch 92/100\n",
            "25/25 - 0s - loss: 0.1464 - accuracy: 0.9362 - val_loss: 0.2038 - val_accuracy: 0.9050\n",
            "Epoch 93/100\n",
            "25/25 - 0s - loss: 0.1396 - accuracy: 0.9463 - val_loss: 0.2007 - val_accuracy: 0.9100\n",
            "Epoch 94/100\n",
            "25/25 - 0s - loss: 0.1401 - accuracy: 0.9388 - val_loss: 0.1939 - val_accuracy: 0.9050\n",
            "Epoch 95/100\n",
            "25/25 - 0s - loss: 0.1571 - accuracy: 0.9312 - val_loss: 0.2733 - val_accuracy: 0.8900\n",
            "Epoch 96/100\n",
            "25/25 - 0s - loss: 0.1585 - accuracy: 0.9300 - val_loss: 0.2165 - val_accuracy: 0.9000\n",
            "Epoch 97/100\n",
            "25/25 - 0s - loss: 0.1423 - accuracy: 0.9362 - val_loss: 0.2021 - val_accuracy: 0.9150\n",
            "Epoch 98/100\n",
            "25/25 - 0s - loss: 0.1398 - accuracy: 0.9438 - val_loss: 0.2050 - val_accuracy: 0.9000\n",
            "Epoch 99/100\n",
            "25/25 - 0s - loss: 0.1404 - accuracy: 0.9413 - val_loss: 0.2231 - val_accuracy: 0.8850\n",
            "Epoch 100/100\n",
            "25/25 - 0s - loss: 0.1606 - accuracy: 0.9350 - val_loss: 0.1991 - val_accuracy: 0.9100\n"
          ],
          "name": "stdout"
        }
      ]
    },
    {
      "cell_type": "code",
      "metadata": {
        "colab": {
          "base_uri": "https://localhost:8080/",
          "height": 296
        },
        "id": "Yd9B5mziUQHb",
        "outputId": "2761b5f8-a2f0-4bcd-96c2-b431a9e53241"
      },
      "source": [
        "import matplotlib.pyplot as plt\n",
        "# Plotting the accuracies\n",
        "plt.figure()\n",
        "plt.plot(np.arange(nepochs)+1,out.history['accuracy'],label='training accuracy')\n",
        "plt.plot(np.arange(nepochs)+1,out.history['val_accuracy'],label='validation accuracy')\n",
        "plt.legend()\n",
        "plt.xlabel('epoch')\n",
        "plt.ylabel('accuracy')"
      ],
      "execution_count": 25,
      "outputs": [
        {
          "output_type": "execute_result",
          "data": {
            "text/plain": [
              "Text(0, 0.5, 'accuracy')"
            ]
          },
          "metadata": {
            "tags": []
          },
          "execution_count": 25
        },
        {
          "output_type": "display_data",
          "data": {
            "image/png": "[encoded data removed]",
            "text/plain": [
              "<Figure size 432x288 with 1 Axes>"
            ]
          },
          "metadata": {
            "tags": [],
            "needs_background": "light"
          }
        }
      ]
    },
    {
      "cell_type": "markdown",
      "metadata": {
        "id": "M_socGnYQAE7"
      },
      "source": [
        "## 5. Making Prediction\n",
        "Please enter below the month divide by 10 and the temperature divide by 100 and observe the prediction of the model"
      ]
    },
    {
      "cell_type": "code",
      "metadata": {
        "colab": {
          "base_uri": "https://localhost:8080/"
        },
        "id": "PjRZrpDxWZDo",
        "outputId": "a3da29bd-cdf2-400d-e305-a48344285cc4"
      },
      "source": [
        "candidate_X=np.array([[ 0.4, 0.34]])  # enter here month/10 and temperature/100\n",
        "\n",
        "\n",
        "prediction=model.predict(candidate_X)\n",
        "prediction\n",
        "\n",
        "maxElement = np.amax(prediction, axis=1)\n",
        "state_engine= prediction.argmax()\n",
        "print('Prediction :', prediction)\n",
        "print('Max element from Prediction Array : ', maxElement)\n",
        "print ('Index from highest probability:', state_engine)\n",
        "\n",
        "if state_engine == 0:\n",
        "  print (\"We believe your engine is operating in sub-optimal condition; we are fixing the air/fuel ratio \")\n",
        "if state_engine == 1:\n",
        "  print (\"We believe your engine is operating in optimal condition\")\n",
        "if state_engine == 2:\n",
        "  print (\"We believe your engine is in overload; we are triggering the rev limitor \" )\n",
        "\n",
        "\n",
        "\n",
        "\n",
        "\n"
      ],
      "execution_count": 21,
      "outputs": [
        {
          "output_type": "stream",
          "text": [
            "Prediction : [[9.9731642e-01 2.6835878e-03 1.6999593e-10]]\n",
            "Max element from Prediction Array :  [0.9973164]\n",
            "Index from highest probability: 0\n",
            "We believe your engine is operating in sub-optimal condition; we are fixing the air/fuel ratio \n"
          ],
          "name": "stdout"
        }
      ]
    },
    {
      "cell_type": "markdown",
      "metadata": {
        "id": "uW44bIc9Ksp7"
      },
      "source": [
        "## 6. Viewing all the paramaters of the model per layer (Weight + Bias)\n",
        "**Dense_1** (1st hidden layer) : 32x weights + 16 Bias = 48 parameters  \n",
        "**Dense_2** (2nd hidden layer) : 108 weights + 8 bias = 116 parameters  \n",
        "**Dense_3** (output layer) : 24 weights + 3 bias = 27 parameters  \n",
        "Total : 191 parameters"
      ]
    },
    {
      "cell_type": "code",
      "metadata": {
        "colab": {
          "base_uri": "https://localhost:8080/"
        },
        "id": "HlybT9-npnGp",
        "outputId": "8d4d1338-8847-4592-c439-1ba9506d79cd"
      },
      "source": [
        "for lay in model.layers:\n",
        "    print(lay.name)\n",
        "    print(lay.get_weights())"
      ],
      "execution_count": 22,
      "outputs": [
        {
          "output_type": "stream",
          "text": [
            "dense_12\n",
            "[array([[ 0.31054184,  1.2558693 , -0.00662124,  0.25161663, -0.28029686,\n",
            "        -0.5007696 , -0.383727  , -0.48156497, -1.6757107 ,  0.44826156,\n",
            "         0.4899007 ,  0.22512028,  0.00276999, -0.5134824 , -0.48149228,\n",
            "        -0.0168421 ],\n",
            "       [-0.731964  ,  0.45712638, -0.6331008 , -0.01214381, -0.03071147,\n",
            "        -0.11651266, -0.41184694,  0.02961659,  0.8685732 ,  0.76937175,\n",
            "        -1.6604668 ,  1.0917339 ,  0.82623404, -0.3386017 , -0.08191738,\n",
            "        -0.45569023]], dtype=float32), array([ 0.86393315, -1.0473708 ,  0.8633547 ,  1.1363285 ,  0.        ,\n",
            "        0.        ,  0.        ,  0.        ,  0.634165  , -0.17293212,\n",
            "       -0.06837188, -0.20702724, -0.15358439,  0.        ,  0.        ,\n",
            "       -0.04541831], dtype=float32)]\n",
            "dense_13\n",
            "[array([[ 1.1772755 ,  1.4830554 ,  0.14152336, -0.5784389 ,  0.36581245,\n",
            "        -0.20519793, -0.38700405, -0.19800635],\n",
            "       [-2.7711596 , -2.470245  ,  0.13061118,  1.8199831 , -1.4937779 ,\n",
            "        -0.34702158,  2.4570107 ,  2.548672  ],\n",
            "       [ 1.5843831 ,  1.7261769 , -0.03945291, -0.19186656,  0.6247555 ,\n",
            "        -0.11572981, -1.3182137 , -0.4908126 ],\n",
            "       [ 0.6788078 ,  0.7378826 , -0.31640565,  0.20139778,  0.4183845 ,\n",
            "        -0.25391495,  0.3024896 ,  0.10095705],\n",
            "       [-0.4806943 , -0.3210497 ,  0.32896316, -0.40263224, -0.3438933 ,\n",
            "         0.07729697,  0.20620847, -0.3074292 ],\n",
            "       [-0.3500769 , -0.05611646,  0.4522587 , -0.34653544,  0.00405502,\n",
            "         0.07326508,  0.41720223, -0.1173116 ],\n",
            "       [-0.242105  ,  0.43443942, -0.34778726, -0.25187588, -0.4897715 ,\n",
            "        -0.38350856,  0.33473885,  0.23437905],\n",
            "       [-0.30647552, -0.21217084,  0.28921854,  0.00448048, -0.06110287,\n",
            "        -0.28605032, -0.07169235, -0.2046361 ],\n",
            "       [-1.5469671 , -0.99991846, -0.0949465 ,  2.7726083 , -1.4129727 ,\n",
            "         0.4466617 ,  2.3782198 ,  2.5082579 ],\n",
            "       [ 0.07782471, -0.4838259 , -0.07013667,  0.5775829 , -0.68044555,\n",
            "        -0.38067627,  0.59022474,  0.3203963 ],\n",
            "       [ 1.3645048 ,  0.00456649, -0.39345264, -2.2320814 ,  1.9602787 ,\n",
            "        -0.1060394 , -0.52415335, -1.9256028 ],\n",
            "       [-0.32189006, -0.84421426, -0.07903922,  0.20609564, -0.55210084,\n",
            "         0.01354206,  1.0191196 ,  0.47578755],\n",
            "       [-0.43908152,  0.01387935,  0.37768185,  0.39599252,  0.3994198 ,\n",
            "        -0.4758128 ,  0.9994988 ,  0.176722  ],\n",
            "       [-0.13170934, -0.32484305, -0.2833264 , -0.10313714,  0.12425041,\n",
            "        -0.4655254 ,  0.46303165, -0.03437567],\n",
            "       [-0.48356807, -0.3391174 ,  0.13137901,  0.26163983,  0.38086498,\n",
            "         0.27692652,  0.3137312 , -0.4711752 ],\n",
            "       [-0.37669727, -0.14360528,  0.16560137, -0.16635287, -0.18558122,\n",
            "        -0.35101402,  0.45445698, -0.406287  ]], dtype=float32), array([ 0.58128744,  0.77839416,  0.        , -0.13839984,  0.19580446,\n",
            "        0.        , -0.36546084, -0.24483106], dtype=float32)]\n",
            "dense_14\n",
            "[array([[ 1.2677962 ,  0.617098  , -1.6988413 ],\n",
            "       [ 1.5444206 ,  0.56712455, -3.0036483 ],\n",
            "       [-0.06662256,  0.6643161 ,  0.45053273],\n",
            "       [-2.3079097 , -0.02207154,  0.5745981 ],\n",
            "       [ 1.4534389 , -2.2724643 ,  0.22807351],\n",
            "       [-0.6469848 , -0.19313699,  0.1296218 ],\n",
            "       [-1.3505898 ,  0.21619199,  1.8388989 ],\n",
            "       [-1.9856688 ,  0.36813065,  1.3808261 ]], dtype=float32), array([ 0.3077422 ,  0.24398355, -0.6313905 ], dtype=float32)]\n"
          ],
          "name": "stdout"
        }
      ]
    },
    {
      "cell_type": "markdown",
      "metadata": {
        "id": "6R8GhJ1krJrY"
      },
      "source": [
        "Weights for the first layer (2 inputs x 16 units)\n",
        "Biases for the first layer (16 units)\n",
        "Weights for the second layer (16 inputs x 8unit)\n",
        "Biases for the second layer (8 unit)\n",
        "Weights for the third (8 inputs x 3unit)\n",
        "Biases for the second layer (3 unit)"
      ]
    },
    {
      "cell_type": "code",
      "metadata": {
        "id": "45A5eSFnrbWP"
      },
      "source": [
        ""
      ],
      "execution_count": null,
      "outputs": []
    }
  ]
}