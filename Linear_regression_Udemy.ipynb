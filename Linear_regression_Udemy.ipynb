{
  "nbformat": 4,
  "nbformat_minor": 0,
  "metadata": {
    "kernelspec": {
      "display_name": "Python 3",
      "language": "python",
      "name": "python3"
    },
    "language_info": {
      "codemirror_mode": {
        "name": "ipython",
        "version": 3
      },
      "file_extension": ".py",
      "mimetype": "text/x-python",
      "name": "python",
      "nbconvert_exporter": "python",
      "pygments_lexer": "ipython3",
      "version": "3.5.3"
    },
    "colab": {
      "name": "Linear-regression.ipynb",
      "provenance": [],
      "include_colab_link": true
    }
  },
  "cells": [
    {
      "cell_type": "markdown",
      "metadata": {
        "id": "view-in-github",
        "colab_type": "text"
      },
      "source": [
        "<a href=\"https://colab.research.google.com/github/erikk-avans/Machine-Learning/blob/master/Linear_regression.ipynb\" target=\"_parent\"><img src=\"https://colab.research.google.com/assets/colab-badge.svg\" alt=\"Open In Colab\"/></a>"
      ]
    },
    {
      "cell_type": "markdown",
      "metadata": {
        "id": "PGi6tD1LbHsW",
        "colab_type": "text"
      },
      "source": [
        "# Linear Regression"
      ]
    },
    {
      "cell_type": "code",
      "metadata": {
        "id": "Aw2b4-BibHsZ",
        "colab_type": "code",
        "colab": {}
      },
      "source": [
        "%matplotlib inline\n",
        "import matplotlib.pyplot as plt\n",
        "import pandas as pd\n",
        "import numpy as np"
      ],
      "execution_count": 0,
      "outputs": []
    },
    {
      "cell_type": "code",
      "metadata": {
        "id": "R_mbmWjtbWIg",
        "colab_type": "code",
        "outputId": "11109ad3-18cd-43aa-c986-b882af3ed816",
        "colab": {
          "base_uri": "https://localhost:8080/",
          "height": 104
        }
      },
      "source": [
        "!git clone https://github.com/Dataweekends/zero_to_deep_learning_udemy.git"
      ],
      "execution_count": 0,
      "outputs": [
        {
          "output_type": "stream",
          "text": [
            "Cloning into 'zero_to_deep_learning_udemy'...\n",
            "remote: Enumerating objects: 364, done.\u001b[K\n",
            "remote: Total 364 (delta 0), reused 0 (delta 0), pack-reused 364\u001b[K\n",
            "Receiving objects: 100% (364/364), 6.53 MiB | 8.02 MiB/s, done.\n",
            "Resolving deltas: 100% (227/227), done.\n"
          ],
          "name": "stdout"
        }
      ]
    },
    {
      "cell_type": "code",
      "metadata": {
        "id": "KeL3HRQ2bHse",
        "colab_type": "code",
        "colab": {}
      },
      "source": [
        "df = pd.read_csv('zero_to_deep_learning_udemy/data/weight-height.csv')"
      ],
      "execution_count": 0,
      "outputs": []
    },
    {
      "cell_type": "code",
      "metadata": {
        "id": "W12xROrabHsh",
        "colab_type": "code",
        "outputId": "fbb2255f-2528-486e-f019-9fd01103bae6",
        "colab": {
          "base_uri": "https://localhost:8080/",
          "height": 198
        }
      },
      "source": [
        "df.head()"
      ],
      "execution_count": 0,
      "outputs": [
        {
          "output_type": "execute_result",
          "data": {
            "text/html": [
              "<div>\n",
              "<style scoped>\n",
              "    .dataframe tbody tr th:only-of-type {\n",
              "        vertical-align: middle;\n",
              "    }\n",
              "\n",
              "    .dataframe tbody tr th {\n",
              "        vertical-align: top;\n",
              "    }\n",
              "\n",
              "    .dataframe thead th {\n",
              "        text-align: right;\n",
              "    }\n",
              "</style>\n",
              "<table border=\"1\" class=\"dataframe\">\n",
              "  <thead>\n",
              "    <tr style=\"text-align: right;\">\n",
              "      <th></th>\n",
              "      <th>Gender</th>\n",
              "      <th>Height</th>\n",
              "      <th>Weight</th>\n",
              "    </tr>\n",
              "  </thead>\n",
              "  <tbody>\n",
              "    <tr>\n",
              "      <th>0</th>\n",
              "      <td>Male</td>\n",
              "      <td>73.847017</td>\n",
              "      <td>241.893563</td>\n",
              "    </tr>\n",
              "    <tr>\n",
              "      <th>1</th>\n",
              "      <td>Male</td>\n",
              "      <td>68.781904</td>\n",
              "      <td>162.310473</td>\n",
              "    </tr>\n",
              "    <tr>\n",
              "      <th>2</th>\n",
              "      <td>Male</td>\n",
              "      <td>74.110105</td>\n",
              "      <td>212.740856</td>\n",
              "    </tr>\n",
              "    <tr>\n",
              "      <th>3</th>\n",
              "      <td>Male</td>\n",
              "      <td>71.730978</td>\n",
              "      <td>220.042470</td>\n",
              "    </tr>\n",
              "    <tr>\n",
              "      <th>4</th>\n",
              "      <td>Male</td>\n",
              "      <td>69.881796</td>\n",
              "      <td>206.349801</td>\n",
              "    </tr>\n",
              "  </tbody>\n",
              "</table>\n",
              "</div>"
            ],
            "text/plain": [
              "  Gender     Height      Weight\n",
              "0   Male  73.847017  241.893563\n",
              "1   Male  68.781904  162.310473\n",
              "2   Male  74.110105  212.740856\n",
              "3   Male  71.730978  220.042470\n",
              "4   Male  69.881796  206.349801"
            ]
          },
          "metadata": {
            "tags": []
          },
          "execution_count": 5
        }
      ]
    },
    {
      "cell_type": "code",
      "metadata": {
        "id": "EdPNo06IbHsk",
        "colab_type": "code",
        "outputId": "776d4bb4-b853-46d3-9389-bacf3c4bd498",
        "colab": {
          "base_uri": "https://localhost:8080/",
          "height": 312
        }
      },
      "source": [
        "df.plot(kind='scatter',\n",
        "        x='Height',\n",
        "        y='Weight',\n",
        "        title='Weight and Height in adults')"
      ],
      "execution_count": 0,
      "outputs": [
        {
          "output_type": "execute_result",
          "data": {
            "text/plain": [
              "<matplotlib.axes._subplots.AxesSubplot at 0x7f388fd7cc88>"
            ]
          },
          "metadata": {
            "tags": []
          },
          "execution_count": 6
        },
        {
          "output_type": "display_data",
          "data": {
            "image/png": "[encoded data removed]",
            "text/plain": [
              "<Figure size 432x288 with 1 Axes>"
            ]
          },
          "metadata": {
            "tags": []
          }
        }
      ]
    },
    {
      "cell_type": "code",
      "metadata": {
        "id": "QLcKfkD8bHsm",
        "colab_type": "code",
        "outputId": "4763b514-7050-4dff-9806-71e85fa70c6f",
        "colab": {
          "base_uri": "https://localhost:8080/",
          "height": 312
        }
      },
      "source": [
        "df.plot(kind='scatter',\n",
        "        x='Height',\n",
        "        y='Weight',\n",
        "        title='Weight and Height in adults')\n",
        "\n",
        "# Here we're plotting the red line 'by hand' with fixed values\n",
        "# We'll try to learn this line with an algorithm below\n",
        "plt.plot([55, 78], [75, 250], color='red', linewidth=3)"
      ],
      "execution_count": 0,
      "outputs": [
        {
          "output_type": "execute_result",
          "data": {
            "text/plain": [
              "[<matplotlib.lines.Line2D at 0x7f388d4c0400>]"
            ]
          },
          "metadata": {
            "tags": []
          },
          "execution_count": 7
        },
        {
          "output_type": "display_data",
          "data": {
            "image/png": "[encoded data removed]",
            "text/plain": [
              "<Figure size 432x288 with 1 Axes>"
            ]
          },
          "metadata": {
            "tags": []
          }
        }
      ]
    },
    {
      "cell_type": "code",
      "metadata": {
        "id": "nwQNjQqUbHsp",
        "colab_type": "code",
        "colab": {}
      },
      "source": [
        "def line(x, w=0, b=0):\n",
        "    return x * w + b"
      ],
      "execution_count": 0,
      "outputs": []
    },
    {
      "cell_type": "code",
      "metadata": {
        "id": "z-bBx8_QbHsr",
        "colab_type": "code",
        "colab": {}
      },
      "source": [
        "x = np.linspace(55, 80, 100)"
      ],
      "execution_count": 0,
      "outputs": []
    },
    {
      "cell_type": "code",
      "metadata": {
        "id": "tVPB7jQMbHsu",
        "colab_type": "code",
        "outputId": "64657306-aa19-4bff-f84f-0f465cb172df",
        "colab": {
          "base_uri": "https://localhost:8080/",
          "height": 363
        }
      },
      "source": [
        "x"
      ],
      "execution_count": 0,
      "outputs": [
        {
          "output_type": "execute_result",
          "data": {
            "text/plain": [
              "array([55.        , 55.25252525, 55.50505051, 55.75757576, 56.01010101,\n",
              "       56.26262626, 56.51515152, 56.76767677, 57.02020202, 57.27272727,\n",
              "       57.52525253, 57.77777778, 58.03030303, 58.28282828, 58.53535354,\n",
              "       58.78787879, 59.04040404, 59.29292929, 59.54545455, 59.7979798 ,\n",
              "       60.05050505, 60.3030303 , 60.55555556, 60.80808081, 61.06060606,\n",
              "       61.31313131, 61.56565657, 61.81818182, 62.07070707, 62.32323232,\n",
              "       62.57575758, 62.82828283, 63.08080808, 63.33333333, 63.58585859,\n",
              "       63.83838384, 64.09090909, 64.34343434, 64.5959596 , 64.84848485,\n",
              "       65.1010101 , 65.35353535, 65.60606061, 65.85858586, 66.11111111,\n",
              "       66.36363636, 66.61616162, 66.86868687, 67.12121212, 67.37373737,\n",
              "       67.62626263, 67.87878788, 68.13131313, 68.38383838, 68.63636364,\n",
              "       68.88888889, 69.14141414, 69.39393939, 69.64646465, 69.8989899 ,\n",
              "       70.15151515, 70.4040404 , 70.65656566, 70.90909091, 71.16161616,\n",
              "       71.41414141, 71.66666667, 71.91919192, 72.17171717, 72.42424242,\n",
              "       72.67676768, 72.92929293, 73.18181818, 73.43434343, 73.68686869,\n",
              "       73.93939394, 74.19191919, 74.44444444, 74.6969697 , 74.94949495,\n",
              "       75.2020202 , 75.45454545, 75.70707071, 75.95959596, 76.21212121,\n",
              "       76.46464646, 76.71717172, 76.96969697, 77.22222222, 77.47474747,\n",
              "       77.72727273, 77.97979798, 78.23232323, 78.48484848, 78.73737374,\n",
              "       78.98989899, 79.24242424, 79.49494949, 79.74747475, 80.        ])"
            ]
          },
          "metadata": {
            "tags": []
          },
          "execution_count": 10
        }
      ]
    },
    {
      "cell_type": "code",
      "metadata": {
        "id": "ry0z6FVfbHsw",
        "colab_type": "code",
        "colab": {}
      },
      "source": [
        "yhat = line(x, w=0, b=0)"
      ],
      "execution_count": 0,
      "outputs": []
    },
    {
      "cell_type": "code",
      "metadata": {
        "id": "lbaqm7R4bHsy",
        "colab_type": "code",
        "outputId": "3f5c129a-30d3-45a3-d743-0116ea3c6f31",
        "colab": {
          "base_uri": "https://localhost:8080/",
          "height": 121
        }
      },
      "source": [
        "yhat"
      ],
      "execution_count": 0,
      "outputs": [
        {
          "output_type": "execute_result",
          "data": {
            "text/plain": [
              "array([0., 0., 0., 0., 0., 0., 0., 0., 0., 0., 0., 0., 0., 0., 0., 0., 0.,\n",
              "       0., 0., 0., 0., 0., 0., 0., 0., 0., 0., 0., 0., 0., 0., 0., 0., 0.,\n",
              "       0., 0., 0., 0., 0., 0., 0., 0., 0., 0., 0., 0., 0., 0., 0., 0., 0.,\n",
              "       0., 0., 0., 0., 0., 0., 0., 0., 0., 0., 0., 0., 0., 0., 0., 0., 0.,\n",
              "       0., 0., 0., 0., 0., 0., 0., 0., 0., 0., 0., 0., 0., 0., 0., 0., 0.,\n",
              "       0., 0., 0., 0., 0., 0., 0., 0., 0., 0., 0., 0., 0., 0., 0.])"
            ]
          },
          "metadata": {
            "tags": []
          },
          "execution_count": 15
        }
      ]
    },
    {
      "cell_type": "code",
      "metadata": {
        "id": "358HKlnbbHs1",
        "colab_type": "code",
        "outputId": "1d84a68b-4007-47bf-fe81-0c3ac62c318e",
        "colab": {
          "base_uri": "https://localhost:8080/",
          "height": 312
        }
      },
      "source": [
        "df.plot(kind='scatter',\n",
        "        x='Height',\n",
        "        y='Weight',\n",
        "        title='Weight and Height in adults')\n",
        "plt.plot(x, yhat, color='red', linewidth=3)"
      ],
      "execution_count": 0,
      "outputs": [
        {
          "output_type": "execute_result",
          "data": {
            "text/plain": [
              "[<matplotlib.lines.Line2D at 0x7f388cfa8748>]"
            ]
          },
          "metadata": {
            "tags": []
          },
          "execution_count": 13
        },
        {
          "output_type": "display_data",
          "data": {
            "image/png": "[encoded data removed]",
            "text/plain": [
              "<Figure size 432x288 with 1 Axes>"
            ]
          },
          "metadata": {
            "tags": []
          }
        }
      ]
    },
    {
      "cell_type": "markdown",
      "metadata": {
        "id": "pIBTlC_abHs3",
        "colab_type": "text"
      },
      "source": [
        "### Cost Function"
      ]
    },
    {
      "cell_type": "code",
      "metadata": {
        "id": "5IH82kVxbHs3",
        "colab_type": "code",
        "colab": {}
      },
      "source": [
        "def mean_squared_error(y_true, y_pred):\n",
        "    s = (y_true - y_pred)**2\n",
        "    return s.mean()"
      ],
      "execution_count": 0,
      "outputs": []
    },
    {
      "cell_type": "code",
      "metadata": {
        "id": "Vnj3_nVebHs6",
        "colab_type": "code",
        "colab": {}
      },
      "source": [
        "X = df[['Height']].values\n",
        "y_true = df['Weight'].values"
      ],
      "execution_count": 0,
      "outputs": []
    },
    {
      "cell_type": "code",
      "metadata": {
        "id": "RMvp4SiBbHs8",
        "colab_type": "code",
        "outputId": "f4a16114-9e43-447c-a155-3393ef3f7ece",
        "colab": {
          "base_uri": "https://localhost:8080/",
          "height": 52
        }
      },
      "source": [
        "y_true"
      ],
      "execution_count": 0,
      "outputs": [
        {
          "output_type": "execute_result",
          "data": {
            "text/plain": [
              "array([241.89356318, 162.31047252, 212.74085556, ..., 128.47531878,\n",
              "       163.85246135, 113.64910268])"
            ]
          },
          "metadata": {
            "tags": []
          },
          "execution_count": 18
        }
      ]
    },
    {
      "cell_type": "code",
      "metadata": {
        "id": "2l-jR5wjbHs-",
        "colab_type": "code",
        "colab": {}
      },
      "source": [
        "y_pred = line(X)"
      ],
      "execution_count": 0,
      "outputs": []
    },
    {
      "cell_type": "code",
      "metadata": {
        "id": "Gtomj3m_bHtA",
        "colab_type": "code",
        "outputId": "dabaae82-bb1c-4069-f927-291426de2b12",
        "colab": {
          "base_uri": "https://localhost:8080/",
          "height": 138
        }
      },
      "source": [
        "y_pred"
      ],
      "execution_count": 0,
      "outputs": [
        {
          "output_type": "execute_result",
          "data": {
            "text/plain": [
              "array([[0.],\n",
              "       [0.],\n",
              "       [0.],\n",
              "       ...,\n",
              "       [0.],\n",
              "       [0.],\n",
              "       [0.]])"
            ]
          },
          "metadata": {
            "tags": []
          },
          "execution_count": 20
        }
      ]
    },
    {
      "cell_type": "code",
      "metadata": {
        "id": "xuovW4CAbHtC",
        "colab_type": "code",
        "outputId": "213dfe16-e640-4a83-d62a-3318dc7d5996",
        "colab": {
          "base_uri": "https://localhost:8080/",
          "height": 35
        }
      },
      "source": [
        "mean_squared_error(y_true, y_pred.ravel())"
      ],
      "execution_count": 0,
      "outputs": [
        {
          "output_type": "execute_result",
          "data": {
            "text/plain": [
              "27093.83757456157"
            ]
          },
          "metadata": {
            "tags": []
          },
          "execution_count": 21
        }
      ]
    },
    {
      "cell_type": "markdown",
      "metadata": {
        "id": "k7FgJFQWbHtE",
        "colab_type": "text"
      },
      "source": [
        "### you do it!\n",
        "\n",
        "Try changing the values of the parameters b and w in the line above and plot it again to see how the plot and the cost  change."
      ]
    },
    {
      "cell_type": "code",
      "metadata": {
        "id": "m5o6zilnbHtF",
        "colab_type": "code",
        "colab": {}
      },
      "source": [
        ""
      ],
      "execution_count": 0,
      "outputs": []
    },
    {
      "cell_type": "code",
      "metadata": {
        "id": "oWVRVVB0bHtH",
        "colab_type": "code",
        "outputId": "c61bc919-ba7c-429f-8e97-2aa4adc0fe1a",
        "colab": {
          "base_uri": "https://localhost:8080/",
          "height": 367
        }
      },
      "source": [
        "plt.figure(figsize=(10, 5))\n",
        "\n",
        "# we are going to draw 2 plots in the same figure\n",
        "# first plot, data and a few lines\n",
        "ax1 = plt.subplot(121)\n",
        "df.plot(kind='scatter',\n",
        "        x='Height',\n",
        "        y='Weight',\n",
        "        title='Weight and Height in adults', ax=ax1)\n",
        "\n",
        "# let's explore the cost function for a few values of b between -100 and +150\n",
        "bbs = np.array([-100, -50, 0, 50, 100, 150])\n",
        "mses = []  # we will append the values of the cost here, for each line\n",
        "for b in bbs:\n",
        "    y_pred = line(X, w=2, b=b)\n",
        "    mse = mean_squared_error(y_true, y_pred)\n",
        "    mses.append(mse)\n",
        "    plt.plot(X, y_pred)\n",
        "\n",
        "# second plot: Cost function\n",
        "ax2 = plt.subplot(122)\n",
        "plt.plot(bbs, mses, 'o-')\n",
        "plt.title('Cost as a function of b')\n",
        "plt.xlabel('b')"
      ],
      "execution_count": 0,
      "outputs": [
        {
          "output_type": "execute_result",
          "data": {
            "text/plain": [
              "Text(0.5, 0, 'b')"
            ]
          },
          "metadata": {
            "tags": []
          },
          "execution_count": 22
        },
        {
          "output_type": "display_data",
          "data": {
            "image/png": "[encoded data removed]",
            "text/plain": [
              "<Figure size 720x360 with 2 Axes>"
            ]
          },
          "metadata": {
            "tags": []
          }
        }
      ]
    },
    {
      "cell_type": "markdown",
      "metadata": {
        "id": "XDIaM3mEbHtK",
        "colab_type": "text"
      },
      "source": [
        "## Linear Regression with Keras"
      ]
    },
    {
      "cell_type": "code",
      "metadata": {
        "id": "SbnTnu14bHtM",
        "colab_type": "code",
        "outputId": "820e6d0f-6757-40a3-cc02-74eb8b6268f5",
        "colab": {
          "base_uri": "https://localhost:8080/",
          "height": 81
        }
      },
      "source": [
        "from keras.models import Sequential\n",
        "from keras.layers import Dense\n",
        "from keras.optimizers import Adam, SGD"
      ],
      "execution_count": 0,
      "outputs": [
        {
          "output_type": "stream",
          "text": [
            "Using TensorFlow backend.\n"
          ],
          "name": "stderr"
        },
        {
          "output_type": "display_data",
          "data": {
            "text/html": [
              "<p style=\"color: red;\">\n",
              "The default version of TensorFlow in Colab will soon switch to TensorFlow 2.x.<br>\n",
              "We recommend you <a href=\"https://www.tensorflow.org/guide/migrate\" target=\"_blank\">upgrade</a> now \n",
              "or ensure your notebook will continue to use TensorFlow 1.x via the <code>%tensorflow_version 1.x</code> magic:\n",
              "<a href=\"https://colab.research.google.com/notebooks/tensorflow_version.ipynb\" target=\"_blank\">more info</a>.</p>\n"
            ],
            "text/plain": [
              "<IPython.core.display.HTML object>"
            ]
          },
          "metadata": {
            "tags": []
          }
        }
      ]
    },
    {
      "cell_type": "code",
      "metadata": {
        "id": "eUf1ApwHbHtQ",
        "colab_type": "code",
        "outputId": "c7c8cc54-8781-4ee2-c7ed-ae0e997d7756",
        "colab": {
          "base_uri": "https://localhost:8080/",
          "height": 72
        }
      },
      "source": [
        "model = Sequential()"
      ],
      "execution_count": 0,
      "outputs": [
        {
          "output_type": "stream",
          "text": [
            "WARNING:tensorflow:From /usr/local/lib/python3.6/dist-packages/keras/backend/tensorflow_backend.py:66: The name tf.get_default_graph is deprecated. Please use tf.compat.v1.get_default_graph instead.\n",
            "\n"
          ],
          "name": "stdout"
        }
      ]
    },
    {
      "cell_type": "code",
      "metadata": {
        "id": "1SKaXVSgbHtT",
        "colab_type": "code",
        "outputId": "12181a5d-922f-49a0-fbb8-b199889b7485",
        "colab": {
          "base_uri": "https://localhost:8080/",
          "height": 106
        }
      },
      "source": [
        "model.add(Dense(1, input_shape=(1,)))"
      ],
      "execution_count": 0,
      "outputs": [
        {
          "output_type": "stream",
          "text": [
            "WARNING:tensorflow:From /usr/local/lib/python3.6/dist-packages/keras/backend/tensorflow_backend.py:541: The name tf.placeholder is deprecated. Please use tf.compat.v1.placeholder instead.\n",
            "\n",
            "WARNING:tensorflow:From /usr/local/lib/python3.6/dist-packages/keras/backend/tensorflow_backend.py:4432: The name tf.random_uniform is deprecated. Please use tf.random.uniform instead.\n",
            "\n"
          ],
          "name": "stdout"
        }
      ]
    },
    {
      "cell_type": "code",
      "metadata": {
        "id": "95qzXKz_bHtV",
        "colab_type": "code",
        "outputId": "b418578b-785f-4719-e19b-3cdcc5d61134",
        "colab": {
          "base_uri": "https://localhost:8080/",
          "height": 190
        }
      },
      "source": [
        "model.summary()"
      ],
      "execution_count": 0,
      "outputs": [
        {
          "output_type": "stream",
          "text": [
            "Model: \"sequential_1\"\n",
            "_________________________________________________________________\n",
            "Layer (type)                 Output Shape              Param #   \n",
            "=================================================================\n",
            "dense_1 (Dense)              (None, 1)                 2         \n",
            "=================================================================\n",
            "Total params: 2\n",
            "Trainable params: 2\n",
            "Non-trainable params: 0\n",
            "_________________________________________________________________\n"
          ],
          "name": "stdout"
        }
      ]
    },
    {
      "cell_type": "code",
      "metadata": {
        "id": "55GlPIsqbHtX",
        "colab_type": "code",
        "outputId": "808111eb-d078-4158-983a-9405446fd79e",
        "colab": {
          "base_uri": "https://localhost:8080/",
          "height": 72
        }
      },
      "source": [
        "model.compile(Adam(lr=0.8), 'mean_squared_error')"
      ],
      "execution_count": 0,
      "outputs": [
        {
          "output_type": "stream",
          "text": [
            "WARNING:tensorflow:From /usr/local/lib/python3.6/dist-packages/keras/optimizers.py:793: The name tf.train.Optimizer is deprecated. Please use tf.compat.v1.train.Optimizer instead.\n",
            "\n"
          ],
          "name": "stdout"
        }
      ]
    },
    {
      "cell_type": "code",
      "metadata": {
        "id": "gCshfoqPbHtZ",
        "colab_type": "code",
        "outputId": "fa9ce312-e1ee-4490-cb49-e4393e1d6652",
        "colab": {
          "base_uri": "https://localhost:8080/",
          "height": 1000
        }
      },
      "source": [
        "model.fit(X, y_true, epochs=40)"
      ],
      "execution_count": 0,
      "outputs": [
        {
          "output_type": "stream",
          "text": [
            "WARNING:tensorflow:From /usr/local/lib/python3.6/dist-packages/keras/backend/tensorflow_backend.py:1033: The name tf.assign_add is deprecated. Please use tf.compat.v1.assign_add instead.\n",
            "\n",
            "WARNING:tensorflow:From /usr/local/lib/python3.6/dist-packages/keras/backend/tensorflow_backend.py:1020: The name tf.assign is deprecated. Please use tf.compat.v1.assign instead.\n",
            "\n",
            "WARNING:tensorflow:From /usr/local/lib/python3.6/dist-packages/keras/backend/tensorflow_backend.py:3005: The name tf.Session is deprecated. Please use tf.compat.v1.Session instead.\n",
            "\n",
            "Epoch 1/40\n",
            "WARNING:tensorflow:From /usr/local/lib/python3.6/dist-packages/keras/backend/tensorflow_backend.py:190: The name tf.get_default_session is deprecated. Please use tf.compat.v1.get_default_session instead.\n",
            "\n",
            "WARNING:tensorflow:From /usr/local/lib/python3.6/dist-packages/keras/backend/tensorflow_backend.py:197: The name tf.ConfigProto is deprecated. Please use tf.compat.v1.ConfigProto instead.\n",
            "\n",
            "WARNING:tensorflow:From /usr/local/lib/python3.6/dist-packages/keras/backend/tensorflow_backend.py:207: The name tf.global_variables is deprecated. Please use tf.compat.v1.global_variables instead.\n",
            "\n",
            "WARNING:tensorflow:From /usr/local/lib/python3.6/dist-packages/keras/backend/tensorflow_backend.py:216: The name tf.is_variable_initialized is deprecated. Please use tf.compat.v1.is_variable_initialized instead.\n",
            "\n",
            "WARNING:tensorflow:From /usr/local/lib/python3.6/dist-packages/keras/backend/tensorflow_backend.py:223: The name tf.variables_initializer is deprecated. Please use tf.compat.v1.variables_initializer instead.\n",
            "\n",
            "10000/10000 [==============================] - 1s 98us/step - loss: 669.4999\n",
            "Epoch 2/40\n",
            "10000/10000 [==============================] - 0s 29us/step - loss: 528.2000\n",
            "Epoch 3/40\n",
            "10000/10000 [==============================] - 0s 26us/step - loss: 486.1192\n",
            "Epoch 4/40\n",
            "10000/10000 [==============================] - 0s 29us/step - loss: 431.7662\n",
            "Epoch 5/40\n",
            "10000/10000 [==============================] - 0s 32us/step - loss: 382.6462\n",
            "Epoch 6/40\n",
            "10000/10000 [==============================] - 0s 30us/step - loss: 341.5874\n",
            "Epoch 7/40\n",
            "10000/10000 [==============================] - 0s 29us/step - loss: 305.9271\n",
            "Epoch 8/40\n",
            "10000/10000 [==============================] - 0s 27us/step - loss: 283.7512\n",
            "Epoch 9/40\n",
            "10000/10000 [==============================] - 0s 28us/step - loss: 271.5849\n",
            "Epoch 10/40\n",
            "10000/10000 [==============================] - 0s 29us/step - loss: 242.2093\n",
            "Epoch 11/40\n",
            "10000/10000 [==============================] - 0s 28us/step - loss: 231.1835\n",
            "Epoch 12/40\n",
            "10000/10000 [==============================] - 0s 31us/step - loss: 223.6329\n",
            "Epoch 13/40\n",
            "10000/10000 [==============================] - 0s 30us/step - loss: 201.1773\n",
            "Epoch 14/40\n",
            "10000/10000 [==============================] - 0s 29us/step - loss: 192.8312\n",
            "Epoch 15/40\n",
            "10000/10000 [==============================] - 0s 30us/step - loss: 195.6897\n",
            "Epoch 16/40\n",
            "10000/10000 [==============================] - 0s 29us/step - loss: 188.6879\n",
            "Epoch 17/40\n",
            "10000/10000 [==============================] - 0s 28us/step - loss: 187.1711\n",
            "Epoch 18/40\n",
            "10000/10000 [==============================] - 0s 29us/step - loss: 197.9167\n",
            "Epoch 19/40\n",
            "10000/10000 [==============================] - 0s 26us/step - loss: 200.3217\n",
            "Epoch 20/40\n",
            "10000/10000 [==============================] - 0s 30us/step - loss: 183.5190\n",
            "Epoch 21/40\n",
            "10000/10000 [==============================] - 0s 31us/step - loss: 185.1047\n",
            "Epoch 22/40\n",
            "10000/10000 [==============================] - 0s 31us/step - loss: 182.2990\n",
            "Epoch 23/40\n",
            "10000/10000 [==============================] - 0s 31us/step - loss: 183.1081\n",
            "Epoch 24/40\n",
            "10000/10000 [==============================] - 0s 31us/step - loss: 186.6386\n",
            "Epoch 25/40\n",
            "10000/10000 [==============================] - 0s 30us/step - loss: 182.8039\n",
            "Epoch 26/40\n",
            "10000/10000 [==============================] - 0s 28us/step - loss: 187.8752\n",
            "Epoch 27/40\n",
            "10000/10000 [==============================] - 0s 27us/step - loss: 175.1882\n",
            "Epoch 28/40\n",
            "10000/10000 [==============================] - 0s 26us/step - loss: 185.4617\n",
            "Epoch 29/40\n",
            "10000/10000 [==============================] - 0s 29us/step - loss: 178.5286\n",
            "Epoch 30/40\n",
            "10000/10000 [==============================] - 0s 28us/step - loss: 168.6304\n",
            "Epoch 31/40\n",
            "10000/10000 [==============================] - 0s 26us/step - loss: 173.1201\n",
            "Epoch 32/40\n",
            "10000/10000 [==============================] - 0s 26us/step - loss: 169.8645\n",
            "Epoch 33/40\n",
            "10000/10000 [==============================] - 0s 29us/step - loss: 189.7060\n",
            "Epoch 34/40\n",
            "10000/10000 [==============================] - 0s 28us/step - loss: 175.3003\n",
            "Epoch 35/40\n",
            "10000/10000 [==============================] - 0s 26us/step - loss: 167.0712\n",
            "Epoch 36/40\n",
            "10000/10000 [==============================] - 0s 26us/step - loss: 193.5620\n",
            "Epoch 37/40\n",
            "10000/10000 [==============================] - 0s 28us/step - loss: 178.2836\n",
            "Epoch 38/40\n",
            "10000/10000 [==============================] - 0s 28us/step - loss: 184.4597\n",
            "Epoch 39/40\n",
            "10000/10000 [==============================] - 0s 27us/step - loss: 184.9482\n",
            "Epoch 40/40\n",
            "10000/10000 [==============================] - 0s 27us/step - loss: 178.1246\n"
          ],
          "name": "stdout"
        },
        {
          "output_type": "execute_result",
          "data": {
            "text/plain": [
              "<keras.callbacks.History at 0x7f384de78518>"
            ]
          },
          "metadata": {
            "tags": []
          },
          "execution_count": 28
        }
      ]
    },
    {
      "cell_type": "code",
      "metadata": {
        "id": "hvE-q0LTbHtb",
        "colab_type": "code",
        "colab": {}
      },
      "source": [
        "y_pred = model.predict(X)"
      ],
      "execution_count": 0,
      "outputs": []
    },
    {
      "cell_type": "code",
      "metadata": {
        "id": "isgzF32GbHtd",
        "colab_type": "code",
        "outputId": "3cbf3b88-2a2f-4bd0-9055-38af5ee0ee91",
        "colab": {
          "base_uri": "https://localhost:8080/",
          "height": 312
        }
      },
      "source": [
        "df.plot(kind='scatter',\n",
        "        x='Height',\n",
        "        y='Weight',\n",
        "        title='Weight and Height in adults')\n",
        "plt.plot(X, y_pred, color='red')"
      ],
      "execution_count": 0,
      "outputs": [
        {
          "output_type": "execute_result",
          "data": {
            "text/plain": [
              "[<matplotlib.lines.Line2D at 0x7f384de0cdd8>]"
            ]
          },
          "metadata": {
            "tags": []
          },
          "execution_count": 30
        },
        {
          "output_type": "display_data",
          "data": {
            "image/png": "[encoded data removed]",
            "text/plain": [
              "<Figure size 432x288 with 1 Axes>"
            ]
          },
          "metadata": {
            "tags": []
          }
        }
      ]
    },
    {
      "cell_type": "code",
      "metadata": {
        "id": "66ln1D9qbHtf",
        "colab_type": "code",
        "colab": {}
      },
      "source": [
        "W, B = model.get_weights()"
      ],
      "execution_count": 0,
      "outputs": []
    },
    {
      "cell_type": "code",
      "metadata": {
        "id": "yKFhuR-gbHtj",
        "colab_type": "code",
        "outputId": "2c4a5001-f0a0-4bfa-b9de-bffcc55b071d",
        "colab": {
          "base_uri": "https://localhost:8080/",
          "height": 35
        }
      },
      "source": [
        "W"
      ],
      "execution_count": 0,
      "outputs": [
        {
          "output_type": "execute_result",
          "data": {
            "text/plain": [
              "array([[7.717929]], dtype=float32)"
            ]
          },
          "metadata": {
            "tags": []
          },
          "execution_count": 32
        }
      ]
    },
    {
      "cell_type": "code",
      "metadata": {
        "id": "L_wDsK2CbHtp",
        "colab_type": "code",
        "outputId": "ed8e1c41-c255-40b4-d937-ac6919e5edc9",
        "colab": {
          "base_uri": "https://localhost:8080/",
          "height": 35
        }
      },
      "source": [
        "B"
      ],
      "execution_count": 0,
      "outputs": [
        {
          "output_type": "execute_result",
          "data": {
            "text/plain": [
              "array([-348.75143], dtype=float32)"
            ]
          },
          "metadata": {
            "tags": []
          },
          "execution_count": 33
        }
      ]
    },
    {
      "cell_type": "markdown",
      "metadata": {
        "id": "mqAqCsF6bHtt",
        "colab_type": "text"
      },
      "source": [
        "## Evaluating Model Performance"
      ]
    },
    {
      "cell_type": "code",
      "metadata": {
        "id": "391RJxPkbHtv",
        "colab_type": "code",
        "colab": {}
      },
      "source": [
        "from sklearn.metrics import r2_score"
      ],
      "execution_count": 0,
      "outputs": []
    },
    {
      "cell_type": "code",
      "metadata": {
        "id": "iS-jvlFcbHt0",
        "colab_type": "code",
        "colab": {}
      },
      "source": [
        "print(\"The R2 score is {:0.3f}\".format(r2_score(y_true, y_pred)))"
      ],
      "execution_count": 0,
      "outputs": []
    },
    {
      "cell_type": "markdown",
      "metadata": {
        "id": "uJK6RBBIbHt2",
        "colab_type": "text"
      },
      "source": [
        "### Train Test Split"
      ]
    },
    {
      "cell_type": "code",
      "metadata": {
        "id": "twyDEcy7bHt2",
        "colab_type": "code",
        "colab": {}
      },
      "source": [
        "from sklearn.model_selection import train_test_split"
      ],
      "execution_count": 0,
      "outputs": []
    },
    {
      "cell_type": "code",
      "metadata": {
        "id": "15hifp-3bHt4",
        "colab_type": "code",
        "colab": {}
      },
      "source": [
        "X_train, X_test, y_train, y_test = train_test_split(X, y_true,\n",
        "                                                    test_size=0.2)"
      ],
      "execution_count": 0,
      "outputs": []
    },
    {
      "cell_type": "code",
      "metadata": {
        "id": "fpQYnGDWbHt6",
        "colab_type": "code",
        "colab": {}
      },
      "source": [
        "len(X_train)"
      ],
      "execution_count": 0,
      "outputs": []
    },
    {
      "cell_type": "code",
      "metadata": {
        "id": "1d_CLrVNbHt8",
        "colab_type": "code",
        "colab": {}
      },
      "source": [
        "len(X_test)"
      ],
      "execution_count": 0,
      "outputs": []
    },
    {
      "cell_type": "code",
      "metadata": {
        "id": "6VeiHoREbHuB",
        "colab_type": "code",
        "colab": {}
      },
      "source": [
        "W[0, 0] = 0.0\n",
        "B[0] = 0.0\n",
        "model.set_weights((W, B))"
      ],
      "execution_count": 0,
      "outputs": []
    },
    {
      "cell_type": "code",
      "metadata": {
        "id": "f9Z1IDjBbHuH",
        "colab_type": "code",
        "colab": {}
      },
      "source": [
        "model.fit(X_train, y_train, epochs=50, verbose=0)"
      ],
      "execution_count": 0,
      "outputs": []
    },
    {
      "cell_type": "code",
      "metadata": {
        "id": "jJ9XbubPbHuJ",
        "colab_type": "code",
        "colab": {}
      },
      "source": [
        "y_train_pred = model.predict(X_train).ravel()\n",
        "y_test_pred = model.predict(X_test).ravel()"
      ],
      "execution_count": 0,
      "outputs": []
    },
    {
      "cell_type": "code",
      "metadata": {
        "id": "4d6P31vJbHuL",
        "colab_type": "code",
        "colab": {}
      },
      "source": [
        "from sklearn.metrics import mean_squared_error as mse"
      ],
      "execution_count": 0,
      "outputs": []
    },
    {
      "cell_type": "code",
      "metadata": {
        "id": "PiFpjORpbHuP",
        "colab_type": "code",
        "colab": {}
      },
      "source": [
        "print(\"The Mean Squared Error on the Train set is:\\t{:0.1f}\".format(mse(y_train, y_train_pred)))\n",
        "print(\"The Mean Squared Error on the Test set is:\\t{:0.1f}\".format(mse(y_test, y_test_pred)))"
      ],
      "execution_count": 0,
      "outputs": []
    },
    {
      "cell_type": "code",
      "metadata": {
        "id": "7lmy8zfkbHuR",
        "colab_type": "code",
        "colab": {}
      },
      "source": [
        "print(\"The R2 score on the Train set is:\\t{:0.3f}\".format(r2_score(y_train, y_train_pred)))\n",
        "print(\"The R2 score on the Test set is:\\t{:0.3f}\".format(r2_score(y_test, y_test_pred)))"
      ],
      "execution_count": 0,
      "outputs": []
    },
    {
      "cell_type": "markdown",
      "metadata": {
        "id": "GuZyCCFwbHuU",
        "colab_type": "text"
      },
      "source": [
        "# Classification"
      ]
    },
    {
      "cell_type": "code",
      "metadata": {
        "id": "vXLoaDKzbHuV",
        "colab_type": "code",
        "colab": {}
      },
      "source": [
        "df = pd.read_csv('zero_to_deep_learning_udemy/data/user_visit_duration.csv')"
      ],
      "execution_count": 0,
      "outputs": []
    },
    {
      "cell_type": "code",
      "metadata": {
        "id": "pz2qqaKGbHuW",
        "colab_type": "code",
        "outputId": "8fbf5ecc-5454-4337-bb61-1906cca075e2",
        "colab": {
          "base_uri": "https://localhost:8080/",
          "height": 198
        }
      },
      "source": [
        "df.head()"
      ],
      "execution_count": 0,
      "outputs": [
        {
          "output_type": "execute_result",
          "data": {
            "text/html": [
              "<div>\n",
              "<style scoped>\n",
              "    .dataframe tbody tr th:only-of-type {\n",
              "        vertical-align: middle;\n",
              "    }\n",
              "\n",
              "    .dataframe tbody tr th {\n",
              "        vertical-align: top;\n",
              "    }\n",
              "\n",
              "    .dataframe thead th {\n",
              "        text-align: right;\n",
              "    }\n",
              "</style>\n",
              "<table border=\"1\" class=\"dataframe\">\n",
              "  <thead>\n",
              "    <tr style=\"text-align: right;\">\n",
              "      <th></th>\n",
              "      <th>Time (min)</th>\n",
              "      <th>Buy</th>\n",
              "    </tr>\n",
              "  </thead>\n",
              "  <tbody>\n",
              "    <tr>\n",
              "      <th>0</th>\n",
              "      <td>2.000000</td>\n",
              "      <td>0</td>\n",
              "    </tr>\n",
              "    <tr>\n",
              "      <th>1</th>\n",
              "      <td>0.683333</td>\n",
              "      <td>0</td>\n",
              "    </tr>\n",
              "    <tr>\n",
              "      <th>2</th>\n",
              "      <td>3.216667</td>\n",
              "      <td>1</td>\n",
              "    </tr>\n",
              "    <tr>\n",
              "      <th>3</th>\n",
              "      <td>0.900000</td>\n",
              "      <td>0</td>\n",
              "    </tr>\n",
              "    <tr>\n",
              "      <th>4</th>\n",
              "      <td>1.533333</td>\n",
              "      <td>1</td>\n",
              "    </tr>\n",
              "  </tbody>\n",
              "</table>\n",
              "</div>"
            ],
            "text/plain": [
              "   Time (min)  Buy\n",
              "0    2.000000    0\n",
              "1    0.683333    0\n",
              "2    3.216667    1\n",
              "3    0.900000    0\n",
              "4    1.533333    1"
            ]
          },
          "metadata": {
            "tags": []
          },
          "execution_count": 36
        }
      ]
    },
    {
      "cell_type": "code",
      "metadata": {
        "id": "IQ7FqOgQbHuY",
        "colab_type": "code",
        "outputId": "dc03ab3d-8374-49a9-b04b-c8bfa3ed7ce3",
        "colab": {
          "base_uri": "https://localhost:8080/",
          "height": 296
        }
      },
      "source": [
        "df.plot(kind='scatter', x='Time (min)', y='Buy')"
      ],
      "execution_count": 0,
      "outputs": [
        {
          "output_type": "execute_result",
          "data": {
            "text/plain": [
              "<matplotlib.axes._subplots.AxesSubplot at 0x7f38476203c8>"
            ]
          },
          "metadata": {
            "tags": []
          },
          "execution_count": 37
        },
        {
          "output_type": "display_data",
          "data": {
            "image/png": "[encoded data removed]",
            "text/plain": [
              "<Figure size 432x288 with 1 Axes>"
            ]
          },
          "metadata": {
            "tags": []
          }
        }
      ]
    },
    {
      "cell_type": "code",
      "metadata": {
        "id": "dgbv5P7xbHua",
        "colab_type": "code",
        "colab": {}
      },
      "source": [
        "model = Sequential()\n",
        "model.add(Dense(1, input_shape=(1,), activation='sigmoid'))"
      ],
      "execution_count": 0,
      "outputs": []
    },
    {
      "cell_type": "code",
      "metadata": {
        "id": "nWOnEOttbHud",
        "colab_type": "code",
        "outputId": "069a5cb9-a3e4-4704-9633-fae96b15544a",
        "colab": {
          "base_uri": "https://localhost:8080/",
          "height": 124
        }
      },
      "source": [
        "model.compile(SGD(lr=0.5), 'binary_crossentropy', metrics=['accuracy'])"
      ],
      "execution_count": 0,
      "outputs": [
        {
          "output_type": "stream",
          "text": [
            "WARNING:tensorflow:From /usr/local/lib/python3.6/dist-packages/keras/backend/tensorflow_backend.py:3657: The name tf.log is deprecated. Please use tf.math.log instead.\n",
            "\n",
            "WARNING:tensorflow:From /usr/local/lib/python3.6/dist-packages/tensorflow_core/python/ops/nn_impl.py:183: where (from tensorflow.python.ops.array_ops) is deprecated and will be removed in a future version.\n",
            "Instructions for updating:\n",
            "Use tf.where in 2.0, which has the same broadcast rule as np.where\n"
          ],
          "name": "stdout"
        }
      ]
    },
    {
      "cell_type": "code",
      "metadata": {
        "id": "8IKtnZkCbHuf",
        "colab_type": "code",
        "outputId": "aa034f9e-6a0d-4fdd-ee5e-cb03f44d5413",
        "colab": {
          "base_uri": "https://localhost:8080/",
          "height": 190
        }
      },
      "source": [
        "model.summary()"
      ],
      "execution_count": 0,
      "outputs": [
        {
          "output_type": "stream",
          "text": [
            "Model: \"sequential_2\"\n",
            "_________________________________________________________________\n",
            "Layer (type)                 Output Shape              Param #   \n",
            "=================================================================\n",
            "dense_2 (Dense)              (None, 1)                 2         \n",
            "=================================================================\n",
            "Total params: 2\n",
            "Trainable params: 2\n",
            "Non-trainable params: 0\n",
            "_________________________________________________________________\n"
          ],
          "name": "stdout"
        }
      ]
    },
    {
      "cell_type": "code",
      "metadata": {
        "id": "Z3MfkX6cbHuh",
        "colab_type": "code",
        "outputId": "8c47376a-4b1d-46e1-c976-c8cc9e145a8e",
        "colab": {
          "base_uri": "https://localhost:8080/",
          "height": 898
        }
      },
      "source": [
        "X = df[['Time (min)']].values\n",
        "y = df['Buy'].values\n",
        "\n",
        "model.fit(X, y, epochs=25)"
      ],
      "execution_count": 0,
      "outputs": [
        {
          "output_type": "stream",
          "text": [
            "Epoch 1/25\n",
            "100/100 [==============================] - 0s 2ms/step - loss: 0.7257 - acc: 0.5200\n",
            "Epoch 2/25\n",
            "100/100 [==============================] - 0s 78us/step - loss: 0.6115 - acc: 0.6000\n",
            "Epoch 3/25\n",
            "100/100 [==============================] - 0s 91us/step - loss: 0.5832 - acc: 0.7000\n",
            "Epoch 4/25\n",
            "100/100 [==============================] - 0s 108us/step - loss: 0.5559 - acc: 0.6800\n",
            "Epoch 5/25\n",
            "100/100 [==============================] - 0s 80us/step - loss: 0.5244 - acc: 0.8100\n",
            "Epoch 6/25\n",
            "100/100 [==============================] - 0s 94us/step - loss: 0.5055 - acc: 0.7700\n",
            "Epoch 7/25\n",
            "100/100 [==============================] - 0s 73us/step - loss: 0.5089 - acc: 0.8100\n",
            "Epoch 8/25\n",
            "100/100 [==============================] - 0s 85us/step - loss: 0.4916 - acc: 0.8300\n",
            "Epoch 9/25\n",
            "100/100 [==============================] - 0s 73us/step - loss: 0.4638 - acc: 0.8000\n",
            "Epoch 10/25\n",
            "100/100 [==============================] - 0s 73us/step - loss: 0.4591 - acc: 0.8300\n",
            "Epoch 11/25\n",
            "100/100 [==============================] - 0s 74us/step - loss: 0.4834 - acc: 0.8000\n",
            "Epoch 12/25\n",
            "100/100 [==============================] - 0s 81us/step - loss: 0.4660 - acc: 0.7700\n",
            "Epoch 13/25\n",
            "100/100 [==============================] - 0s 94us/step - loss: 0.4517 - acc: 0.8300\n",
            "Epoch 14/25\n",
            "100/100 [==============================] - 0s 112us/step - loss: 0.4449 - acc: 0.7700\n",
            "Epoch 15/25\n",
            "100/100 [==============================] - 0s 68us/step - loss: 0.4301 - acc: 0.8000\n",
            "Epoch 16/25\n",
            "100/100 [==============================] - 0s 99us/step - loss: 0.4773 - acc: 0.7300\n",
            "Epoch 17/25\n",
            "100/100 [==============================] - 0s 93us/step - loss: 0.4220 - acc: 0.8200\n",
            "Epoch 18/25\n",
            "100/100 [==============================] - 0s 81us/step - loss: 0.4295 - acc: 0.8000\n",
            "Epoch 19/25\n",
            "100/100 [==============================] - 0s 95us/step - loss: 0.4187 - acc: 0.8400\n",
            "Epoch 20/25\n",
            "100/100 [==============================] - 0s 88us/step - loss: 0.4120 - acc: 0.8200\n",
            "Epoch 21/25\n",
            "100/100 [==============================] - 0s 119us/step - loss: 0.4173 - acc: 0.8300\n",
            "Epoch 22/25\n",
            "100/100 [==============================] - 0s 76us/step - loss: 0.4204 - acc: 0.8400\n",
            "Epoch 23/25\n",
            "100/100 [==============================] - 0s 83us/step - loss: 0.4065 - acc: 0.8300\n",
            "Epoch 24/25\n",
            "100/100 [==============================] - 0s 92us/step - loss: 0.4250 - acc: 0.8200\n",
            "Epoch 25/25\n",
            "100/100 [==============================] - 0s 92us/step - loss: 0.4194 - acc: 0.8400\n"
          ],
          "name": "stdout"
        },
        {
          "output_type": "execute_result",
          "data": {
            "text/plain": [
              "<keras.callbacks.History at 0x7f3839a73320>"
            ]
          },
          "metadata": {
            "tags": []
          },
          "execution_count": 41
        }
      ]
    },
    {
      "cell_type": "code",
      "metadata": {
        "id": "VhnqBTETbHuj",
        "colab_type": "code",
        "outputId": "6c200c32-ecab-4088-aed0-ad307702a550",
        "colab": {
          "base_uri": "https://localhost:8080/",
          "height": 312
        }
      },
      "source": [
        "ax = df.plot(kind='scatter', x='Time (min)', y='Buy',\n",
        "             title='Purchase behavior VS time spent on site')\n",
        "\n",
        "temp = np.linspace(0, 4)\n",
        "ax.plot(temp, model.predict(temp), color='orange')\n",
        "plt.legend(['model', 'data'])"
      ],
      "execution_count": 0,
      "outputs": [
        {
          "output_type": "execute_result",
          "data": {
            "text/plain": [
              "<matplotlib.legend.Legend at 0x7f38399bd978>"
            ]
          },
          "metadata": {
            "tags": []
          },
          "execution_count": 42
        },
        {
          "output_type": "display_data",
          "data": {
            "image/png": "[encoded data removed]",
            "text/plain": [
              "<Figure size 432x288 with 1 Axes>"
            ]
          },
          "metadata": {
            "tags": []
          }
        }
      ]
    },
    {
      "cell_type": "code",
      "metadata": {
        "id": "Xp8s-KKIbHul",
        "colab_type": "code",
        "colab": {}
      },
      "source": [
        "temp_class = model.predict(temp) > 0.5"
      ],
      "execution_count": 0,
      "outputs": []
    },
    {
      "cell_type": "code",
      "metadata": {
        "id": "hZWgne0rbHun",
        "colab_type": "code",
        "outputId": "0d3e9c14-deb4-470b-aa47-d35c37dd6ba1",
        "colab": {
          "base_uri": "https://localhost:8080/",
          "height": 312
        }
      },
      "source": [
        "ax = df.plot(kind='scatter', x='Time (min)', y='Buy',\n",
        "             title='Purchase behavior VS time spent on site')\n",
        "\n",
        "temp = np.linspace(0, 4)\n",
        "ax.plot(temp, temp_class, color='orange')\n",
        "plt.legend(['model', 'data'])"
      ],
      "execution_count": 0,
      "outputs": [
        {
          "output_type": "execute_result",
          "data": {
            "text/plain": [
              "<matplotlib.legend.Legend at 0x7f38399f9be0>"
            ]
          },
          "metadata": {
            "tags": []
          },
          "execution_count": 44
        },
        {
          "output_type": "display_data",
          "data": {
            "image/png": "[encoded data removed]",
            "text/plain": [
              "<Figure size 432x288 with 1 Axes>"
            ]
          },
          "metadata": {
            "tags": []
          }
        }
      ]
    },
    {
      "cell_type": "code",
      "metadata": {
        "id": "PYoCJWzwbHuo",
        "colab_type": "code",
        "colab": {}
      },
      "source": [
        "y_pred = model.predict(X)\n",
        "y_class_pred = y_pred > 0.5"
      ],
      "execution_count": 0,
      "outputs": []
    },
    {
      "cell_type": "code",
      "metadata": {
        "id": "SB4paQoHbHup",
        "colab_type": "code",
        "colab": {}
      },
      "source": [
        "from sklearn.metrics import accuracy_score"
      ],
      "execution_count": 0,
      "outputs": []
    },
    {
      "cell_type": "code",
      "metadata": {
        "id": "sKNQuLudbHuq",
        "colab_type": "code",
        "outputId": "49394aa1-3102-4f8f-9670-01bdf9ebce21",
        "colab": {
          "base_uri": "https://localhost:8080/",
          "height": 35
        }
      },
      "source": [
        "print(\"The accuracy score is {:0.3f}\".format(accuracy_score(y, y_class_pred)))"
      ],
      "execution_count": 0,
      "outputs": [
        {
          "output_type": "stream",
          "text": [
            "The accuracy score is 0.840\n"
          ],
          "name": "stdout"
        }
      ]
    },
    {
      "cell_type": "markdown",
      "metadata": {
        "id": "ncZl_neObHut",
        "colab_type": "text"
      },
      "source": [
        "### Train/Test split\n"
      ]
    },
    {
      "cell_type": "code",
      "metadata": {
        "collapsed": true,
        "id": "2ZAZGpdabHuu",
        "colab_type": "code",
        "colab": {}
      },
      "source": [
        "X_train, X_test, y_train, y_test = train_test_split(X, y, test_size=0.2)"
      ],
      "execution_count": 0,
      "outputs": []
    },
    {
      "cell_type": "code",
      "metadata": {
        "collapsed": true,
        "id": "DQIqGCiPbHuy",
        "colab_type": "code",
        "colab": {}
      },
      "source": [
        "params = model.get_weights()\n",
        "params = [np.zeros(w.shape) for w in params]\n",
        "model.set_weights(params)"
      ],
      "execution_count": 0,
      "outputs": []
    },
    {
      "cell_type": "code",
      "metadata": {
        "collapsed": true,
        "id": "WwBWBj1lbHu0",
        "colab_type": "code",
        "colab": {}
      },
      "source": [
        "print(\"The accuracy score is {:0.3f}\".format(accuracy_score(y, model.predict(X) > 0.5)))"
      ],
      "execution_count": 0,
      "outputs": []
    },
    {
      "cell_type": "code",
      "metadata": {
        "collapsed": true,
        "id": "V8bek2tmbHu3",
        "colab_type": "code",
        "colab": {}
      },
      "source": [
        "model.fit(X_train, y_train, epochs=25, verbose=0)"
      ],
      "execution_count": 0,
      "outputs": []
    },
    {
      "cell_type": "code",
      "metadata": {
        "collapsed": true,
        "id": "FNc_cCWjbHu5",
        "colab_type": "code",
        "colab": {}
      },
      "source": [
        "print(\"The train accuracy score is {:0.3f}\".format(accuracy_score(y_train, model.predict(X_train) > 0.5)))\n",
        "print(\"The test accuracy score is {:0.3f}\".format(accuracy_score(y_test, model.predict(X_test) > 0.5)))"
      ],
      "execution_count": 0,
      "outputs": []
    },
    {
      "cell_type": "markdown",
      "metadata": {
        "id": "dI7-TaeXbHu6",
        "colab_type": "text"
      },
      "source": [
        "## Cross Validation"
      ]
    },
    {
      "cell_type": "code",
      "metadata": {
        "collapsed": true,
        "id": "4ZT01iG0bHu8",
        "colab_type": "code",
        "colab": {}
      },
      "source": [
        "from keras.wrappers.scikit_learn import KerasClassifier"
      ],
      "execution_count": 0,
      "outputs": []
    },
    {
      "cell_type": "code",
      "metadata": {
        "collapsed": true,
        "id": "ZwXrBuhrbHu9",
        "colab_type": "code",
        "colab": {}
      },
      "source": [
        "def build_logistic_regression_model():\n",
        "    model = Sequential()\n",
        "    model.add(Dense(1, input_shape=(1,), activation='sigmoid'))\n",
        "    model.compile(SGD(lr=0.5),\n",
        "                  'binary_crossentropy',\n",
        "                  metrics=['accuracy'])\n",
        "    return model"
      ],
      "execution_count": 0,
      "outputs": []
    },
    {
      "cell_type": "code",
      "metadata": {
        "collapsed": true,
        "id": "ClxEVuWjbHu_",
        "colab_type": "code",
        "colab": {}
      },
      "source": [
        "model = KerasClassifier(build_fn=build_logistic_regression_model,\n",
        "                        epochs=25,\n",
        "                        verbose=0)"
      ],
      "execution_count": 0,
      "outputs": []
    },
    {
      "cell_type": "code",
      "metadata": {
        "collapsed": true,
        "id": "rl78bMf2bHvB",
        "colab_type": "code",
        "colab": {}
      },
      "source": [
        "from sklearn.model_selection import cross_val_score, KFold"
      ],
      "execution_count": 0,
      "outputs": []
    },
    {
      "cell_type": "code",
      "metadata": {
        "collapsed": true,
        "id": "WwGdiaAubHvC",
        "colab_type": "code",
        "colab": {}
      },
      "source": [
        "cv = KFold(3, shuffle=True)"
      ],
      "execution_count": 0,
      "outputs": []
    },
    {
      "cell_type": "code",
      "metadata": {
        "collapsed": true,
        "id": "UuRZHzsPbHvF",
        "colab_type": "code",
        "colab": {}
      },
      "source": [
        "scores = cross_val_score(model, X, y, cv=cv)"
      ],
      "execution_count": 0,
      "outputs": []
    },
    {
      "cell_type": "code",
      "metadata": {
        "collapsed": true,
        "id": "Yv--uhhWbHvJ",
        "colab_type": "code",
        "colab": {}
      },
      "source": [
        "scores"
      ],
      "execution_count": 0,
      "outputs": []
    },
    {
      "cell_type": "code",
      "metadata": {
        "collapsed": true,
        "id": "Keuuu167bHvM",
        "colab_type": "code",
        "colab": {}
      },
      "source": [
        "print(\"The cross validation accuracy is {:0.4f} ± {:0.4f}\".format(scores.mean(), scores.std()))"
      ],
      "execution_count": 0,
      "outputs": []
    },
    {
      "cell_type": "markdown",
      "metadata": {
        "id": "sUf2kHTebHvN",
        "colab_type": "text"
      },
      "source": [
        "## Confusion Matrix"
      ]
    },
    {
      "cell_type": "code",
      "metadata": {
        "collapsed": true,
        "id": "1Z5RnpO6bHvN",
        "colab_type": "code",
        "colab": {}
      },
      "source": [
        "from sklearn.metrics import confusion_matrix"
      ],
      "execution_count": 0,
      "outputs": []
    },
    {
      "cell_type": "code",
      "metadata": {
        "collapsed": true,
        "scrolled": false,
        "id": "gSE9x3BYbHvR",
        "colab_type": "code",
        "colab": {}
      },
      "source": [
        "confusion_matrix(y, y_class_pred)"
      ],
      "execution_count": 0,
      "outputs": []
    },
    {
      "cell_type": "code",
      "metadata": {
        "collapsed": true,
        "id": "rwIkD7nXbHvT",
        "colab_type": "code",
        "colab": {}
      },
      "source": [
        "def pretty_confusion_matrix(y_true, y_pred, labels=[\"False\", \"True\"]):\n",
        "    cm = confusion_matrix(y_true, y_pred)\n",
        "    pred_labels = ['Predicted '+ l for l in labels]\n",
        "    df = pd.DataFrame(cm, index=labels, columns=pred_labels)\n",
        "    return df"
      ],
      "execution_count": 0,
      "outputs": []
    },
    {
      "cell_type": "code",
      "metadata": {
        "collapsed": true,
        "id": "qirk13_sbHvV",
        "colab_type": "code",
        "colab": {}
      },
      "source": [
        "pretty_confusion_matrix(y, y_class_pred, ['Not Buy', 'Buy'])"
      ],
      "execution_count": 0,
      "outputs": []
    },
    {
      "cell_type": "code",
      "metadata": {
        "collapsed": true,
        "id": "qiIK5HynbHvW",
        "colab_type": "code",
        "colab": {}
      },
      "source": [
        "from sklearn.metrics import precision_score, recall_score, f1_score"
      ],
      "execution_count": 0,
      "outputs": []
    },
    {
      "cell_type": "code",
      "metadata": {
        "collapsed": true,
        "id": "ygj_Tz0EbHvX",
        "colab_type": "code",
        "colab": {}
      },
      "source": [
        "print(\"Precision:\\t{:0.3f}\".format(precision_score(y, y_class_pred)))\n",
        "print(\"Recall:  \\t{:0.3f}\".format(recall_score(y, y_class_pred)))\n",
        "print(\"F1 Score:\\t{:0.3f}\".format(f1_score(y, y_class_pred)))"
      ],
      "execution_count": 0,
      "outputs": []
    },
    {
      "cell_type": "code",
      "metadata": {
        "collapsed": true,
        "id": "7b1LTHsYbHva",
        "colab_type": "code",
        "colab": {}
      },
      "source": [
        "from sklearn.metrics import classification_report"
      ],
      "execution_count": 0,
      "outputs": []
    },
    {
      "cell_type": "code",
      "metadata": {
        "collapsed": true,
        "id": "2Y6HXKs8bHvd",
        "colab_type": "code",
        "colab": {}
      },
      "source": [
        "print(classification_report(y, y_class_pred))"
      ],
      "execution_count": 0,
      "outputs": []
    },
    {
      "cell_type": "markdown",
      "metadata": {
        "id": "sEfsexoTbHve",
        "colab_type": "text"
      },
      "source": [
        "## Feature Preprocessing"
      ]
    },
    {
      "cell_type": "markdown",
      "metadata": {
        "id": "k-Kr-BIYbHvf",
        "colab_type": "text"
      },
      "source": [
        "### Categorical Features"
      ]
    },
    {
      "cell_type": "code",
      "metadata": {
        "collapsed": true,
        "id": "KeIJfbj8bHvf",
        "colab_type": "code",
        "colab": {}
      },
      "source": [
        "df = pd.read_csv('../data/weight-height.csv')\n",
        "df.head()"
      ],
      "execution_count": 0,
      "outputs": []
    },
    {
      "cell_type": "code",
      "metadata": {
        "collapsed": true,
        "id": "ZzV8Q1BXbHvh",
        "colab_type": "code",
        "colab": {}
      },
      "source": [
        "df['Gender'].unique()"
      ],
      "execution_count": 0,
      "outputs": []
    },
    {
      "cell_type": "code",
      "metadata": {
        "collapsed": true,
        "id": "JlluIp_1bHvk",
        "colab_type": "code",
        "colab": {}
      },
      "source": [
        "pd.get_dummies(df['Gender'], prefix='Gender').head()"
      ],
      "execution_count": 0,
      "outputs": []
    },
    {
      "cell_type": "markdown",
      "metadata": {
        "id": "Si1A9Q-XbHvn",
        "colab_type": "text"
      },
      "source": [
        "## Feature Transformations"
      ]
    },
    {
      "cell_type": "markdown",
      "metadata": {
        "id": "U5S6MsZBbHvo",
        "colab_type": "text"
      },
      "source": [
        "#### 1) Rescale with fixed factor"
      ]
    },
    {
      "cell_type": "code",
      "metadata": {
        "collapsed": true,
        "id": "lE3rF_I7bHvo",
        "colab_type": "code",
        "colab": {}
      },
      "source": [
        "df['Height (feet)'] = df['Height']/12.0\n",
        "df['Weight (100 lbs)'] = df['Weight']/100.0"
      ],
      "execution_count": 0,
      "outputs": []
    },
    {
      "cell_type": "code",
      "metadata": {
        "collapsed": true,
        "id": "OvTey0QibHvs",
        "colab_type": "code",
        "colab": {}
      },
      "source": [
        "df.describe().round(2)"
      ],
      "execution_count": 0,
      "outputs": []
    },
    {
      "cell_type": "markdown",
      "metadata": {
        "id": "updRExQObHvx",
        "colab_type": "text"
      },
      "source": [
        "#### MinMax normalization"
      ]
    },
    {
      "cell_type": "code",
      "metadata": {
        "collapsed": true,
        "id": "tzM5z6c9bHvy",
        "colab_type": "code",
        "colab": {}
      },
      "source": [
        "from sklearn.preprocessing import MinMaxScaler\n",
        "\n",
        "mms = MinMaxScaler()\n",
        "df['Weight_mms'] = mms.fit_transform(df[['Weight']])\n",
        "df['Height_mms'] = mms.fit_transform(df[['Height']])\n",
        "df.describe().round(2)"
      ],
      "execution_count": 0,
      "outputs": []
    },
    {
      "cell_type": "markdown",
      "metadata": {
        "id": "1pbptxZrbHv2",
        "colab_type": "text"
      },
      "source": [
        "#### 3) Standard normalization"
      ]
    },
    {
      "cell_type": "code",
      "metadata": {
        "collapsed": true,
        "id": "U0rp6o_ybHv2",
        "colab_type": "code",
        "colab": {}
      },
      "source": [
        "from sklearn.preprocessing import StandardScaler\n",
        "\n",
        "ss = StandardScaler()\n",
        "df['Weight_ss'] = ss.fit_transform(df[['Weight']])\n",
        "df['Height_ss'] = ss.fit_transform(df[['Height']])\n",
        "df.describe().round(2)"
      ],
      "execution_count": 0,
      "outputs": []
    },
    {
      "cell_type": "code",
      "metadata": {
        "collapsed": true,
        "id": "QWcBCH8QbHv9",
        "colab_type": "code",
        "colab": {}
      },
      "source": [
        "plt.figure(figsize=(15, 5))\n",
        "\n",
        "for i, feature in enumerate(['Height', 'Height (feet)', 'Height_mms', 'Height_ss']):\n",
        "    plt.subplot(1, 4, i+1)\n",
        "    df[feature].plot(kind='hist', title=feature)\n",
        "    plt.xlabel(feature)"
      ],
      "execution_count": 0,
      "outputs": []
    },
    {
      "cell_type": "markdown",
      "metadata": {
        "id": "GR_pehifbHv-",
        "colab_type": "text"
      },
      "source": [
        "# Machine Learning Exercises"
      ]
    },
    {
      "cell_type": "markdown",
      "metadata": {
        "id": "3CxvhQwzbHv-",
        "colab_type": "text"
      },
      "source": [
        "## Exercise 1\n",
        "\n",
        "You've just been hired at a real estate investment firm and they would like you to build a model for pricing houses. You are given a dataset that contains data for house prices and a few features like number of bedrooms, size in square feet and age of the house. Let's see if you can build a model that is able to predict the price. In this exercise we extend what we have learned about linear regression to a dataset with more than one feature. Here are the steps to complete it:\n",
        "\n",
        "1. Load the dataset ../data/housing-data.csv\n",
        "- plot the histograms for each feature\n",
        "- create 2 variables called X and y: X shall be a matrix with 3 columns (sqft,bdrms,age) and y shall be a vector with 1 column (price)\n",
        "- create a linear regression model in Keras with the appropriate number of inputs and output\n",
        "- split the data into train and test with a 20% test size\n",
        "- train the model on the training set and check its accuracy on training and test set\n",
        "- how's your model doing? Is the loss growing smaller?\n",
        "- try to improve your model with these experiments:\n",
        "    - normalize the input features with one of the rescaling techniques mentioned above\n",
        "    - use a different value for the learning rate of your model\n",
        "    - use a different optimizer\n",
        "- once you're satisfied with training, check the R2score on the test set"
      ]
    },
    {
      "cell_type": "code",
      "metadata": {
        "collapsed": true,
        "id": "y3YmODsCbHv-",
        "colab_type": "code",
        "colab": {}
      },
      "source": [
        ""
      ],
      "execution_count": 0,
      "outputs": []
    },
    {
      "cell_type": "markdown",
      "metadata": {
        "id": "M177v-ITbHwA",
        "colab_type": "text"
      },
      "source": [
        "## Exercise 2\n",
        "\n",
        "Your boss was extremely happy with your work on the housing price prediction model and decided to entrust you with a more challenging task. They've seen a lot of people leave the company recently and they would like to understand why that's happening. They have collected historical data on employees and they would like you to build a model that is able to predict which employee will leave next. They would like a model that is better than random guessing. They also prefer false negatives than false positives, in this first phase. Fields in the dataset include:\n",
        "\n",
        "- Employee satisfaction level\n",
        "- Last evaluation\n",
        "- Number of projects\n",
        "- Average monthly hours\n",
        "- Time spent at the company\n",
        "- Whether they have had a work accident\n",
        "- Whether they have had a promotion in the last 5 years\n",
        "- Department\n",
        "- Salary\n",
        "- Whether the employee has left\n",
        "\n",
        "Your goal is to predict the binary outcome variable `left` using the rest of the data. Since the outcome is binary, this is a classification problem. Here are some things you may want to try out:\n",
        "\n",
        "1. load the dataset at ../data/HR_comma_sep.csv, inspect it with `.head()`, `.info()` and `.describe()`.\n",
        "- Establish a benchmark: what would be your accuracy score if you predicted everyone stay?\n",
        "- Check if any feature needs rescaling. You may plot a histogram of the feature to decide which rescaling method is more appropriate.\n",
        "- convert the categorical features into binary dummy columns. You will then have to combine them with the numerical features using `pd.concat`.\n",
        "- do the usual train/test split with a 20% test size\n",
        "- play around with learning rate and optimizer\n",
        "- check the confusion matrix, precision and recall\n",
        "- check if you still get the same results if you use a 5-Fold cross validation on all the data\n",
        "- Is the model good enough for your boss?\n",
        "\n",
        "As you will see in this exercise, the a logistic regression model is not good enough to help your boss. In the next chapter we will learn how to go beyond linear models.\n",
        "\n",
        "This dataset comes from https://www.kaggle.com/ludobenistant/hr-analytics/ and is released under [CC BY-SA 4.0 License](https://creativecommons.org/licenses/by-sa/4.0/)."
      ]
    },
    {
      "cell_type": "code",
      "metadata": {
        "collapsed": true,
        "id": "H8insfEGbHwA",
        "colab_type": "code",
        "colab": {}
      },
      "source": [
        ""
      ],
      "execution_count": 0,
      "outputs": []
    }
  ]
}
