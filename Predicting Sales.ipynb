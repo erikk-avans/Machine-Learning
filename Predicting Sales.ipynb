{
  "nbformat": 4,
  "nbformat_minor": 0,
  "metadata": {
    "kernelspec": {
      "display_name": "Python 3",
      "language": "python",
      "name": "python3"
    },
    "language_info": {
      "codemirror_mode": {
        "name": "ipython",
        "version": 3
      },
      "file_extension": ".py",
      "mimetype": "text/x-python",
      "name": "python",
      "nbconvert_exporter": "python",
      "pygments_lexer": "ipython3",
      "version": "3.6.8"
    },
    "colab": {
      "name": "Predicting Sales.ipynb",
      "provenance": []
    }
  },
  "cells": [
    {
      "cell_type": "markdown",
      "metadata": {
        "id": "0QNL7kDxXJhL",
        "colab_type": "text"
      },
      "source": [
        "# Topics\n",
        "Types of supervised learning  \n",
        "Reading data using pandas  \n",
        "Visualizing data using seaborn  \n",
        "Linear regression pros and cons  \n",
        "Form of linear regression  \n",
        "Preparing X and y using pandas  \n",
        "Splitting X and y into training and testing sets  \n",
        "Linear regression in scikit-learn  \n",
        "Interpreting model coefficients  \n",
        "Making predictions  \n",
        "Model evaluation metrics for regression  \n",
        "Computing the RMSE for our Sales predictions  \n",
        "Feature selection  \n",
        "Resources  \n",
        "\n",
        "\n",
        "1. Types of supervised learning\n",
        "Classification: Predict a categorical response\n",
        "Regression: Predict a continuous response\n",
        "2. Reading data using pandas\n",
        "Pandas: popular Python library for data exploration, manipulation, and analysis\n",
        "\n",
        "https://www.ritchieng.com/machine-learning-linear-regression/\n",
        "\n",
        "\n"
      ]
    },
    {
      "cell_type": "markdown",
      "metadata": {
        "id": "1Yc8ItPOXJhQ",
        "colab_type": "text"
      },
      "source": [
        "## 1. Reading data using pandas\n",
        "Pandas: popular Python library for data exploration, manipulation, and analysis\n",
        "\n",
        "Anaconda users: pandas is already installed\n",
        "Other users: installation instructions"
      ]
    },
    {
      "cell_type": "code",
      "metadata": {
        "id": "sU4Fp6xGXJhU",
        "colab_type": "code",
        "colab": {}
      },
      "source": [
        "# conventional way to import pandas\n",
        "import pandas as pd"
      ],
      "execution_count": 0,
      "outputs": []
    },
    {
      "cell_type": "code",
      "metadata": {
        "id": "MwyD6CimXbGt",
        "colab_type": "code",
        "outputId": "eb1a85f1-3c0e-4cdd-b8a7-4df79f242d23",
        "colab": {
          "base_uri": "https://localhost:8080/",
          "height": 121
        }
      },
      "source": [
        "!git clone https://github.com/erikk-avans/Machine-Learning.git"
      ],
      "execution_count": 0,
      "outputs": [
        {
          "output_type": "stream",
          "text": [
            "Cloning into 'Machine-Learning'...\n",
            "remote: Enumerating objects: 18, done.\u001b[K\n",
            "remote: Counting objects: 100% (18/18), done.\u001b[K\n",
            "remote: Compressing objects: 100% (18/18), done.\u001b[K\n",
            "remote: Total 18 (delta 0), reused 18 (delta 0), pack-reused 0\u001b[K\n",
            "Unpacking objects: 100% (18/18), done.\n"
          ],
          "name": "stdout"
        }
      ]
    },
    {
      "cell_type": "code",
      "metadata": {
        "id": "BtR5cRXtXJhg",
        "colab_type": "code",
        "outputId": "ea02fe59-caf8-42ce-a4f7-15c8b47ccfcf",
        "colab": {
          "base_uri": "https://localhost:8080/",
          "height": 348
        }
      },
      "source": [
        "# read CSV file directly from a URL and save the results\n",
        "# use .read_csv method and simply pass in the name of the files (local and through a url)\n",
        "# to find out more about this method, click on the url and press shift + tab (twice)\n",
        "# we set the index_col=0\n",
        "data = pd.read_csv('Machine-Learning/data/Advertising.csv', index_col=0)\n",
        "\n",
        "# display the first 5 rows\n",
        "data.head(10)"
      ],
      "execution_count": 0,
      "outputs": [
        {
          "output_type": "execute_result",
          "data": {
            "text/html": [
              "<div>\n",
              "<style scoped>\n",
              "    .dataframe tbody tr th:only-of-type {\n",
              "        vertical-align: middle;\n",
              "    }\n",
              "\n",
              "    .dataframe tbody tr th {\n",
              "        vertical-align: top;\n",
              "    }\n",
              "\n",
              "    .dataframe thead th {\n",
              "        text-align: right;\n",
              "    }\n",
              "</style>\n",
              "<table border=\"1\" class=\"dataframe\">\n",
              "  <thead>\n",
              "    <tr style=\"text-align: right;\">\n",
              "      <th></th>\n",
              "      <th>TV</th>\n",
              "      <th>Radio</th>\n",
              "      <th>Newspaper</th>\n",
              "      <th>Sales</th>\n",
              "    </tr>\n",
              "  </thead>\n",
              "  <tbody>\n",
              "    <tr>\n",
              "      <th>1</th>\n",
              "      <td>230.1</td>\n",
              "      <td>37.8</td>\n",
              "      <td>69.2</td>\n",
              "      <td>22.1</td>\n",
              "    </tr>\n",
              "    <tr>\n",
              "      <th>2</th>\n",
              "      <td>44.5</td>\n",
              "      <td>39.3</td>\n",
              "      <td>45.1</td>\n",
              "      <td>10.4</td>\n",
              "    </tr>\n",
              "    <tr>\n",
              "      <th>3</th>\n",
              "      <td>17.2</td>\n",
              "      <td>45.9</td>\n",
              "      <td>69.3</td>\n",
              "      <td>9.3</td>\n",
              "    </tr>\n",
              "    <tr>\n",
              "      <th>4</th>\n",
              "      <td>151.5</td>\n",
              "      <td>41.3</td>\n",
              "      <td>58.5</td>\n",
              "      <td>18.5</td>\n",
              "    </tr>\n",
              "    <tr>\n",
              "      <th>5</th>\n",
              "      <td>180.8</td>\n",
              "      <td>10.8</td>\n",
              "      <td>58.4</td>\n",
              "      <td>12.9</td>\n",
              "    </tr>\n",
              "    <tr>\n",
              "      <th>6</th>\n",
              "      <td>8.7</td>\n",
              "      <td>48.9</td>\n",
              "      <td>75.0</td>\n",
              "      <td>7.2</td>\n",
              "    </tr>\n",
              "    <tr>\n",
              "      <th>7</th>\n",
              "      <td>57.5</td>\n",
              "      <td>32.8</td>\n",
              "      <td>23.5</td>\n",
              "      <td>11.8</td>\n",
              "    </tr>\n",
              "    <tr>\n",
              "      <th>8</th>\n",
              "      <td>120.2</td>\n",
              "      <td>19.6</td>\n",
              "      <td>11.6</td>\n",
              "      <td>13.2</td>\n",
              "    </tr>\n",
              "    <tr>\n",
              "      <th>9</th>\n",
              "      <td>8.6</td>\n",
              "      <td>2.1</td>\n",
              "      <td>1.0</td>\n",
              "      <td>4.8</td>\n",
              "    </tr>\n",
              "    <tr>\n",
              "      <th>10</th>\n",
              "      <td>199.8</td>\n",
              "      <td>2.6</td>\n",
              "      <td>21.2</td>\n",
              "      <td>10.6</td>\n",
              "    </tr>\n",
              "  </tbody>\n",
              "</table>\n",
              "</div>"
            ],
            "text/plain": [
              "       TV  Radio  Newspaper  Sales\n",
              "1   230.1   37.8       69.2   22.1\n",
              "2    44.5   39.3       45.1   10.4\n",
              "3    17.2   45.9       69.3    9.3\n",
              "4   151.5   41.3       58.5   18.5\n",
              "5   180.8   10.8       58.4   12.9\n",
              "6     8.7   48.9       75.0    7.2\n",
              "7    57.5   32.8       23.5   11.8\n",
              "8   120.2   19.6       11.6   13.2\n",
              "9     8.6    2.1        1.0    4.8\n",
              "10  199.8    2.6       21.2   10.6"
            ]
          },
          "metadata": {
            "tags": []
          },
          "execution_count": 11
        }
      ]
    },
    {
      "cell_type": "code",
      "metadata": {
        "id": "zfMXMUbdXJhn",
        "colab_type": "code",
        "outputId": "25a88839-fb3a-470b-b543-59564f4b2a31",
        "colab": {
          "base_uri": "https://localhost:8080/",
          "height": 35
        }
      },
      "source": [
        "# check the shape of the DataFrame (rows, columns)\n",
        "# there are 200 rows x 4 columns\n",
        "data.shape"
      ],
      "execution_count": 0,
      "outputs": [
        {
          "output_type": "execute_result",
          "data": {
            "text/plain": [
              "(200, 4)"
            ]
          },
          "metadata": {
            "tags": []
          },
          "execution_count": 12
        }
      ]
    },
    {
      "cell_type": "markdown",
      "metadata": {
        "id": "DNTIkB7lXJh3",
        "colab_type": "text"
      },
      "source": [
        "What are the features?\n",
        "\n",
        "**TV**: advertising dollars spent on TV for a single product in a given market (in thousands of dollars)\n",
        "Radio: advertising dollars spent on Radio\n",
        "Newspaper: advertising dollars spent on Newspaper\n",
        "What is the response?\n",
        "\n",
        "**Sales**: sales of a single product in a given market (in thousands of items)\n",
        "What else do we know?\n",
        "\n",
        "Because the response variable is continuous, this is a regression problem.\n",
        "There are 200 observations (represented by the rows), and each observation is a single market."
      ]
    },
    {
      "cell_type": "markdown",
      "metadata": {
        "id": "kd2Wm2McXJh4",
        "colab_type": "text"
      },
      "source": [
        "## 3. Visualizing data using seaborn\n",
        "Seaborn: Python library for statistical data visualization built on top of Matplotlib\n",
        "\n"
      ]
    },
    {
      "cell_type": "code",
      "metadata": {
        "id": "C8UNtLD7XJh7",
        "colab_type": "code",
        "colab": {}
      },
      "source": [
        "# conventional way to import seaborn\n",
        "import seaborn as sns\n",
        "\n",
        "# allow plots to appear within the notebook\n",
        "%matplotlib inline"
      ],
      "execution_count": 0,
      "outputs": []
    },
    {
      "cell_type": "code",
      "metadata": {
        "id": "ObYhQksBXJiD",
        "colab_type": "code",
        "outputId": "1b937105-0168-47e8-b80e-8b57e9fe405c",
        "colab": {
          "base_uri": "https://localhost:8080/",
          "height": 526
        }
      },
      "source": [
        "# visualize the relationship between the features and the response using scatterplots\n",
        "# this produces pairs of scatterplot as shown\n",
        "# use aspect= to control the size of the graphs\n",
        "# use kind='reg' to plot linear regression on the graph\n",
        "sns.pairplot(data, x_vars=['TV', 'Radio', 'Newspaper'], y_vars='Sales', height=7, aspect=0.7, kind='reg')"
      ],
      "execution_count": 0,
      "outputs": [
        {
          "output_type": "execute_result",
          "data": {
            "text/plain": [
              "<seaborn.axisgrid.PairGrid at 0x7f95ea24fbe0>"
            ]
          },
          "metadata": {
            "tags": []
          },
          "execution_count": 14
        },
        {
          "output_type": "display_data",
          "data": {
            "image/png": "[encoded data removed]",
            "text/plain": [
              "<Figure size 1058.4x504 with 3 Axes>"
            ]
          },
          "metadata": {
            "tags": []
          }
        }
      ]
    },
    {
      "cell_type": "markdown",
      "metadata": {
        "id": "B0TKAy-FXJiI",
        "colab_type": "text"
      },
      "source": [
        "**Linear regression**\n",
        "\n",
        "Strong relationship between TV ads and sales  \n",
        "Strong relationship between Radio ads and sales  \n",
        "Very weak to no relationship between Newspaper ads and sales  "
      ]
    },
    {
      "cell_type": "markdown",
      "metadata": {
        "id": "__6oQjn-XJiJ",
        "colab_type": "text"
      },
      "source": [
        "## 3. Preparing X and y using pandas¶\n",
        "scikit-learn expects X (feature matrix) and y (response vector) to be NumPy arrays  \n",
        "However, pandas is built on top of NumPy  \n",
        "Thus, X can be a pandas DataFrame (matrix) and y can be a pandas Series (vector)"
      ]
    },
    {
      "cell_type": "code",
      "metadata": {
        "id": "0vfvOMQVXJiM",
        "colab_type": "code",
        "outputId": "46c94b42-bda7-4b2e-be73-79effce0aec0",
        "colab": {
          "base_uri": "https://localhost:8080/",
          "height": 198
        }
      },
      "source": [
        "# create a Python list of feature names\n",
        "feature_cols = ['TV', 'Radio', 'Newspaper']\n",
        "\n",
        "# use the list to select a subset of the original DataFrame\n",
        "X = data[feature_cols]\n",
        "\n",
        "# equivalent command to do this in one line using double square brackets\n",
        "# inner bracket is a list\n",
        "# outer bracker accesses a subset of the original DataFrame\n",
        "X = data[['TV', 'Radio', 'Newspaper']]\n",
        "\n",
        "# print the first 5 rows\n",
        "X.head()"
      ],
      "execution_count": 0,
      "outputs": [
        {
          "output_type": "execute_result",
          "data": {
            "text/html": [
              "<div>\n",
              "<style scoped>\n",
              "    .dataframe tbody tr th:only-of-type {\n",
              "        vertical-align: middle;\n",
              "    }\n",
              "\n",
              "    .dataframe tbody tr th {\n",
              "        vertical-align: top;\n",
              "    }\n",
              "\n",
              "    .dataframe thead th {\n",
              "        text-align: right;\n",
              "    }\n",
              "</style>\n",
              "<table border=\"1\" class=\"dataframe\">\n",
              "  <thead>\n",
              "    <tr style=\"text-align: right;\">\n",
              "      <th></th>\n",
              "      <th>TV</th>\n",
              "      <th>Radio</th>\n",
              "      <th>Newspaper</th>\n",
              "    </tr>\n",
              "  </thead>\n",
              "  <tbody>\n",
              "    <tr>\n",
              "      <th>1</th>\n",
              "      <td>230.1</td>\n",
              "      <td>37.8</td>\n",
              "      <td>69.2</td>\n",
              "    </tr>\n",
              "    <tr>\n",
              "      <th>2</th>\n",
              "      <td>44.5</td>\n",
              "      <td>39.3</td>\n",
              "      <td>45.1</td>\n",
              "    </tr>\n",
              "    <tr>\n",
              "      <th>3</th>\n",
              "      <td>17.2</td>\n",
              "      <td>45.9</td>\n",
              "      <td>69.3</td>\n",
              "    </tr>\n",
              "    <tr>\n",
              "      <th>4</th>\n",
              "      <td>151.5</td>\n",
              "      <td>41.3</td>\n",
              "      <td>58.5</td>\n",
              "    </tr>\n",
              "    <tr>\n",
              "      <th>5</th>\n",
              "      <td>180.8</td>\n",
              "      <td>10.8</td>\n",
              "      <td>58.4</td>\n",
              "    </tr>\n",
              "  </tbody>\n",
              "</table>\n",
              "</div>"
            ],
            "text/plain": [
              "      TV  Radio  Newspaper\n",
              "1  230.1   37.8       69.2\n",
              "2   44.5   39.3       45.1\n",
              "3   17.2   45.9       69.3\n",
              "4  151.5   41.3       58.5\n",
              "5  180.8   10.8       58.4"
            ]
          },
          "metadata": {
            "tags": []
          },
          "execution_count": 15
        }
      ]
    },
    {
      "cell_type": "code",
      "metadata": {
        "id": "lva-4hxNXJiR",
        "colab_type": "code",
        "outputId": "da2a4bac-c060-4ca9-91fa-b65a171e9654",
        "colab": {
          "base_uri": "https://localhost:8080/",
          "height": 121
        }
      },
      "source": [
        "# select a Series from the DataFrame\n",
        "y = data['Sales']\n",
        "\n",
        "# equivalent command that works if there are no spaces in the column name\n",
        "# you can select the Sales as an attribute of the DataFrame\n",
        "y = data.Sales\n",
        "\n",
        "# print the first 5 values\n",
        "y.head()"
      ],
      "execution_count": 0,
      "outputs": [
        {
          "output_type": "execute_result",
          "data": {
            "text/plain": [
              "1    22.1\n",
              "2    10.4\n",
              "3     9.3\n",
              "4    18.5\n",
              "5    12.9\n",
              "Name: Sales, dtype: float64"
            ]
          },
          "metadata": {
            "tags": []
          },
          "execution_count": 16
        }
      ]
    },
    {
      "cell_type": "markdown",
      "metadata": {
        "id": "WftXkl5XXJiX",
        "colab_type": "text"
      },
      "source": [
        "## 4. Splitting X and y into training and testing sets"
      ]
    },
    {
      "cell_type": "code",
      "metadata": {
        "id": "dCnLyxT_XJiY",
        "colab_type": "code",
        "colab": {}
      },
      "source": [
        "# import  \n",
        "from sklearn.model_selection import train_test_split\n",
        "X_train, X_test, y_train, y_test = train_test_split(X, y, random_state=1)"
      ],
      "execution_count": 0,
      "outputs": []
    },
    {
      "cell_type": "code",
      "metadata": {
        "id": "qtc9ajLlXJid",
        "colab_type": "code",
        "outputId": "c6b4f70e-165f-4d50-9c0f-23105032a937",
        "colab": {
          "base_uri": "https://localhost:8080/",
          "height": 86
        }
      },
      "source": [
        "# default split is 75% for training and 25% for testing\n",
        "print(X_train.shape)\n",
        "print(X_test.shape)\n",
        "print(y_train.shape)\n",
        "print(y_test.shape)"
      ],
      "execution_count": 0,
      "outputs": [
        {
          "output_type": "stream",
          "text": [
            "(150, 3)\n",
            "(50, 3)\n",
            "(150,)\n",
            "(50,)\n"
          ],
          "name": "stdout"
        }
      ]
    },
    {
      "cell_type": "markdown",
      "metadata": {
        "id": "2a8j0ArcXJih",
        "colab_type": "text"
      },
      "source": [
        "## 5. Linear regression in scikit-learn"
      ]
    },
    {
      "cell_type": "code",
      "metadata": {
        "id": "WZHo2dMRXJii",
        "colab_type": "code",
        "outputId": "b6d40d64-7676-400d-a96c-3c011ba74c46",
        "colab": {
          "base_uri": "https://localhost:8080/",
          "height": 35
        }
      },
      "source": [
        "# import model\n",
        "from sklearn.linear_model import LinearRegression\n",
        "\n",
        "# instantiate\n",
        "regressor = LinearRegression()\n",
        "\n",
        "# fit the model to the training data (learn the coefficients)\n",
        "regressor.fit(X_train, y_train)"
      ],
      "execution_count": 0,
      "outputs": [
        {
          "output_type": "execute_result",
          "data": {
            "text/plain": [
              "LinearRegression(copy_X=True, fit_intercept=True, n_jobs=None, normalize=False)"
            ]
          },
          "metadata": {
            "tags": []
          },
          "execution_count": 19
        }
      ]
    },
    {
      "cell_type": "markdown",
      "metadata": {
        "id": "XgV0JPNDXJin",
        "colab_type": "text"
      },
      "source": [
        "## 6. Making predictions"
      ]
    },
    {
      "cell_type": "code",
      "metadata": {
        "id": "zspyh9yPXJiu",
        "colab_type": "code",
        "colab": {}
      },
      "source": [
        "# make predictions on the testing set\n",
        "y_pred = regressor.predict(X_test)"
      ],
      "execution_count": 0,
      "outputs": []
    },
    {
      "cell_type": "code",
      "metadata": {
        "id": "_kXxpkUeXJiy",
        "colab_type": "code",
        "outputId": "8f22fe9d-b677-4ef3-d29b-d8b110fc69bc",
        "colab": {
          "base_uri": "https://localhost:8080/",
          "height": 173
        }
      },
      "source": [
        "print(y_pred)"
      ],
      "execution_count": 0,
      "outputs": [
        {
          "output_type": "stream",
          "text": [
            "[21.70910292 16.41055243  7.60955058 17.80769552 18.6146359  23.83573998\n",
            " 16.32488681 13.43225536  9.17173403 17.333853   14.44479482  9.83511973\n",
            " 17.18797614 16.73086831 15.05529391 15.61434433 12.42541574 17.17716376\n",
            " 11.08827566 18.00537501  9.28438889 12.98458458  8.79950614 10.42382499\n",
            " 11.3846456  14.98082512  9.78853268 19.39643187 18.18099936 17.12807566\n",
            " 21.54670213 14.69809481 16.24641438 12.32114579 19.92422501 15.32498602\n",
            " 13.88726522 10.03162255 20.93105915  7.44936831  3.64695761  7.22020178\n",
            "  5.9962782  18.43381853  8.39408045 14.08371047 15.02195699 20.35836418\n",
            " 20.57036347 19.60636679]\n"
          ],
          "name": "stdout"
        }
      ]
    },
    {
      "cell_type": "code",
      "metadata": {
        "id": "NuZTPcqbXJi2",
        "colab_type": "code",
        "outputId": "26721e78-f0c3-4330-c3a9-3f5a206f5602",
        "colab": {
          "base_uri": "https://localhost:8080/",
          "height": 35
        }
      },
      "source": [
        "X_new = pd.DataFrame({'TV': [17],\"Radio\": [45],'Newspaper':[69]})\n",
        "\n",
        "# predict for a new observation\n",
        "regressor.predict(X_new)"
      ],
      "execution_count": 0,
      "outputs": [
        {
          "output_type": "execute_result",
          "data": {
            "text/plain": [
              "array([11.96876185])"
            ]
          },
          "metadata": {
            "tags": []
          },
          "execution_count": 22
        }
      ]
    },
    {
      "cell_type": "markdown",
      "metadata": {
        "id": "0ykWkTl6XJi6",
        "colab_type": "text"
      },
      "source": [
        "## 7. Interpreting model coefficients"
      ]
    },
    {
      "cell_type": "code",
      "metadata": {
        "id": "zsfKyX4BXJi7",
        "colab_type": "code",
        "outputId": "7ad15e15-1214-43e7-cbe1-39dd132aef6f",
        "colab": {
          "base_uri": "https://localhost:8080/",
          "height": 52
        }
      },
      "source": [
        "# print the intercept and coefficients\n",
        "print(regressor.intercept_)\n",
        "print(regressor.coef_)"
      ],
      "execution_count": 0,
      "outputs": [
        {
          "output_type": "stream",
          "text": [
            "2.87696662231793\n",
            "[0.04656457 0.17915812 0.00345046]\n"
          ],
          "name": "stdout"
        }
      ]
    },
    {
      "cell_type": "markdown",
      "metadata": {
        "id": "J0duVYohXJi_",
        "colab_type": "text"
      },
      "source": [
        "**y=2.88+0.0466×TV+0.179×Radio+0.00345×Newspaper** \n",
        " \n",
        "How do we interpret the TV coefficient (0.0466)?  \n",
        "\n",
        "For a given amount of Radio and Newspaper ad spending, a \"unit\" increase in TV ad spending is associated with a 0.0466 \"unit\" increase in Sales.  \n",
        "Or more clearly: For a given amount of Radio and Newspaper ad spending, an additional $1,000 spent on TV ads is associated with an increase in sales of 46.6 items.  \n",
        "Important notes:  \n",
        "\n",
        "This is a statement of association, not causation  \n",
        "If an increase in TV ad spending was associated with a decrease in sales,  β1  would be negative."
      ]
    },
    {
      "cell_type": "markdown",
      "metadata": {
        "id": "7h9f1DQzXJjA",
        "colab_type": "text"
      },
      "source": [
        "## 8. Model evaluation metrics for regression\n",
        "Evaluation metrics for classification problems, such as accuracy, are not useful for regression problems. Instead, we need evaluation metrics designed for comparing continuous values.  \n",
        "\n",
        "Let's create some example numeric predictions, and calculate three common evaluation metrics for regression problems:"
      ]
    },
    {
      "cell_type": "code",
      "metadata": {
        "id": "6k5rQTT5XJjB",
        "colab_type": "code",
        "colab": {}
      },
      "source": [
        "# define true and predicted response values\n",
        "true = [100, 50, 30, 20]\n",
        "pred = [90, 50, 50, 30]"
      ],
      "execution_count": 0,
      "outputs": []
    },
    {
      "cell_type": "code",
      "metadata": {
        "id": "KJZbk5cyXJjH",
        "colab_type": "code",
        "outputId": "fed01652-a42b-438f-94ba-aba43fe49e2e",
        "colab": {}
      },
      "source": [
        "# calculate RSME using scikit-learn\n",
        "import numpy as np\n",
        "from sklearn import metrics\n",
        "print(np.sqrt(metrics.mean_squared_error(true, pred)))"
      ],
      "execution_count": 0,
      "outputs": [
        {
          "output_type": "stream",
          "text": [
            "12.24744871391589\n"
          ],
          "name": "stdout"
        }
      ]
    },
    {
      "cell_type": "code",
      "metadata": {
        "id": "62QeXnMdXJjL",
        "colab_type": "code",
        "outputId": "89f7b30c-7432-455b-f0d4-0e85b2cb4928",
        "colab": {}
      },
      "source": [
        "# import numpy as np\n",
        "print(np.sqrt(metrics.mean_squared_error(y_test, y_pred)))"
      ],
      "execution_count": 0,
      "outputs": [
        {
          "output_type": "stream",
          "text": [
            "1.4046514230328955\n"
          ],
          "name": "stdout"
        }
      ]
    },
    {
      "cell_type": "markdown",
      "metadata": {
        "id": "6l06Y9u2XJjT",
        "colab_type": "text"
      },
      "source": [
        "RMSE is even more popular than MSE, because RMSE is interpretable in the \"y\" units.  \n",
        "Easier to put in context as it's the same units as our response variable"
      ]
    },
    {
      "cell_type": "code",
      "metadata": {
        "id": "YjT8szHtXJjX",
        "colab_type": "code",
        "colab": {}
      },
      "source": [
        ""
      ],
      "execution_count": 0,
      "outputs": []
    }
  ]
}
