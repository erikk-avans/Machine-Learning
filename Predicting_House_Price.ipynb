{
  "nbformat": 4,
  "nbformat_minor": 0,
  "metadata": {
    "colab": {
      "name": "Predicting House Price.ipynb",
      "provenance": [],
      "collapsed_sections": [],
      "authorship_tag": "ABX9TyMQHXSupjaoJBmXxomCOKxc",
      "include_colab_link": true
    },
    "kernelspec": {
      "name": "python3",
      "display_name": "Python 3"
    }
  },
  "cells": [
    {
      "cell_type": "markdown",
      "metadata": {
        "id": "view-in-github",
        "colab_type": "text"
      },
      "source": [
        "<a href=\"https://colab.research.google.com/github/erikk-avans/Machine-Learning/blob/master/Predicting_House_Price.ipynb\" target=\"_parent\"><img src=\"https://colab.research.google.com/assets/colab-badge.svg\" alt=\"Open In Colab\"/></a>"
      ]
    },
    {
      "cell_type": "markdown",
      "metadata": {
        "id": "lil6SecBE0hc",
        "colab_type": "text"
      },
      "source": [
        "https://github.com/erikk-avans/Machine-Learning\n",
        "\n",
        "In this exercise you'll try to build a neural network that predicts the price of a house according to a simple formula.\n",
        "\n",
        "So, imagine if house pricing was as easy as a house costs 50k + 50k per bedroom, so that a 1 bedroom house costs 100k, a 2 bedroom house costs 150k etc.\n",
        "\n",
        "How would you create a neural network that learns this relationship so that it would predict a 7 bedroom house as costing close to 400k etc.\n",
        "\n",
        "Hint: Your network might work better if you scale the house price down. You don't have to give the answer 400...it might be better to create something that predicts the number 4, and then your answer is in the 'hundreds of thousands' etc."
      ]
    },
    {
      "cell_type": "code",
      "metadata": {
        "id": "rW5MjFgYDTvk",
        "colab_type": "code",
        "colab": {
          "base_uri": "https://localhost:8080/",
          "height": 34
        },
        "outputId": "68306bf5-f386-4a58-f5ae-1ff9e18ba3df"
      },
      "source": [
        "\n",
        "try:\n",
        "  %tensorflow_version 2.x\n",
        "except Exception:\n",
        "  pass\n",
        "\n",
        "import tensorflow as tf\n",
        "import numpy as np\n",
        "from tensorflow import keras"
      ],
      "execution_count": 1,
      "outputs": [
        {
          "output_type": "stream",
          "text": [
            "TensorFlow 2.x selected.\n"
          ],
          "name": "stdout"
        }
      ]
    },
    {
      "cell_type": "code",
      "metadata": {
        "id": "K2Nj8zUQDVRs",
        "colab_type": "code",
        "colab": {}
      },
      "source": [
        "def house_model(y_new):\n",
        "    xs=[]\n",
        "    ys=[]\n",
        "    for i in range(1,10):\n",
        "        xs.append(i)\n",
        "        ys.append(((1+float(i))*50)/550) #getting results between 0 and 1\n",
        "    \n",
        "    xs=np.array(xs,dtype=float)\n",
        "    ys=np.array(ys, dtype=float)\n",
        "\n",
        "    model = keras.Sequential([keras.layers.Dense(units = 1, input_shape = [1])])\n",
        "    model.compile(optimizer='sgd', loss='mean_squared_error')    \n",
        "    \n",
        "    model.fit(xs, ys, epochs = 45)\n",
        "    return (model.predict(y_new)[0]*550)"
      ],
      "execution_count": 0,
      "outputs": []
    },
    {
      "cell_type": "code",
      "metadata": {
        "id": "i4a6t3CqUnpP",
        "colab_type": "code",
        "colab": {}
      },
      "source": [
        ""
      ],
      "execution_count": 0,
      "outputs": []
    },
    {
      "cell_type": "code",
      "metadata": {
        "id": "_fvB3poqOJD-",
        "colab_type": "code",
        "colab": {
          "base_uri": "https://localhost:8080/",
          "height": 1000
        },
        "outputId": "10c08e96-3066-4f47-e0a1-30f5b54da4a6"
      },
      "source": [
        "bedrooms = input(\"Enter number of bedrooms: \")\n",
        "data =[]\n",
        "data.append(int(bedrooms))\n",
        "prediction = house_model([data[0]])\n",
        "print('The estimated price of the house is:', prediction)\n"
      ],
      "execution_count": 41,
      "outputs": [
        {
          "output_type": "stream",
          "text": [
            "Enter number of bedrooms: 5\n",
            "Train on 9 samples\n",
            "Epoch 1/45\n",
            "9/9 [==============================] - 0s 18ms/sample - loss: 17.0161\n",
            "Epoch 2/45\n",
            "9/9 [==============================] - 0s 422us/sample - loss: 2.0938\n",
            "Epoch 3/45\n",
            "9/9 [==============================] - 0s 233us/sample - loss: 0.2577\n",
            "Epoch 4/45\n",
            "9/9 [==============================] - 0s 310us/sample - loss: 0.0318\n",
            "Epoch 5/45\n",
            "9/9 [==============================] - 0s 510us/sample - loss: 0.0040\n",
            "Epoch 6/45\n",
            "9/9 [==============================] - 0s 494us/sample - loss: 5.8427e-04\n",
            "Epoch 7/45\n",
            "9/9 [==============================] - 0s 353us/sample - loss: 1.6258e-04\n",
            "Epoch 8/45\n",
            "9/9 [==============================] - 0s 376us/sample - loss: 1.0995e-04\n",
            "Epoch 9/45\n",
            "9/9 [==============================] - 0s 295us/sample - loss: 1.0274e-04\n",
            "Epoch 10/45\n",
            "9/9 [==============================] - 0s 304us/sample - loss: 1.0112e-04\n",
            "Epoch 11/45\n",
            "9/9 [==============================] - 0s 336us/sample - loss: 1.0019e-04\n",
            "Epoch 12/45\n",
            "9/9 [==============================] - 0s 285us/sample - loss: 9.9360e-05\n",
            "Epoch 13/45\n",
            "9/9 [==============================] - 0s 321us/sample - loss: 9.8543e-05\n",
            "Epoch 14/45\n",
            "9/9 [==============================] - 0s 415us/sample - loss: 9.7735e-05\n",
            "Epoch 15/45\n",
            "9/9 [==============================] - 0s 306us/sample - loss: 9.6934e-05\n",
            "Epoch 16/45\n",
            "9/9 [==============================] - 0s 368us/sample - loss: 9.6139e-05\n",
            "Epoch 17/45\n",
            "9/9 [==============================] - 0s 265us/sample - loss: 9.5351e-05\n",
            "Epoch 18/45\n",
            "9/9 [==============================] - 0s 293us/sample - loss: 9.4570e-05\n",
            "Epoch 19/45\n",
            "9/9 [==============================] - 0s 365us/sample - loss: 9.3794e-05\n",
            "Epoch 20/45\n",
            "9/9 [==============================] - 0s 339us/sample - loss: 9.3025e-05\n",
            "Epoch 21/45\n",
            "9/9 [==============================] - 0s 282us/sample - loss: 9.2263e-05\n",
            "Epoch 22/45\n",
            "9/9 [==============================] - 0s 414us/sample - loss: 9.1506e-05\n",
            "Epoch 23/45\n",
            "9/9 [==============================] - 0s 278us/sample - loss: 9.0756e-05\n",
            "Epoch 24/45\n",
            "9/9 [==============================] - 0s 386us/sample - loss: 9.0012e-05\n",
            "Epoch 25/45\n",
            "9/9 [==============================] - 0s 229us/sample - loss: 8.9274e-05\n",
            "Epoch 26/45\n",
            "9/9 [==============================] - 0s 387us/sample - loss: 8.8542e-05\n",
            "Epoch 27/45\n",
            "9/9 [==============================] - 0s 291us/sample - loss: 8.7817e-05\n",
            "Epoch 28/45\n",
            "9/9 [==============================] - 0s 464us/sample - loss: 8.7097e-05\n",
            "Epoch 29/45\n",
            "9/9 [==============================] - 0s 476us/sample - loss: 8.6382e-05\n",
            "Epoch 30/45\n",
            "9/9 [==============================] - 0s 279us/sample - loss: 8.5674e-05\n",
            "Epoch 31/45\n",
            "9/9 [==============================] - 0s 268us/sample - loss: 8.4972e-05\n",
            "Epoch 32/45\n",
            "9/9 [==============================] - 0s 492us/sample - loss: 8.4275e-05\n",
            "Epoch 33/45\n",
            "9/9 [==============================] - 0s 338us/sample - loss: 8.3584e-05\n",
            "Epoch 34/45\n",
            "9/9 [==============================] - 0s 369us/sample - loss: 8.2899e-05\n",
            "Epoch 35/45\n",
            "9/9 [==============================] - 0s 317us/sample - loss: 8.2220e-05\n",
            "Epoch 36/45\n",
            "9/9 [==============================] - 0s 299us/sample - loss: 8.1546e-05\n",
            "Epoch 37/45\n",
            "9/9 [==============================] - 0s 498us/sample - loss: 8.0877e-05\n",
            "Epoch 38/45\n",
            "9/9 [==============================] - 0s 384us/sample - loss: 8.0214e-05\n",
            "Epoch 39/45\n",
            "9/9 [==============================] - 0s 310us/sample - loss: 7.9556e-05\n",
            "Epoch 40/45\n",
            "9/9 [==============================] - 0s 453us/sample - loss: 7.8905e-05\n",
            "Epoch 41/45\n",
            "9/9 [==============================] - 0s 369us/sample - loss: 7.8258e-05\n",
            "Epoch 42/45\n",
            "9/9 [==============================] - 0s 329us/sample - loss: 7.7616e-05\n",
            "Epoch 43/45\n",
            "9/9 [==============================] - 0s 739us/sample - loss: 7.6979e-05\n",
            "Epoch 44/45\n",
            "9/9 [==============================] - 0s 376us/sample - loss: 7.6349e-05\n",
            "Epoch 45/45\n",
            "9/9 [==============================] - 0s 396us/sample - loss: 7.5722e-05\n",
            "The estimated price of the house is: [302.13327]\n"
          ],
          "name": "stdout"
        }
      ]
    },
    {
      "cell_type": "code",
      "metadata": {
        "id": "Vj-UugxFDpZL",
        "colab_type": "code",
        "colab": {}
      },
      "source": [
        "prediction = house_model([7])\n",
        "print(prediction)"
      ],
      "execution_count": 0,
      "outputs": []
    },
    {
      "cell_type": "code",
      "metadata": {
        "id": "IWNQF63IDrAm",
        "colab_type": "code",
        "colab": {}
      },
      "source": [
        ""
      ],
      "execution_count": 0,
      "outputs": []
    }
  ]
}