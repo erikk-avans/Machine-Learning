{
  "nbformat": 4,
  "nbformat_minor": 0,
  "metadata": {
    "colab": {
      "name": "Predicting House Price.ipynb",
      "provenance": [],
      "collapsed_sections": [],
      "authorship_tag": "ABX9TyOfxUEVD0gIRpznuxdgcoEg",
      "include_colab_link": true
    },
    "kernelspec": {
      "name": "python3",
      "display_name": "Python 3"
    }
  },
  "cells": [
    {
      "cell_type": "markdown",
      "metadata": {
        "id": "view-in-github",
        "colab_type": "text"
      },
      "source": [
        "<a href=\"https://colab.research.google.com/github/erikk-avans/Machine-Learning/blob/master/Predicting_House_Price.ipynb\" target=\"_parent\"><img src=\"https://colab.research.google.com/assets/colab-badge.svg\" alt=\"Open In Colab\"/></a>"
      ]
    },
    {
      "cell_type": "markdown",
      "metadata": {
        "id": "lil6SecBE0hc",
        "colab_type": "text"
      },
      "source": [
        "https://github.com/erikk-avans/Machine-Learning\n",
        "\n",
        "In this exercise you'll try to build a neural network that predicts the price of a house according to a simple formula.\n",
        "\n",
        "So, imagine if house pricing was as easy as a house costs 50k + 50k per bedroom, so that a 1 bedroom house costs 100k, a 2 bedroom house costs 150k etc.\n",
        "\n",
        "How would you create a neural network that learns this relationship so that it would predict a 7 bedroom house as costing close to 400k etc.\n",
        "\n",
        "Hint: Your network might work better if you scale the house price down. You don't have to give the answer 400...it might be better to create something that predicts the number 4, and then your answer is in the 'hundreds of thousands' etc."
      ]
    },
    {
      "cell_type": "code",
      "metadata": {
        "id": "rW5MjFgYDTvk",
        "colab_type": "code",
        "colab": {
          "base_uri": "https://localhost:8080/",
          "height": 34
        },
        "outputId": "68306bf5-f386-4a58-f5ae-1ff9e18ba3df"
      },
      "source": [
        "\n",
        "try:\n",
        "  %tensorflow_version 2.x\n",
        "except Exception:\n",
        "  pass\n",
        "\n",
        "import tensorflow as tf\n",
        "import numpy as np\n",
        "from tensorflow import keras"
      ],
      "execution_count": 1,
      "outputs": [
        {
          "output_type": "stream",
          "text": [
            "TensorFlow 2.x selected.\n"
          ],
          "name": "stdout"
        }
      ]
    },
    {
      "cell_type": "code",
      "metadata": {
        "id": "K2Nj8zUQDVRs",
        "colab_type": "code",
        "colab": {}
      },
      "source": [
        "def house_model(y_new):\n",
        "    xs=[]\n",
        "    ys=[]\n",
        "    for i in range(1,10):\n",
        "        xs.append(i)\n",
        "        ys.append(((1+float(i))*50)/550) #getting results between 0 and 1\n",
        "    \n",
        "    xs=np.array(xs,dtype=float)\n",
        "    ys=np.array(ys, dtype=float)\n",
        "\n",
        "    model = keras.Sequential([keras.layers.Dense(units = 1, input_shape = [1])])\n",
        "    model.compile(optimizer='sgd', loss='mean_squared_error')    \n",
        "    \n",
        "    model.fit(xs, ys, epochs = 25)\n",
        "    return (model.predict(y_new)[0]*550)"
      ],
      "execution_count": 0,
      "outputs": []
    },
    {
      "cell_type": "code",
      "metadata": {
        "id": "_fvB3poqOJD-",
        "colab_type": "code",
        "colab": {
          "base_uri": "https://localhost:8080/",
          "height": 918
        },
        "outputId": "c7314e8c-6a04-459f-91be-88f45b4f175a"
      },
      "source": [
        "bedrooms = input(\"Enter number of bedrooms: \")\n",
        "data =[]\n",
        "data.append(int(bedrooms))\n",
        "prediction = house_model([data[0]])\n",
        "print('The estimated price of the house is:', prediction)\n"
      ],
      "execution_count": 25,
      "outputs": [
        {
          "output_type": "stream",
          "text": [
            "Enter number of bedrooms: 3\n",
            "Train on 9 samples\n",
            "Epoch 1/25\n",
            "9/9 [==============================] - 0s 16ms/sample - loss: 10.6994\n",
            "Epoch 2/25\n",
            "9/9 [==============================] - 0s 454us/sample - loss: 1.3225\n",
            "Epoch 3/25\n",
            "9/9 [==============================] - 0s 223us/sample - loss: 0.1687\n",
            "Epoch 4/25\n",
            "9/9 [==============================] - 0s 357us/sample - loss: 0.0266\n",
            "Epoch 5/25\n",
            "9/9 [==============================] - 0s 506us/sample - loss: 0.0091\n",
            "Epoch 6/25\n",
            "9/9 [==============================] - 0s 256us/sample - loss: 0.0069\n",
            "Epoch 7/25\n",
            "9/9 [==============================] - 0s 220us/sample - loss: 0.0066\n",
            "Epoch 8/25\n",
            "9/9 [==============================] - 0s 527us/sample - loss: 0.0065\n",
            "Epoch 9/25\n",
            "9/9 [==============================] - 0s 217us/sample - loss: 0.0065\n",
            "Epoch 10/25\n",
            "9/9 [==============================] - 0s 320us/sample - loss: 0.0064\n",
            "Epoch 11/25\n",
            "9/9 [==============================] - 0s 209us/sample - loss: 0.0064\n",
            "Epoch 12/25\n",
            "9/9 [==============================] - 0s 145us/sample - loss: 0.0063\n",
            "Epoch 13/25\n",
            "9/9 [==============================] - 0s 194us/sample - loss: 0.0062\n",
            "Epoch 14/25\n",
            "9/9 [==============================] - 0s 269us/sample - loss: 0.0062\n",
            "Epoch 15/25\n",
            "9/9 [==============================] - 0s 172us/sample - loss: 0.0061\n",
            "Epoch 16/25\n",
            "9/9 [==============================] - 0s 163us/sample - loss: 0.0061\n",
            "Epoch 17/25\n",
            "9/9 [==============================] - 0s 256us/sample - loss: 0.0060\n",
            "Epoch 18/25\n",
            "9/9 [==============================] - 0s 240us/sample - loss: 0.0060\n",
            "Epoch 19/25\n",
            "9/9 [==============================] - 0s 249us/sample - loss: 0.0059\n",
            "Epoch 20/25\n",
            "9/9 [==============================] - 0s 308us/sample - loss: 0.0059\n",
            "Epoch 21/25\n",
            "9/9 [==============================] - 0s 250us/sample - loss: 0.0059\n",
            "Epoch 22/25\n",
            "9/9 [==============================] - 0s 228us/sample - loss: 0.0058\n",
            "Epoch 23/25\n",
            "9/9 [==============================] - 0s 294us/sample - loss: 0.0058\n",
            "Epoch 24/25\n",
            "9/9 [==============================] - 0s 231us/sample - loss: 0.0057\n",
            "Epoch 25/25\n",
            "9/9 [==============================] - 0s 225us/sample - loss: 0.0057\n",
            "The estimated price of the house is: [153.00877]\n"
          ],
          "name": "stdout"
        }
      ]
    },
    {
      "cell_type": "code",
      "metadata": {
        "id": "Vj-UugxFDpZL",
        "colab_type": "code",
        "colab": {}
      },
      "source": [
        "prediction = house_model([7])\n",
        "print(prediction)"
      ],
      "execution_count": 0,
      "outputs": []
    },
    {
      "cell_type": "code",
      "metadata": {
        "id": "IWNQF63IDrAm",
        "colab_type": "code",
        "colab": {}
      },
      "source": [
        ""
      ],
      "execution_count": 0,
      "outputs": []
    }
  ]
}