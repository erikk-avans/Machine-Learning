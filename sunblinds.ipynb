{
  "nbformat": 4,
  "nbformat_minor": 0,
  "metadata": {
    "kernelspec": {
      "display_name": "Python 3",
      "language": "python",
      "name": "python3"
    },
    "language_info": {
      "codemirror_mode": {
        "name": "ipython",
        "version": 3
      },
      "file_extension": ".py",
      "mimetype": "text/x-python",
      "name": "python",
      "nbconvert_exporter": "python",
      "pygments_lexer": "ipython3",
      "version": "3.6.8"
    },
    "colab": {
      "name": "sunblinds.ipynb",
      "provenance": []
    }
  },
  "cells": [
    {
      "cell_type": "markdown",
      "metadata": {
        "id": "GUpKn2aBQ6r5",
        "colab_type": "text"
      },
      "source": [
        "## This notebook is not mean to be used in Collab. Streamlit is not supported in Collab. Please use the other notebooks called sunblinds_colabs_version"
      ]
    },
    {
      "cell_type": "code",
      "metadata": {
        "id": "ulCeXQgDPkDi",
        "colab_type": "code",
        "colab": {}
      },
      "source": [
        "import numpy as np\n",
        "import pandas as pd\n",
        "import streamlit as st\n",
        "from sklearn.linear_model import LogisticRegression\n"
      ],
      "execution_count": 0,
      "outputs": []
    },
    {
      "cell_type": "code",
      "metadata": {
        "id": "plMYT7dfPkDw",
        "colab_type": "code",
        "colab": {}
      },
      "source": [
        "data.head()"
      ],
      "execution_count": 0,
      "outputs": []
    },
    {
      "cell_type": "code",
      "metadata": {
        "id": "bqQbP-n3PkDp",
        "colab_type": "code",
        "colab": {}
      },
      "source": [
        "#data = pd.read_csv('data/fan_state.csv')\n",
        "data = pd.read_excel('data/sunblinds.xlsx')"
      ],
      "execution_count": 0,
      "outputs": []
    },
    {
      "cell_type": "markdown",
      "metadata": {
        "id": "ACbsALLmQtR1",
        "colab_type": "text"
      },
      "source": [
        ""
      ]
    },
    {
      "cell_type": "code",
      "metadata": {
        "id": "dnOdVLK2PkD3",
        "colab_type": "code",
        "colab": {}
      },
      "source": [
        "x = np.array(data[['Time','Temperature','Light']])\n",
        "y = np.array(data[['State']]).ravel()"
      ],
      "execution_count": 0,
      "outputs": []
    },
    {
      "cell_type": "code",
      "metadata": {
        "id": "sGPuvkdsPkEA",
        "colab_type": "code",
        "colab": {},
        "outputId": "e06cb684-fd6e-4747-a037-e508f13c9239"
      },
      "source": [
        "#knn.fit(x,y)\n",
        "log_reg=LogisticRegression()\n",
        "log_reg.fit(x,y)\n"
      ],
      "execution_count": 0,
      "outputs": [
        {
          "output_type": "stream",
          "text": [
            "/Applications/miniconda3/envs/neural-network-projects-python/lib/python3.6/site-packages/sklearn/linear_model/logistic.py:433: FutureWarning: Default solver will be changed to 'lbfgs' in 0.22. Specify a solver to silence this warning.\n",
            "  FutureWarning)\n"
          ],
          "name": "stderr"
        },
        {
          "output_type": "execute_result",
          "data": {
            "text/plain": [
              "LogisticRegression(C=1.0, class_weight=None, dual=False, fit_intercept=True,\n",
              "          intercept_scaling=1, max_iter=100, multi_class='warn',\n",
              "          n_jobs=None, penalty='l2', random_state=None, solver='warn',\n",
              "          tol=0.0001, verbose=0, warm_start=False)"
            ]
          },
          "metadata": {
            "tags": []
          },
          "execution_count": 17
        }
      ]
    },
    {
      "cell_type": "markdown",
      "metadata": {
        "id": "h0NstPd3Pm_1",
        "colab_type": "text"
      },
      "source": [
        "The cell underneath is commented out. It could be used to input data in the notebook. Instead Streamlit is used as a way to enter the data through a web interface (see two cells below)."
      ]
    },
    {
      "cell_type": "code",
      "metadata": {
        "id": "4yHfFJMiPkEE",
        "colab_type": "code",
        "colab": {},
        "outputId": "29ecc0ec-71a9-4931-eebe-2049c116e71e"
      },
      "source": [
        "#time = input(\"Enter time: \")\n",
        "#temp = input(\"Enter temp: \")\n",
        "#light= input(\"Enter light intensity: \")\n",
        "#data_input =[]\n",
        "#data_input.append(float(time))\n",
        "#data_input.append(float(temp))\n",
        "#data_input.append(float(light))\n",
        "#a=log_reg.predict([data_input])\n",
        "#print('the sunblind state will be',a[0])"
      ],
      "execution_count": 0,
      "outputs": [
        {
          "output_type": "stream",
          "text": [
            "Enter time: 02.00\n",
            "Enter temp: 17\n",
            "Enter light intensity: 0\n",
            "the sunblind state will be 0\n"
          ],
          "name": "stdout"
        }
      ]
    },
    {
      "cell_type": "markdown",
      "metadata": {
        "id": "3J-l74FdQSTA",
        "colab_type": "text"
      },
      "source": [
        "This is the Streamlit part. Here is the procedure to complete:\n",
        "- go to File/Downloads as and select Python(.pi)\n",
        "- open up a Python3 Terminal window\n",
        "- run the following command : $streamlit run sunblinds.py\n",
        "You should see now in your browser a new tab with your app."
      ]
    },
    {
      "cell_type": "code",
      "metadata": {
        "id": "pD6kl_gGPkEK",
        "colab_type": "code",
        "colab": {}
      },
      "source": [
        "st.title(\"Prediction of Sunblind state in conference room based on time, light intensity and temperature\")\n",
        "st.text(\"Select Time: \")\n",
        "time=st.slider('time', 0, 23, 10) \n",
        "st.text(\"Select Temperature: \")\n",
        "temp= st.slider('temperature', 0, 35, 17) \n",
        "st.text(\"Select light intensity: \")\n",
        "light=st.slider('light', 0, 500, 100) \n",
        "data_input =[]\n",
        "data_input.append(float(time))\n",
        "data_input.append(float(temp))\n",
        "data_input.append(float(light))\n",
        "a=log_reg.predict([data_input])\n",
        "st.text(\"Predicted Sunblinds State is: \")\n",
        "st.text(a[0])\n",
        "if a[0]==0: \n",
        "    st.title('The sunblinds are Down')\n",
        "else :\n",
        "    st.title('The sunblinds are Up')\n"
      ],
      "execution_count": 0,
      "outputs": []
    },
    {
      "cell_type": "code",
      "metadata": {
        "id": "RfNK0xWoPkEO",
        "colab_type": "code",
        "colab": {}
      },
      "source": [
        "# conventional way to import seaborn\n",
        "import seaborn as sns\n",
        "\n",
        "# allow plots to appear within the notebook\n",
        "#%matplotlib inline"
      ],
      "execution_count": 0,
      "outputs": []
    },
    {
      "cell_type": "code",
      "metadata": {
        "id": "OjzVLh_qPkEU",
        "colab_type": "code",
        "colab": {},
        "outputId": "7420168f-c59f-4faf-dde1-962f1ea992b7"
      },
      "source": [
        "# visualize the relationship between the features and the response using scatterplots\n",
        "# this produces pairs of scatterplot as shown\n",
        "# use aspect= to control the size of the graphs\n",
        "# use kind='reg' to plot linear regression on the graph\n",
        "sns.pairplot(data, x_vars=['Time', 'Temperature', 'Light'], y_vars='State', height=7, aspect=0.7, kind='reg')"
      ],
      "execution_count": 0,
      "outputs": [
        {
          "output_type": "execute_result",
          "data": {
            "text/plain": [
              "<seaborn.axisgrid.PairGrid at 0x1a18ea69b0>"
            ]
          },
          "metadata": {
            "tags": []
          },
          "execution_count": 23
        },
        {
          "output_type": "display_data",
          "data": {
            "image/png": "[encoded data removed]",
            "text/plain": [
              "<Figure size 1058.4x504 with 3 Axes>"
            ]
          },
          "metadata": {
            "tags": [],
            "needs_background": "light"
          }
        }
      ]
    },
    {
      "cell_type": "code",
      "metadata": {
        "id": "RKBld-TkPkEY",
        "colab_type": "code",
        "colab": {}
      },
      "source": [
        "from sklearn.linear_model import LinearRegression"
      ],
      "execution_count": 0,
      "outputs": []
    },
    {
      "cell_type": "code",
      "metadata": {
        "id": "9nmu7SglPkEb",
        "colab_type": "code",
        "colab": {}
      },
      "source": [
        "X = np.array(data[['Time','Temperature']])\n",
        "Y = np.array(data[['Light']]).ravel()"
      ],
      "execution_count": 0,
      "outputs": []
    },
    {
      "cell_type": "code",
      "metadata": {
        "id": "ilGo7tyWPkEf",
        "colab_type": "code",
        "colab": {},
        "outputId": "ec5c402a-8bff-44a6-dd91-c99fd57fa992"
      },
      "source": [
        "regressor = LinearRegression()\n",
        "\n",
        "# fit the model to the training data (learn the coefficients)\n",
        "regressor.fit(X,Y)"
      ],
      "execution_count": 0,
      "outputs": [
        {
          "output_type": "execute_result",
          "data": {
            "text/plain": [
              "LinearRegression(copy_X=True, fit_intercept=True, n_jobs=None,\n",
              "         normalize=False)"
            ]
          },
          "metadata": {
            "tags": []
          },
          "execution_count": 6
        }
      ]
    },
    {
      "cell_type": "code",
      "metadata": {
        "id": "UIDnMWVgPkEi",
        "colab_type": "code",
        "colab": {},
        "outputId": "3185819c-0982-47f3-dc90-540afb9735d2"
      },
      "source": [
        "#time = input(\"Enter time: \")\n",
        "#temp = input(\"Enter temp: \")\n",
        "#data_input =[]\n",
        "#data_input.append(float(time))\n",
        "#data_input.append(float(temp))\n",
        "#a=regressor.predict([data_input])\n",
        "#if a<0: \n",
        "    #print('the Light intensity will be 0')\n",
        "#else :\n",
        "    #print('the Light intensity will be',a[0])"
      ],
      "execution_count": 0,
      "outputs": [
        {
          "output_type": "stream",
          "text": [
            "Enter time: 04.00\n",
            "Enter temp: 12\n",
            "the Light intensity will be 0\n"
          ],
          "name": "stdout"
        }
      ]
    },
    {
      "cell_type": "code",
      "metadata": {
        "id": "1c3HRawbPkEm",
        "colab_type": "code",
        "colab": {}
      },
      "source": [
        ""
      ],
      "execution_count": 0,
      "outputs": []
    }
  ]
}