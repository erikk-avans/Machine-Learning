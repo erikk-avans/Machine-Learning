{
  "nbformat": 4,
  "nbformat_minor": 0,
  "metadata": {
    "kernelspec": {
      "display_name": "Python 3",
      "language": "python",
      "name": "python3"
    },
    "language_info": {
      "codemirror_mode": {
        "name": "ipython",
        "version": 3
      },
      "file_extension": ".py",
      "mimetype": "text/x-python",
      "name": "python",
      "nbconvert_exporter": "python",
      "pygments_lexer": "ipython3",
      "version": "3.6.8"
    },
    "colab": {
      "name": "sunblinds_colab_version.ipynb",
      "provenance": [],
      "include_colab_link": true
    }
  },
  "cells": [
    {
      "cell_type": "markdown",
      "metadata": {
        "id": "view-in-github",
        "colab_type": "text"
      },
      "source": [
        "<a href=\"https://colab.research.google.com/github/erikk-avans/Machine-Learning/blob/master/sunblinds_colab_version.ipynb\" target=\"_parent\"><img src=\"https://colab.research.google.com/assets/colab-badge.svg\" alt=\"Open In Colab\"/></a>"
      ]
    },
    {
      "cell_type": "code",
      "metadata": {
        "id": "3Dj7ImRv2bZ9",
        "colab_type": "code",
        "colab": {}
      },
      "source": [
        "import numpy as np\n",
        "import pandas as pd\n",
        "from sklearn.linear_model import LogisticRegression\n"
      ],
      "execution_count": 0,
      "outputs": []
    },
    {
      "cell_type": "code",
      "metadata": {
        "id": "jfwv7Yxa2c2r",
        "colab_type": "code",
        "colab": {
          "base_uri": "https://localhost:8080/",
          "height": 121
        },
        "outputId": "fbe7b1b3-d3b9-4a5c-a9b1-2737b141da28"
      },
      "source": [
        "!git clone https://github.com/erikk-avans/Machine-Learning.git"
      ],
      "execution_count": 4,
      "outputs": [
        {
          "output_type": "stream",
          "text": [
            "Cloning into 'Machine-Learning'...\n",
            "remote: Enumerating objects: 53, done.\u001b[K\n",
            "remote: Counting objects: 100% (53/53), done.\u001b[K\n",
            "remote: Compressing objects: 100% (53/53), done.\u001b[K\n",
            "remote: Total 53 (delta 18), reused 16 (delta 0), pack-reused 0\u001b[K\n",
            "Unpacking objects: 100% (53/53), done.\n"
          ],
          "name": "stdout"
        }
      ]
    },
    {
      "cell_type": "code",
      "metadata": {
        "id": "da4-Kujb2baE",
        "colab_type": "code",
        "colab": {}
      },
      "source": [
        "data = pd.read_excel('Machine-Learning/data/sunblinds.xlsx')"
      ],
      "execution_count": 0,
      "outputs": []
    },
    {
      "cell_type": "code",
      "metadata": {
        "id": "SZOnt9qi2baI",
        "colab_type": "code",
        "outputId": "71bb39ac-cd5f-4711-a55d-5bf2f9e43516",
        "colab": {
          "base_uri": "https://localhost:8080/",
          "height": 198
        }
      },
      "source": [
        "data.head()"
      ],
      "execution_count": 6,
      "outputs": [
        {
          "output_type": "execute_result",
          "data": {
            "text/html": [
              "<div>\n",
              "<style scoped>\n",
              "    .dataframe tbody tr th:only-of-type {\n",
              "        vertical-align: middle;\n",
              "    }\n",
              "\n",
              "    .dataframe tbody tr th {\n",
              "        vertical-align: top;\n",
              "    }\n",
              "\n",
              "    .dataframe thead th {\n",
              "        text-align: right;\n",
              "    }\n",
              "</style>\n",
              "<table border=\"1\" class=\"dataframe\">\n",
              "  <thead>\n",
              "    <tr style=\"text-align: right;\">\n",
              "      <th></th>\n",
              "      <th>Time</th>\n",
              "      <th>Temperature</th>\n",
              "      <th>Light</th>\n",
              "      <th>State</th>\n",
              "    </tr>\n",
              "  </thead>\n",
              "  <tbody>\n",
              "    <tr>\n",
              "      <th>0</th>\n",
              "      <td>7.0</td>\n",
              "      <td>21</td>\n",
              "      <td>100</td>\n",
              "      <td>0</td>\n",
              "    </tr>\n",
              "    <tr>\n",
              "      <th>1</th>\n",
              "      <td>8.0</td>\n",
              "      <td>22</td>\n",
              "      <td>130</td>\n",
              "      <td>0</td>\n",
              "    </tr>\n",
              "    <tr>\n",
              "      <th>2</th>\n",
              "      <td>9.0</td>\n",
              "      <td>24</td>\n",
              "      <td>150</td>\n",
              "      <td>0</td>\n",
              "    </tr>\n",
              "    <tr>\n",
              "      <th>3</th>\n",
              "      <td>10.0</td>\n",
              "      <td>24</td>\n",
              "      <td>200</td>\n",
              "      <td>1</td>\n",
              "    </tr>\n",
              "    <tr>\n",
              "      <th>4</th>\n",
              "      <td>11.0</td>\n",
              "      <td>25</td>\n",
              "      <td>300</td>\n",
              "      <td>1</td>\n",
              "    </tr>\n",
              "  </tbody>\n",
              "</table>\n",
              "</div>"
            ],
            "text/plain": [
              "   Time  Temperature  Light  State\n",
              "0   7.0           21    100      0\n",
              "1   8.0           22    130      0\n",
              "2   9.0           24    150      0\n",
              "3  10.0           24    200      1\n",
              "4  11.0           25    300      1"
            ]
          },
          "metadata": {
            "tags": []
          },
          "execution_count": 6
        }
      ]
    },
    {
      "cell_type": "code",
      "metadata": {
        "id": "bAUdrGXY2baM",
        "colab_type": "code",
        "colab": {}
      },
      "source": [
        "x = np.array(data[['Time','Temperature','Light']])\n",
        "y = np.array(data[['State']]).ravel()"
      ],
      "execution_count": 0,
      "outputs": []
    },
    {
      "cell_type": "code",
      "metadata": {
        "id": "XfGghWZx2baQ",
        "colab_type": "code",
        "outputId": "594a61d4-be7a-40ea-cf83-2f9eb28eb6ae",
        "colab": {
          "base_uri": "https://localhost:8080/",
          "height": 104
        }
      },
      "source": [
        "log_reg=LogisticRegression()\n",
        "log_reg.fit(x,y)\n"
      ],
      "execution_count": 8,
      "outputs": [
        {
          "output_type": "execute_result",
          "data": {
            "text/plain": [
              "LogisticRegression(C=1.0, class_weight=None, dual=False, fit_intercept=True,\n",
              "                   intercept_scaling=1, l1_ratio=None, max_iter=100,\n",
              "                   multi_class='auto', n_jobs=None, penalty='l2',\n",
              "                   random_state=None, solver='lbfgs', tol=0.0001, verbose=0,\n",
              "                   warm_start=False)"
            ]
          },
          "metadata": {
            "tags": []
          },
          "execution_count": 8
        }
      ]
    },
    {
      "cell_type": "code",
      "metadata": {
        "id": "0FE-vTZr2baT",
        "colab_type": "code",
        "outputId": "2f0742db-695c-4685-a65d-50deab5519c9",
        "colab": {
          "base_uri": "https://localhost:8080/",
          "height": 86
        }
      },
      "source": [
        "time = input(\"Enter time: \")\n",
        "temp = input(\"Enter temp: \")\n",
        "light= input(\"Enter light intensity: \")\n",
        "data_input =[]\n",
        "data_input.append(float(time))\n",
        "data_input.append(float(temp))\n",
        "data_input.append(float(light))\n",
        "a=log_reg.predict([data_input])\n",
        "if a[0]==0:\n",
        "    print('The Sunblinds will be Down')\n",
        "else :\n",
        "    print('The Sunblinds will be Up')\n"
      ],
      "execution_count": 9,
      "outputs": [
        {
          "output_type": "stream",
          "text": [
            "Enter time: 09.12\n",
            "Enter temp: 26\n",
            "Enter light intensity: 234\n",
            "The sunblinds will be Up\n"
          ],
          "name": "stdout"
        }
      ]
    },
    {
      "cell_type": "code",
      "metadata": {
        "id": "969cAHA52baa",
        "colab_type": "code",
        "colab": {}
      },
      "source": [
        "# conventional way to import seaborn\n",
        "import seaborn as sns\n",
        "\n",
        "# allow plots to appear within the notebook\n",
        "#%matplotlib inline"
      ],
      "execution_count": 0,
      "outputs": []
    },
    {
      "cell_type": "code",
      "metadata": {
        "id": "GOyYPoHE2bad",
        "colab_type": "code",
        "outputId": "ea944f67-df37-420e-dcdb-da5250ebb941",
        "colab": {
          "base_uri": "https://localhost:8080/",
          "height": 548
        }
      },
      "source": [
        "# visualize the relationship between the features and the response using scatterplots\n",
        "# this produces pairs of scatterplot as shown\n",
        "# use aspect= to control the size of the graphs\n",
        "# use kind='reg' to plot linear regression on the graph\n",
        "sns.pairplot(data, x_vars=['Time', 'Temperature', 'Light'], y_vars='State', height=7, aspect=0.7, kind='reg')"
      ],
      "execution_count": 11,
      "outputs": [
        {
          "output_type": "execute_result",
          "data": {
            "text/plain": [
              "<seaborn.axisgrid.PairGrid at 0x7f679d6d4400>"
            ]
          },
          "metadata": {
            "tags": []
          },
          "execution_count": 11
        },
        {
          "output_type": "display_data",
          "data": {
            "image/png": "[encoded data removed]",
            "text/plain": [
              "<Figure size 1058.4x504 with 3 Axes>"
            ]
          },
          "metadata": {
            "tags": []
          }
        }
      ]
    },
    {
      "cell_type": "code",
      "metadata": {
        "id": "Rs_Jh_l32bag",
        "colab_type": "code",
        "colab": {}
      },
      "source": [
        "from sklearn.linear_model import LinearRegression"
      ],
      "execution_count": 0,
      "outputs": []
    },
    {
      "cell_type": "code",
      "metadata": {
        "id": "Fwy-uguw2bal",
        "colab_type": "code",
        "colab": {}
      },
      "source": [
        "X = np.array(data[['Time','Temperature']])\n",
        "Y = np.array(data[['Light']]).ravel()"
      ],
      "execution_count": 0,
      "outputs": []
    },
    {
      "cell_type": "code",
      "metadata": {
        "id": "gRLh9bYR2ban",
        "colab_type": "code",
        "outputId": "0601e982-755f-4ffd-f5e6-a3f72d3e3d4b",
        "colab": {
          "base_uri": "https://localhost:8080/",
          "height": 35
        }
      },
      "source": [
        "regressor = LinearRegression()\n",
        "\n",
        "# fit the model to the training data (learn the coefficients)\n",
        "regressor.fit(X,Y)"
      ],
      "execution_count": 14,
      "outputs": [
        {
          "output_type": "execute_result",
          "data": {
            "text/plain": [
              "LinearRegression(copy_X=True, fit_intercept=True, n_jobs=None, normalize=False)"
            ]
          },
          "metadata": {
            "tags": []
          },
          "execution_count": 14
        }
      ]
    },
    {
      "cell_type": "code",
      "metadata": {
        "id": "IJB79U822baq",
        "colab_type": "code",
        "outputId": "c5a7f459-3ae3-4a53-ad65-993170fe45a6",
        "colab": {
          "base_uri": "https://localhost:8080/",
          "height": 69
        }
      },
      "source": [
        "time = input(\"Enter time: \")\n",
        "temp = input(\"Enter temp: \")\n",
        "data_input =[]\n",
        "data_input.append(float(time))\n",
        "data_input.append(float(temp))\n",
        "a=regressor.predict([data_input])\n",
        "if a<0: \n",
        "    print('the Light intensity will be 0')\n",
        "else :\n",
        "    print('the Light intensity will be',a[0])"
      ],
      "execution_count": 15,
      "outputs": [
        {
          "output_type": "stream",
          "text": [
            "Enter time: 15.23\n",
            "Enter temp: 24\n",
            "the Light intensity will be 270.55986694133856\n"
          ],
          "name": "stdout"
        }
      ]
    },
    {
      "cell_type": "code",
      "metadata": {
        "id": "UKzK9KGM2bat",
        "colab_type": "code",
        "colab": {}
      },
      "source": [
        ""
      ],
      "execution_count": 0,
      "outputs": []
    }
  ]
}